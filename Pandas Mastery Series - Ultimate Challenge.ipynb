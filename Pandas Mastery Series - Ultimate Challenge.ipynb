{
 "cells": [
  {
   "cell_type": "markdown",
   "id": "2fe030f1",
   "metadata": {},
   "source": [
    "# Pandas Mastery Series\n",
    "* Numerous questions designed to test data manipulation skills\n",
    "\n",
    "## Table of Contents\n",
    "\n",
    "* [Q1 - The Great Data Merge Maze](#chapter1) \n",
    "* [Q2 - Time Travel with Multi-Index](#chapter2) \n",
    "* [Q3 - The GroupBy Gauntlet](#chapter3) \n",
    "* [Q4 - Regex Riddles in Data Cleaning](#chapter4) \n",
    "* [Q5 - Speed Demon Data Manipulation](#chapter5) \n",
    "* [Q6 - Recursive Riddle](#chapter6)\n",
    "* [Q7 - Statistician's Nightmare](#chapter7)\n",
    "* [Q8 - Pivot Table Puzzles](#chapter8)\n",
    "* [Q9 - Aggregation Aggravation](#chapter9)\n",
    "* [Q10 - Visual Magic with Pandas](#chapter10) \n",
    "* [Q11 - Nested Data Labyrinth](#chapter11) \n",
    "* [Q12 - Async Adventures in Data](#chapter12) \n",
    "* [Q13 - Geo Pandas Adventure](#chapter13) \n",
    "* [Q14 - Network Nexus Analysis](#chapter14) \n",
    "* [Q15 - High Dimensional Hide and Seek](#chapter15) \n",
    "* [Q16 - Real-time Data Rush](#chapter16) \n",
    "* [Q17 - Machine Learning Preprocess Pandemonium](#chapter17) \n",
    "* [Q18 - Text Tango with Pandas](#chapter18) \n",
    "* [Q19 - Anomaly Detection Drama](#chapter19) \n",
    "* [Q20 - Imputation Imbroglio](#chapter20) \n"
   ]
  },
  {
   "cell_type": "markdown",
   "id": "6877a4a4",
   "metadata": {},
   "source": [
    "## Q1 - The Great Data Merge Maze <a class=\"anchor\" id=\"chapter1\"></a>\n",
    "\n",
    "Question: Welcome to the Great Data Merge Maze! You are given three datasets: customers, orders, and products. Your task is to merge these datasets to answer the following questions:\n",
    "\n",
    "1. Which customers ordered which products and at what price?\n",
    "2. Calculate the total amount spent by each customer.\n",
    "3. Identify the top 2 customers who spent the most.\n",
    "4. Determine which products were never ordered.\n",
    "5. Find the customer who ordered the highest quantity of a single product.\n",
    "\n",
    "Datasets:\n",
    "\n",
    "* customers: Contains customer IDs and names.\n",
    "* orders: Contains order IDs, customer IDs, product IDs, and order quantities.\n",
    "* products: Contains product IDs, names, and prices.\n",
    "\n",
    "Generate synthetic data for the datasets and merge them to find the answers."
   ]
  },
  {
   "cell_type": "code",
   "execution_count": 1,
   "id": "90dbd840",
   "metadata": {},
   "outputs": [
    {
     "name": "stdout",
     "output_type": "stream",
     "text": [
      "Customers DataFrame:\n",
      "   customer_id customer_name\n",
      "0            1  Alice Apples\n",
      "1            2   Bob Bananas \n",
      "\n",
      "Products DataFrame:\n",
      "   product_id   product_name  product_price\n",
      "0           1  Widget Wonder          59.39\n",
      "1           2    Gizmo Glitz          74.37 \n",
      "\n",
      "Orders DataFrame:\n",
      "   order_id  customer_id  product_id  order_quantity\n",
      "0         1            7           4               9\n",
      "1         2            8           4               5\n"
     ]
    }
   ],
   "source": [
    "import pandas as pd\n",
    "import numpy as np\n",
    "\n",
    "# Seed for reproducibility\n",
    "np.random.seed(0)\n",
    "\n",
    "# Customers DataFrame\n",
    "customers = pd.DataFrame({\n",
    "    'customer_id': range(1, 11),\n",
    "    'customer_name': ['Alice Apples', 'Bob Bananas', 'Charlie Cherries', 'David Dates', 'Eve Elderberries', 'Frank Figs', 'Grace Grapes', 'Hannah Honeydew', 'Ivy Iceberg', 'Jack Jicama']\n",
    "})\n",
    "\n",
    "# Products DataFrame\n",
    "products = pd.DataFrame({\n",
    "    'product_id': range(1, 11),\n",
    "    'product_name': ['Widget Wonder', 'Gizmo Glitz', 'Doodad Delight', 'Thingamajig Thrill', 'Contraption Charm', 'Gadget Glow', 'Whatchamacallit Whimsy', 'Doohickey Dazzle', 'Whatsit Whiz', 'Gubbins Galore'],\n",
    "    'product_price': np.random.uniform(10, 100, size=10).round(2)\n",
    "})\n",
    "\n",
    "# Orders DataFrame\n",
    "orders = pd.DataFrame({\n",
    "    'order_id': range(1, 21),\n",
    "    'customer_id': np.random.choice(customers['customer_id'], size=20),\n",
    "    'product_id': np.random.choice(products['product_id'], size=20),\n",
    "    'order_quantity': np.random.randint(1, 10, size=20)\n",
    "})\n",
    "\n",
    "# Display the datasets\n",
    "print(\"Customers DataFrame:\")\n",
    "print(customers.head(2), \"\\n\")\n",
    "print(\"Products DataFrame:\")\n",
    "print(products.head(2), \"\\n\")\n",
    "print(\"Orders DataFrame:\")\n",
    "print(orders.head(2))"
   ]
  },
  {
   "cell_type": "markdown",
   "id": "92469f5e",
   "metadata": {},
   "source": [
    "### Question 1.1 - Which customers ordered which products and at what price?"
   ]
  },
  {
   "cell_type": "code",
   "execution_count": 2,
   "id": "d7e103a6",
   "metadata": {},
   "outputs": [
    {
     "data": {
      "text/html": [
       "<div>\n",
       "<style scoped>\n",
       "    .dataframe tbody tr th:only-of-type {\n",
       "        vertical-align: middle;\n",
       "    }\n",
       "\n",
       "    .dataframe tbody tr th {\n",
       "        vertical-align: top;\n",
       "    }\n",
       "\n",
       "    .dataframe thead th {\n",
       "        text-align: right;\n",
       "    }\n",
       "</style>\n",
       "<table border=\"1\" class=\"dataframe\">\n",
       "  <thead>\n",
       "    <tr style=\"text-align: right;\">\n",
       "      <th></th>\n",
       "      <th>order_id</th>\n",
       "      <th>customer_id</th>\n",
       "      <th>product_id</th>\n",
       "      <th>order_quantity</th>\n",
       "      <th>customer_name</th>\n",
       "      <th>product_name</th>\n",
       "      <th>product_price</th>\n",
       "    </tr>\n",
       "  </thead>\n",
       "  <tbody>\n",
       "    <tr>\n",
       "      <th>0</th>\n",
       "      <td>1</td>\n",
       "      <td>7</td>\n",
       "      <td>4</td>\n",
       "      <td>9</td>\n",
       "      <td>Grace Grapes</td>\n",
       "      <td>Thingamajig Thrill</td>\n",
       "      <td>59.04</td>\n",
       "    </tr>\n",
       "    <tr>\n",
       "      <th>1</th>\n",
       "      <td>2</td>\n",
       "      <td>8</td>\n",
       "      <td>4</td>\n",
       "      <td>5</td>\n",
       "      <td>Hannah Honeydew</td>\n",
       "      <td>Thingamajig Thrill</td>\n",
       "      <td>59.04</td>\n",
       "    </tr>\n",
       "    <tr>\n",
       "      <th>2</th>\n",
       "      <td>3</td>\n",
       "      <td>8</td>\n",
       "      <td>8</td>\n",
       "      <td>2</td>\n",
       "      <td>Hannah Honeydew</td>\n",
       "      <td>Doohickey Dazzle</td>\n",
       "      <td>90.26</td>\n",
       "    </tr>\n",
       "    <tr>\n",
       "      <th>3</th>\n",
       "      <td>4</td>\n",
       "      <td>9</td>\n",
       "      <td>1</td>\n",
       "      <td>5</td>\n",
       "      <td>Ivy Iceberg</td>\n",
       "      <td>Widget Wonder</td>\n",
       "      <td>59.39</td>\n",
       "    </tr>\n",
       "    <tr>\n",
       "      <th>4</th>\n",
       "      <td>5</td>\n",
       "      <td>2</td>\n",
       "      <td>2</td>\n",
       "      <td>9</td>\n",
       "      <td>Bob Bananas</td>\n",
       "      <td>Gizmo Glitz</td>\n",
       "      <td>74.37</td>\n",
       "    </tr>\n",
       "  </tbody>\n",
       "</table>\n",
       "</div>"
      ],
      "text/plain": [
       "   order_id  customer_id  product_id  order_quantity    customer_name  \\\n",
       "0         1            7           4               9     Grace Grapes   \n",
       "1         2            8           4               5  Hannah Honeydew   \n",
       "2         3            8           8               2  Hannah Honeydew   \n",
       "3         4            9           1               5      Ivy Iceberg   \n",
       "4         5            2           2               9      Bob Bananas   \n",
       "\n",
       "         product_name  product_price  \n",
       "0  Thingamajig Thrill          59.04  \n",
       "1  Thingamajig Thrill          59.04  \n",
       "2    Doohickey Dazzle          90.26  \n",
       "3       Widget Wonder          59.39  \n",
       "4         Gizmo Glitz          74.37  "
      ]
     },
     "execution_count": 2,
     "metadata": {},
     "output_type": "execute_result"
    }
   ],
   "source": [
    "# Here I am looking for common columns between the dataframes and conclude its easiest \n",
    "# to merge the Customers and Products dataframes into the Orders dataframe\n",
    "\n",
    "# Merge customers into orders\n",
    "ord_cust_df = pd.merge(orders, customers, on='customer_id', how=\"left\")\n",
    "\n",
    "# Merge products into orders + customers\n",
    "combined_df = pd.merge(ord_cust_df, products, on='product_id', how='left')\n",
    "\n",
    "combined_df.head()"
   ]
  },
  {
   "cell_type": "markdown",
   "id": "8d1dd75e",
   "metadata": {},
   "source": [
    "The resulting table answers question 1.1 by giving a clear way of seeing which customers ordered which products and at what price."
   ]
  },
  {
   "cell_type": "markdown",
   "id": "4ca47362",
   "metadata": {},
   "source": [
    "### Question 1.2 - Calculate the total amount spent by each customer."
   ]
  },
  {
   "cell_type": "code",
   "execution_count": 3,
   "id": "d4c45ff7",
   "metadata": {},
   "outputs": [
    {
     "data": {
      "text/html": [
       "<div>\n",
       "<style scoped>\n",
       "    .dataframe tbody tr th:only-of-type {\n",
       "        vertical-align: middle;\n",
       "    }\n",
       "\n",
       "    .dataframe tbody tr th {\n",
       "        vertical-align: top;\n",
       "    }\n",
       "\n",
       "    .dataframe thead th {\n",
       "        text-align: right;\n",
       "    }\n",
       "</style>\n",
       "<table border=\"1\" class=\"dataframe\">\n",
       "  <thead>\n",
       "    <tr style=\"text-align: right;\">\n",
       "      <th></th>\n",
       "      <th>order_id</th>\n",
       "      <th>customer_id</th>\n",
       "      <th>product_id</th>\n",
       "      <th>order_quantity</th>\n",
       "      <th>customer_name</th>\n",
       "      <th>product_name</th>\n",
       "      <th>product_price</th>\n",
       "      <th>order_sum</th>\n",
       "    </tr>\n",
       "  </thead>\n",
       "  <tbody>\n",
       "    <tr>\n",
       "      <th>0</th>\n",
       "      <td>1</td>\n",
       "      <td>7</td>\n",
       "      <td>4</td>\n",
       "      <td>9</td>\n",
       "      <td>Grace Grapes</td>\n",
       "      <td>Thingamajig Thrill</td>\n",
       "      <td>59.04</td>\n",
       "      <td>531.36</td>\n",
       "    </tr>\n",
       "    <tr>\n",
       "      <th>1</th>\n",
       "      <td>2</td>\n",
       "      <td>8</td>\n",
       "      <td>4</td>\n",
       "      <td>5</td>\n",
       "      <td>Hannah Honeydew</td>\n",
       "      <td>Thingamajig Thrill</td>\n",
       "      <td>59.04</td>\n",
       "      <td>295.20</td>\n",
       "    </tr>\n",
       "    <tr>\n",
       "      <th>2</th>\n",
       "      <td>3</td>\n",
       "      <td>8</td>\n",
       "      <td>8</td>\n",
       "      <td>2</td>\n",
       "      <td>Hannah Honeydew</td>\n",
       "      <td>Doohickey Dazzle</td>\n",
       "      <td>90.26</td>\n",
       "      <td>180.52</td>\n",
       "    </tr>\n",
       "    <tr>\n",
       "      <th>3</th>\n",
       "      <td>4</td>\n",
       "      <td>9</td>\n",
       "      <td>1</td>\n",
       "      <td>5</td>\n",
       "      <td>Ivy Iceberg</td>\n",
       "      <td>Widget Wonder</td>\n",
       "      <td>59.39</td>\n",
       "      <td>296.95</td>\n",
       "    </tr>\n",
       "    <tr>\n",
       "      <th>4</th>\n",
       "      <td>5</td>\n",
       "      <td>2</td>\n",
       "      <td>2</td>\n",
       "      <td>9</td>\n",
       "      <td>Bob Bananas</td>\n",
       "      <td>Gizmo Glitz</td>\n",
       "      <td>74.37</td>\n",
       "      <td>669.33</td>\n",
       "    </tr>\n",
       "  </tbody>\n",
       "</table>\n",
       "</div>"
      ],
      "text/plain": [
       "   order_id  customer_id  product_id  order_quantity    customer_name  \\\n",
       "0         1            7           4               9     Grace Grapes   \n",
       "1         2            8           4               5  Hannah Honeydew   \n",
       "2         3            8           8               2  Hannah Honeydew   \n",
       "3         4            9           1               5      Ivy Iceberg   \n",
       "4         5            2           2               9      Bob Bananas   \n",
       "\n",
       "         product_name  product_price  order_sum  \n",
       "0  Thingamajig Thrill          59.04     531.36  \n",
       "1  Thingamajig Thrill          59.04     295.20  \n",
       "2    Doohickey Dazzle          90.26     180.52  \n",
       "3       Widget Wonder          59.39     296.95  \n",
       "4         Gizmo Glitz          74.37     669.33  "
      ]
     },
     "execution_count": 3,
     "metadata": {},
     "output_type": "execute_result"
    }
   ],
   "source": [
    "# For question 1.2 first thing I notice is each order only have a single row so all I have to do to \n",
    "# calculate the total amount spent by each customer is to multiply order_quantity with product_price \n",
    "# for each order and add up the orders from the same person\n",
    "\n",
    "# First off rename the dataframe for clearer readability \n",
    "df = combined_df\n",
    "\n",
    "# Add new column order_sum\n",
    "df['order_sum'] = df['order_quantity'] * df['product_price']\n",
    "\n",
    "df.head()"
   ]
  },
  {
   "cell_type": "code",
   "execution_count": 4,
   "id": "9a7814e1",
   "metadata": {},
   "outputs": [
    {
     "data": {
      "text/html": [
       "<div>\n",
       "<style scoped>\n",
       "    .dataframe tbody tr th:only-of-type {\n",
       "        vertical-align: middle;\n",
       "    }\n",
       "\n",
       "    .dataframe tbody tr th {\n",
       "        vertical-align: top;\n",
       "    }\n",
       "\n",
       "    .dataframe thead th {\n",
       "        text-align: right;\n",
       "    }\n",
       "</style>\n",
       "<table border=\"1\" class=\"dataframe\">\n",
       "  <thead>\n",
       "    <tr style=\"text-align: right;\">\n",
       "      <th></th>\n",
       "      <th>customer_name</th>\n",
       "      <th>total sum spent</th>\n",
       "    </tr>\n",
       "  </thead>\n",
       "  <tbody>\n",
       "    <tr>\n",
       "      <th>0</th>\n",
       "      <td>Alice Apples</td>\n",
       "      <td>549.09</td>\n",
       "    </tr>\n",
       "    <tr>\n",
       "      <th>1</th>\n",
       "      <td>Bob Bananas</td>\n",
       "      <td>1009.98</td>\n",
       "    </tr>\n",
       "    <tr>\n",
       "      <th>2</th>\n",
       "      <td>Charlie Cherries</td>\n",
       "      <td>296.95</td>\n",
       "    </tr>\n",
       "    <tr>\n",
       "      <th>3</th>\n",
       "      <td>David Dates</td>\n",
       "      <td>1050.13</td>\n",
       "    </tr>\n",
       "    <tr>\n",
       "      <th>4</th>\n",
       "      <td>Eve Elderberries</td>\n",
       "      <td>631.82</td>\n",
       "    </tr>\n",
       "    <tr>\n",
       "      <th>5</th>\n",
       "      <td>Frank Figs</td>\n",
       "      <td>346.02</td>\n",
       "    </tr>\n",
       "    <tr>\n",
       "      <th>6</th>\n",
       "      <td>Grace Grapes</td>\n",
       "      <td>531.36</td>\n",
       "    </tr>\n",
       "    <tr>\n",
       "      <th>7</th>\n",
       "      <td>Hannah Honeydew</td>\n",
       "      <td>475.72</td>\n",
       "    </tr>\n",
       "    <tr>\n",
       "      <th>8</th>\n",
       "      <td>Ivy Iceberg</td>\n",
       "      <td>1248.98</td>\n",
       "    </tr>\n",
       "    <tr>\n",
       "      <th>9</th>\n",
       "      <td>Jack Jicama</td>\n",
       "      <td>281.54</td>\n",
       "    </tr>\n",
       "  </tbody>\n",
       "</table>\n",
       "</div>"
      ],
      "text/plain": [
       "      customer_name  total sum spent\n",
       "0      Alice Apples           549.09\n",
       "1       Bob Bananas          1009.98\n",
       "2  Charlie Cherries           296.95\n",
       "3       David Dates          1050.13\n",
       "4  Eve Elderberries           631.82\n",
       "5        Frank Figs           346.02\n",
       "6      Grace Grapes           531.36\n",
       "7   Hannah Honeydew           475.72\n",
       "8       Ivy Iceberg          1248.98\n",
       "9       Jack Jicama           281.54"
      ]
     },
     "execution_count": 4,
     "metadata": {},
     "output_type": "execute_result"
    }
   ],
   "source": [
    "# Group by customer name and add up order_sum\n",
    "customer_total = df.groupby('customer_name')['order_sum'].sum().reset_index()\n",
    "customer_total.columns = ['customer_name', 'total sum spent']\n",
    "customer_total"
   ]
  },
  {
   "cell_type": "markdown",
   "id": "18471a64",
   "metadata": {},
   "source": [
    "The table above answers question 1.2. "
   ]
  },
  {
   "cell_type": "markdown",
   "id": "9fd96997",
   "metadata": {},
   "source": [
    "### Question 1.3 - Identify the top 2 customers who spent the most."
   ]
  },
  {
   "cell_type": "code",
   "execution_count": 5,
   "id": "12fac046",
   "metadata": {},
   "outputs": [
    {
     "data": {
      "image/png": "[encoded data removed]",
      "text/plain": [
       "<Figure size 1000x600 with 1 Axes>"
      ]
     },
     "metadata": {},
     "output_type": "display_data"
    }
   ],
   "source": [
    "# For question 3 I find it easiest to just plot a bar chart\n",
    "import matplotlib.pyplot as plt\n",
    "\n",
    "plt.figure(figsize=(10,6))\n",
    "plt.bar(customer_total['customer_name'], customer_total['total sum spent'])\n",
    "plt.xlabel('Customer Name')\n",
    "plt.ylabel('Total Sum Spent')\n",
    "plt.title('Total Sum Spent by Each Customer')\n",
    "plt.xticks(rotation=45)\n",
    "plt.show()"
   ]
  },
  {
   "cell_type": "markdown",
   "id": "b04af79b",
   "metadata": {},
   "source": [
    "The chart gives away that Ivy Iceberg and David Dates are the top 2 customers who spent the most. "
   ]
  },
  {
   "cell_type": "markdown",
   "id": "dc0f8873",
   "metadata": {},
   "source": [
    "### Question 1.4 - Determine which products were never ordered."
   ]
  },
  {
   "cell_type": "code",
   "execution_count": 6,
   "id": "60c68818",
   "metadata": {},
   "outputs": [
    {
     "name": "stdout",
     "output_type": "stream",
     "text": [
      " product_id product_name\n",
      "          9 Whatsit Whiz\n"
     ]
    }
   ],
   "source": [
    "# Question 1.4 is pretty straight forward, just find all unique products sold and \n",
    "# match that list against the products dataframe\n",
    "\n",
    "# Find all unique products sold\n",
    "products_sold = df['product_id'].unique()\n",
    "\n",
    "# Match unique products sold to the products dataframe \n",
    "products_unsold = products[~products['product_id'].isin(products_sold)]\n",
    "                           \n",
    "print(products_unsold[['product_id', 'product_name']].to_string(index=False))"
   ]
  },
  {
   "cell_type": "markdown",
   "id": "5c14fdbf",
   "metadata": {},
   "source": [
    "Question 1.4: Only the product Whatsit Whiz has not been sold. "
   ]
  },
  {
   "cell_type": "markdown",
   "id": "5458c0e3",
   "metadata": {},
   "source": [
    "### Question 1.5 - Find the customer who ordered the highest quantity of a single product."
   ]
  },
  {
   "cell_type": "code",
   "execution_count": 7,
   "id": "88bb291b",
   "metadata": {},
   "outputs": [
    {
     "data": {
      "text/plain": [
       "customer_name       Ivy Iceberg\n",
       "product_name      Widget Wonder\n",
       "order_quantity               13\n",
       "Name: 16, dtype: object"
      ]
     },
     "execution_count": 7,
     "metadata": {},
     "output_type": "execute_result"
    }
   ],
   "source": [
    "# Question 1.5 I thought was very straight forward by sorting the dataframe by order_quantity but then I realized I also\n",
    "# have to take into account that a customer could order the same products multiple times across different order_ids \n",
    "\n",
    "# Group orders by customer_id & product_id and sum up order_quantity\n",
    "# Here I swapped customer_id & product_id to customer_name & product_name for a cleaner output\n",
    "customer_prod_quant = df.groupby(['customer_name', 'product_name'])['order_quantity'].sum().reset_index()\n",
    "\n",
    "# Locate the highest order_quantity\n",
    "customer_prod_quant.loc[customer_prod_quant['order_quantity'].idxmax()]"
   ]
  },
  {
   "cell_type": "markdown",
   "id": "aa0c280e",
   "metadata": {},
   "source": [
    "Question 1.5: Ivy Iceberg is the customer who ordered the highest quantity of a single product by buying 13 Widget Wonders.\n",
    "\n"
   ]
  },
  {
   "cell_type": "markdown",
   "id": "9f13e48f",
   "metadata": {},
   "source": [
    "## Q2 - Time Travel with Multi-Index <a class=\"anchor\" id=\"chapter2\"></a>\n",
    "\n",
    "Question: Welcome to Time Travel with Multi-Index! You are given a multi-index time series dataset of sales data for different regions and product categories. Your task is to perform advanced time series analysis and manipulation to answer the following questions:\n",
    "\n",
    "1. What is the total sales for each region and product category over time?\n",
    "2. Calculate the moving average of sales for each region and product category.\n",
    "3. Identify the region with the highest sales growth rate.\n",
    "4. Determine the top-selling product category for each region.\n",
    "5. Find the month with the highest overall sales.\n",
    "\n",
    "Datasets:\n",
    "\n",
    "sales_data: Contains multi-index (region, product_category) and columns (date, sales)."
   ]
  },
  {
   "cell_type": "code",
   "execution_count": 8,
   "id": "ebe3245d",
   "metadata": {},
   "outputs": [
    {
     "name": "stdout",
     "output_type": "stream",
     "text": [
      "Sales Data DataFrame:\n",
      "                                        Sales\n",
      "Region     Product_Category Date             \n",
      "North Pole Gizmos           2023-01-31   2061\n",
      "                            2023-02-28   1235\n",
      "                            2023-03-31   4980\n",
      "                            2023-04-30   2096\n",
      "                            2023-05-31   4839\n",
      "...                                       ...\n",
      "Westworld  Thingamajigs     2023-08-31   3224\n",
      "                            2023-09-30   2590\n",
      "                            2023-10-31   4087\n",
      "                            2023-11-30   3949\n",
      "                            2023-12-31   2425\n",
      "\n",
      "[192 rows x 1 columns]\n"
     ]
    }
   ],
   "source": [
    "# Seed for reproducibility\n",
    "np.random.seed(1)\n",
    "\n",
    "# Generate date range\n",
    "date_range = pd.date_range(start='2023-01-01', end='2023-12-31', freq='M')\n",
    "\n",
    "# Regions and product categories\n",
    "regions = ['North Pole', 'South Pole', 'East Egg', 'Westworld']\n",
    "product_categories = ['Gizmos', 'Widgets', 'Doodads', 'Thingamajigs']\n",
    "\n",
    "# Generate synthetic sales data\n",
    "data = []\n",
    "for region in regions:\n",
    "    for category in product_categories:\n",
    "        sales = np.random.randint(1000, 5000, size=len(date_range))\n",
    "        for date, sale in zip(date_range, sales):\n",
    "            data.append([region, category, date, sale])\n",
    "\n",
    "# Create DataFrame\n",
    "sales_data = pd.DataFrame(data, columns=['Region', 'Product_Category', 'Date', 'Sales'])\n",
    "\n",
    "# Set multi-index\n",
    "sales_data.set_index(['Region', 'Product_Category', 'Date'], inplace=True)\n",
    "\n",
    "# Display the dataset\n",
    "print(\"Sales Data DataFrame:\")\n",
    "print(sales_data)"
   ]
  },
  {
   "cell_type": "markdown",
   "id": "b392df22",
   "metadata": {},
   "source": [
    "### Question 2.1 - What is the total sales for each region and product category over time?"
   ]
  },
  {
   "cell_type": "code",
   "execution_count": 9,
   "id": "2b9f93c9",
   "metadata": {},
   "outputs": [
    {
     "data": {
      "text/html": [
       "<div>\n",
       "<style scoped>\n",
       "    .dataframe tbody tr th:only-of-type {\n",
       "        vertical-align: middle;\n",
       "    }\n",
       "\n",
       "    .dataframe tbody tr th {\n",
       "        vertical-align: top;\n",
       "    }\n",
       "\n",
       "    .dataframe thead th {\n",
       "        text-align: right;\n",
       "    }\n",
       "</style>\n",
       "<table border=\"1\" class=\"dataframe\">\n",
       "  <thead>\n",
       "    <tr style=\"text-align: right;\">\n",
       "      <th></th>\n",
       "      <th></th>\n",
       "      <th></th>\n",
       "      <th>Sales</th>\n",
       "    </tr>\n",
       "    <tr>\n",
       "      <th>Region</th>\n",
       "      <th>Product_Category</th>\n",
       "      <th>Date</th>\n",
       "      <th></th>\n",
       "    </tr>\n",
       "  </thead>\n",
       "  <tbody>\n",
       "    <tr>\n",
       "      <th rowspan=\"5\" valign=\"top\">East Egg</th>\n",
       "      <th rowspan=\"5\" valign=\"top\">Doodads</th>\n",
       "      <th>2023-01-31</th>\n",
       "      <td>2393</td>\n",
       "    </tr>\n",
       "    <tr>\n",
       "      <th>2023-02-28</th>\n",
       "      <td>2869</td>\n",
       "    </tr>\n",
       "    <tr>\n",
       "      <th>2023-03-31</th>\n",
       "      <td>2795</td>\n",
       "    </tr>\n",
       "    <tr>\n",
       "      <th>2023-04-30</th>\n",
       "      <td>3944</td>\n",
       "    </tr>\n",
       "    <tr>\n",
       "      <th>2023-05-31</th>\n",
       "      <td>2277</td>\n",
       "    </tr>\n",
       "    <tr>\n",
       "      <th>...</th>\n",
       "      <th>...</th>\n",
       "      <th>...</th>\n",
       "      <td>...</td>\n",
       "    </tr>\n",
       "    <tr>\n",
       "      <th rowspan=\"5\" valign=\"top\">Westworld</th>\n",
       "      <th rowspan=\"5\" valign=\"top\">Widgets</th>\n",
       "      <th>2023-08-31</th>\n",
       "      <td>3464</td>\n",
       "    </tr>\n",
       "    <tr>\n",
       "      <th>2023-09-30</th>\n",
       "      <td>4212</td>\n",
       "    </tr>\n",
       "    <tr>\n",
       "      <th>2023-10-31</th>\n",
       "      <td>4265</td>\n",
       "    </tr>\n",
       "    <tr>\n",
       "      <th>2023-11-30</th>\n",
       "      <td>1606</td>\n",
       "    </tr>\n",
       "    <tr>\n",
       "      <th>2023-12-31</th>\n",
       "      <td>4644</td>\n",
       "    </tr>\n",
       "  </tbody>\n",
       "</table>\n",
       "<p>192 rows × 1 columns</p>\n",
       "</div>"
      ],
      "text/plain": [
       "                                       Sales\n",
       "Region    Product_Category Date             \n",
       "East Egg  Doodads          2023-01-31   2393\n",
       "                           2023-02-28   2869\n",
       "                           2023-03-31   2795\n",
       "                           2023-04-30   3944\n",
       "                           2023-05-31   2277\n",
       "...                                      ...\n",
       "Westworld Widgets          2023-08-31   3464\n",
       "                           2023-09-30   4212\n",
       "                           2023-10-31   4265\n",
       "                           2023-11-30   1606\n",
       "                           2023-12-31   4644\n",
       "\n",
       "[192 rows x 1 columns]"
      ]
     },
     "execution_count": 9,
     "metadata": {},
     "output_type": "execute_result"
    }
   ],
   "source": [
    "# I can find total sales by grouping Region, Product_Category & Date, then sum up the sales\n",
    "total_sales = sales_data.groupby(['Region', 'Product_Category', 'Date']).sum()\n",
    "\n",
    "total_sales"
   ]
  },
  {
   "cell_type": "markdown",
   "id": "3e11cddd",
   "metadata": {},
   "source": [
    "Question 2.1: This dataframe contains all data asked for and can be used for further analyzation and visualization."
   ]
  },
  {
   "cell_type": "markdown",
   "id": "7881fb96",
   "metadata": {},
   "source": [
    "### Question 2.2 - Calculate the moving average of sales for each region and product category."
   ]
  },
  {
   "cell_type": "code",
   "execution_count": 10,
   "id": "3f7c4838",
   "metadata": {},
   "outputs": [
    {
     "data": {
      "text/html": [
       "<div>\n",
       "<style scoped>\n",
       "    .dataframe tbody tr th:only-of-type {\n",
       "        vertical-align: middle;\n",
       "    }\n",
       "\n",
       "    .dataframe tbody tr th {\n",
       "        vertical-align: top;\n",
       "    }\n",
       "\n",
       "    .dataframe thead th {\n",
       "        text-align: right;\n",
       "    }\n",
       "</style>\n",
       "<table border=\"1\" class=\"dataframe\">\n",
       "  <thead>\n",
       "    <tr style=\"text-align: right;\">\n",
       "      <th></th>\n",
       "      <th></th>\n",
       "      <th></th>\n",
       "      <th>Moving Average</th>\n",
       "    </tr>\n",
       "    <tr>\n",
       "      <th>Region</th>\n",
       "      <th>Product_Category</th>\n",
       "      <th>Date</th>\n",
       "      <th></th>\n",
       "    </tr>\n",
       "  </thead>\n",
       "  <tbody>\n",
       "    <tr>\n",
       "      <th rowspan=\"5\" valign=\"top\">East Egg</th>\n",
       "      <th rowspan=\"5\" valign=\"top\">Doodads</th>\n",
       "      <th>2023-01-31</th>\n",
       "      <td>NaN</td>\n",
       "    </tr>\n",
       "    <tr>\n",
       "      <th>2023-02-28</th>\n",
       "      <td>NaN</td>\n",
       "    </tr>\n",
       "    <tr>\n",
       "      <th>2023-03-31</th>\n",
       "      <td>2685.666667</td>\n",
       "    </tr>\n",
       "    <tr>\n",
       "      <th>2023-04-30</th>\n",
       "      <td>3202.666667</td>\n",
       "    </tr>\n",
       "    <tr>\n",
       "      <th>2023-05-31</th>\n",
       "      <td>3005.333333</td>\n",
       "    </tr>\n",
       "    <tr>\n",
       "      <th>...</th>\n",
       "      <th>...</th>\n",
       "      <th>...</th>\n",
       "      <td>...</td>\n",
       "    </tr>\n",
       "    <tr>\n",
       "      <th rowspan=\"5\" valign=\"top\">Westworld</th>\n",
       "      <th rowspan=\"5\" valign=\"top\">Widgets</th>\n",
       "      <th>2023-08-31</th>\n",
       "      <td>4248.000000</td>\n",
       "    </tr>\n",
       "    <tr>\n",
       "      <th>2023-09-30</th>\n",
       "      <td>4136.000000</td>\n",
       "    </tr>\n",
       "    <tr>\n",
       "      <th>2023-10-31</th>\n",
       "      <td>3980.333333</td>\n",
       "    </tr>\n",
       "    <tr>\n",
       "      <th>2023-11-30</th>\n",
       "      <td>3361.000000</td>\n",
       "    </tr>\n",
       "    <tr>\n",
       "      <th>2023-12-31</th>\n",
       "      <td>3505.000000</td>\n",
       "    </tr>\n",
       "  </tbody>\n",
       "</table>\n",
       "<p>192 rows × 1 columns</p>\n",
       "</div>"
      ],
      "text/plain": [
       "                                       Moving Average\n",
       "Region    Product_Category Date                      \n",
       "East Egg  Doodads          2023-01-31             NaN\n",
       "                           2023-02-28             NaN\n",
       "                           2023-03-31     2685.666667\n",
       "                           2023-04-30     3202.666667\n",
       "                           2023-05-31     3005.333333\n",
       "...                                               ...\n",
       "Westworld Widgets          2023-08-31     4248.000000\n",
       "                           2023-09-30     4136.000000\n",
       "                           2023-10-31     3980.333333\n",
       "                           2023-11-30     3361.000000\n",
       "                           2023-12-31     3505.000000\n",
       "\n",
       "[192 rows x 1 columns]"
      ]
     },
     "execution_count": 10,
     "metadata": {},
     "output_type": "execute_result"
    }
   ],
   "source": [
    "# I can use the rolling() method to calculate this, currently set to calculate moving average over 3 months\n",
    "moving_average_sales = total_sales.groupby(['Region', 'Product_Category'])['Sales'].rolling(window=3).mean()\n",
    "\n",
    "# Specify name to new column\n",
    "moving_average_sales.name = 'Moving Average'\n",
    "\n",
    "# Reset index for better output\n",
    "moving_average_sales = moving_average_sales.reset_index(level=[0,1])\n",
    "\n",
    "# Drop duplicated columns\n",
    "moving_average_sales = moving_average_sales.drop(moving_average_sales.columns[[0,1]], axis=1)\n",
    "\n",
    "moving_average_sales"
   ]
  },
  {
   "cell_type": "markdown",
   "id": "96f74664",
   "metadata": {},
   "source": [
    "Question 2.2: A column for the moving average over 3 months is provided. The first two entries are NaN because there is not enough data to calculate those entries. "
   ]
  },
  {
   "cell_type": "markdown",
   "id": "952e5135",
   "metadata": {},
   "source": [
    "### Question 2.3: Identify the region with the highest sales growth rate."
   ]
  },
  {
   "cell_type": "code",
   "execution_count": 11,
   "id": "d82a792c",
   "metadata": {},
   "outputs": [
    {
     "data": {
      "text/plain": [
       "'North Pole'"
      ]
     },
     "execution_count": 11,
     "metadata": {},
     "output_type": "execute_result"
    }
   ],
   "source": [
    "# Calculate the percentage change in total sales for each region\n",
    "sales_growth = total_sales.groupby('Region').sum().pct_change().fillna(0)\n",
    "\n",
    "# Identify the region with highest growth\n",
    "highest_region = sales_growth['Sales'].idxmax()\n",
    "\n",
    "highest_region"
   ]
  },
  {
   "cell_type": "markdown",
   "id": "6bb07a12",
   "metadata": {},
   "source": [
    "The region with the highest sales growth rate is North Pole."
   ]
  },
  {
   "cell_type": "markdown",
   "id": "2ad932e4",
   "metadata": {},
   "source": [
    "### Question 2.4: Determine the top-selling product category for each region."
   ]
  },
  {
   "cell_type": "code",
   "execution_count": 12,
   "id": "a1227278",
   "metadata": {},
   "outputs": [
    {
     "data": {
      "text/html": [
       "<div>\n",
       "<style scoped>\n",
       "    .dataframe tbody tr th:only-of-type {\n",
       "        vertical-align: middle;\n",
       "    }\n",
       "\n",
       "    .dataframe tbody tr th {\n",
       "        vertical-align: top;\n",
       "    }\n",
       "\n",
       "    .dataframe thead th {\n",
       "        text-align: right;\n",
       "    }\n",
       "</style>\n",
       "<table border=\"1\" class=\"dataframe\">\n",
       "  <thead>\n",
       "    <tr style=\"text-align: right;\">\n",
       "      <th></th>\n",
       "      <th>Region</th>\n",
       "      <th>Product_Category</th>\n",
       "      <th>Sales</th>\n",
       "    </tr>\n",
       "  </thead>\n",
       "  <tbody>\n",
       "    <tr>\n",
       "      <th>1</th>\n",
       "      <td>East Egg</td>\n",
       "      <td>Gizmos</td>\n",
       "      <td>38459</td>\n",
       "    </tr>\n",
       "    <tr>\n",
       "      <th>7</th>\n",
       "      <td>North Pole</td>\n",
       "      <td>Widgets</td>\n",
       "      <td>40393</td>\n",
       "    </tr>\n",
       "    <tr>\n",
       "      <th>10</th>\n",
       "      <td>South Pole</td>\n",
       "      <td>Thingamajigs</td>\n",
       "      <td>39617</td>\n",
       "    </tr>\n",
       "    <tr>\n",
       "      <th>13</th>\n",
       "      <td>Westworld</td>\n",
       "      <td>Gizmos</td>\n",
       "      <td>40665</td>\n",
       "    </tr>\n",
       "  </tbody>\n",
       "</table>\n",
       "</div>"
      ],
      "text/plain": [
       "        Region Product_Category  Sales\n",
       "1     East Egg           Gizmos  38459\n",
       "7   North Pole          Widgets  40393\n",
       "10  South Pole     Thingamajigs  39617\n",
       "13   Westworld           Gizmos  40665"
      ]
     },
     "execution_count": 12,
     "metadata": {},
     "output_type": "execute_result"
    }
   ],
   "source": [
    "# Group by Region and Product_Category, then sum the sales\n",
    "region_category_sales = sales_data.groupby(['Region', 'Product_Category'])['Sales'].sum().reset_index()\n",
    "\n",
    "# Identify the top-selling category for each region\n",
    "top_selling_categories = region_category_sales.loc[region_category_sales.groupby('Region')['Sales'].idxmax()]\n",
    "\n",
    "top_selling_categories"
   ]
  },
  {
   "cell_type": "markdown",
   "id": "6856c07c",
   "metadata": {},
   "source": [
    "Question 2.4: The table above gives the top-selling product category for each region"
   ]
  },
  {
   "cell_type": "markdown",
   "id": "4bc82bd3",
   "metadata": {},
   "source": [
    "### Question 2.5: Find the month with the highest overall sales."
   ]
  },
  {
   "cell_type": "code",
   "execution_count": 13,
   "id": "ab4aafb3",
   "metadata": {},
   "outputs": [
    {
     "data": {
      "text/plain": [
       "YearMonth    2023-05\n",
       "Sales          57533\n",
       "Name: 4, dtype: object"
      ]
     },
     "execution_count": 13,
     "metadata": {},
     "output_type": "execute_result"
    }
   ],
   "source": [
    "# Make a new column with year and month\n",
    "sales_data['YearMonth'] = sales_data.index.get_level_values('Date').to_period('M')\n",
    "\n",
    "# Group by YearMonth then sum the sales\n",
    "monthly_sales = sales_data.groupby('YearMonth')['Sales'].sum().reset_index()\n",
    "\n",
    "# Identify the month with the highest sales\n",
    "best_month = monthly_sales.loc[monthly_sales['Sales'].idxmax()]\n",
    "\n",
    "best_month"
   ]
  },
  {
   "cell_type": "markdown",
   "id": "c3cedabe",
   "metadata": {},
   "source": [
    "## Q3 - The GroupBy Gauntlet <a class=\"anchor\" id=\"chapter3\"></a>\n",
    "\n",
    "Question: Welcome to the GroupBy Gauntlet! You are given a dataset of wacky wizard tournaments. Each tournament has multiple rounds, and wizards earn points in each round. Your task is to perform complex groupby operations to answer the following questions:\n",
    "\n",
    "1. Calculate the total points for each wizard across all tournaments.\n",
    "2. Identify the wizard with the highest average points per round.\n",
    "3. Determine the tournament with the highest total points.\n",
    "4. Find the wizard who won the most rounds (i.e., highest points in each round).\n",
    "5. Calculate the average points per round for each tournament.\n",
    "6. Determine the standard deviation of points for each wizard across all tournaments.\n",
    "7. Identify the top 3 wizards with the most consistent performance (lowest standard deviation in points).\n",
    "8. Calculate the cumulative points for each wizard across all tournaments over time.\n",
    "9. Find the round in each tournament with the highest average points scored.\n",
    "10. Determine the correlation between the number of rounds and total points scored for each wizard.\n",
    "\n",
    "Datasets:\n",
    "\n",
    "wizard_tournaments: Contains columns (tournament_id, round_id, wizard_name, points)."
   ]
  },
  {
   "cell_type": "code",
   "execution_count": 14,
   "id": "071a8680",
   "metadata": {},
   "outputs": [
    {
     "name": "stdout",
     "output_type": "stream",
     "text": [
      "Wizard Tournaments DataFrame:\n",
      "   tournament_id  round_id wizard_name  points\n",
      "0              1         1      Merlin      51\n",
      "1              1         1     Gandalf      92\n",
      "2              1         1       Harry      14\n",
      "3              1         1   Voldemort      71\n",
      "4              1         1     Saruman      60\n"
     ]
    }
   ],
   "source": [
    "# Seed for reproducibility\n",
    "np.random.seed(42)\n",
    "\n",
    "# Generate synthetic data\n",
    "tournament_ids = np.arange(1, 6)\n",
    "round_ids = np.arange(1, 11)\n",
    "wizard_names = ['Merlin', 'Gandalf', 'Harry', 'Voldemort', 'Saruman', 'Dumbledore', 'Hermione', 'Ron']\n",
    "\n",
    "data = []\n",
    "for tournament in tournament_ids:\n",
    "    for round_id in round_ids:\n",
    "        for wizard in wizard_names:\n",
    "            points = np.random.randint(0, 101)\n",
    "            data.append([tournament, round_id, wizard, points])\n",
    "\n",
    "# Create DataFrame\n",
    "wizard_tournaments = pd.DataFrame(data, columns=['tournament_id', 'round_id', 'wizard_name', 'points'])\n",
    "\n",
    "# Display the dataset\n",
    "print(\"Wizard Tournaments DataFrame:\")\n",
    "print(wizard_tournaments.head())"
   ]
  },
  {
   "cell_type": "markdown",
   "id": "42ae1c0f",
   "metadata": {},
   "source": [
    "### Question 3.1: Calculate the total points for each wizard across all tournaments."
   ]
  },
  {
   "cell_type": "code",
   "execution_count": 15,
   "id": "a464dbb2",
   "metadata": {},
   "outputs": [
    {
     "data": {
      "text/html": [
       "<div>\n",
       "<style scoped>\n",
       "    .dataframe tbody tr th:only-of-type {\n",
       "        vertical-align: middle;\n",
       "    }\n",
       "\n",
       "    .dataframe tbody tr th {\n",
       "        vertical-align: top;\n",
       "    }\n",
       "\n",
       "    .dataframe thead th {\n",
       "        text-align: right;\n",
       "    }\n",
       "</style>\n",
       "<table border=\"1\" class=\"dataframe\">\n",
       "  <thead>\n",
       "    <tr style=\"text-align: right;\">\n",
       "      <th></th>\n",
       "      <th>wizard_name</th>\n",
       "      <th>points</th>\n",
       "    </tr>\n",
       "  </thead>\n",
       "  <tbody>\n",
       "    <tr>\n",
       "      <th>0</th>\n",
       "      <td>Dumbledore</td>\n",
       "      <td>2428</td>\n",
       "    </tr>\n",
       "    <tr>\n",
       "      <th>1</th>\n",
       "      <td>Gandalf</td>\n",
       "      <td>2851</td>\n",
       "    </tr>\n",
       "    <tr>\n",
       "      <th>2</th>\n",
       "      <td>Harry</td>\n",
       "      <td>2346</td>\n",
       "    </tr>\n",
       "    <tr>\n",
       "      <th>3</th>\n",
       "      <td>Hermione</td>\n",
       "      <td>3091</td>\n",
       "    </tr>\n",
       "    <tr>\n",
       "      <th>4</th>\n",
       "      <td>Merlin</td>\n",
       "      <td>2488</td>\n",
       "    </tr>\n",
       "    <tr>\n",
       "      <th>5</th>\n",
       "      <td>Ron</td>\n",
       "      <td>2210</td>\n",
       "    </tr>\n",
       "    <tr>\n",
       "      <th>6</th>\n",
       "      <td>Saruman</td>\n",
       "      <td>2432</td>\n",
       "    </tr>\n",
       "    <tr>\n",
       "      <th>7</th>\n",
       "      <td>Voldemort</td>\n",
       "      <td>2152</td>\n",
       "    </tr>\n",
       "  </tbody>\n",
       "</table>\n",
       "</div>"
      ],
      "text/plain": [
       "  wizard_name  points\n",
       "0  Dumbledore    2428\n",
       "1     Gandalf    2851\n",
       "2       Harry    2346\n",
       "3    Hermione    3091\n",
       "4      Merlin    2488\n",
       "5         Ron    2210\n",
       "6     Saruman    2432\n",
       "7   Voldemort    2152"
      ]
     },
     "execution_count": 15,
     "metadata": {},
     "output_type": "execute_result"
    }
   ],
   "source": [
    "total_points_per_wizard = wizard_tournaments.groupby('wizard_name')['points'].sum().reset_index()\n",
    "\n",
    "total_points_per_wizard"
   ]
  },
  {
   "cell_type": "markdown",
   "id": "6c09bf35",
   "metadata": {},
   "source": [
    "### Question 3.2: Identify the wizard with the highest average points per round."
   ]
  },
  {
   "cell_type": "code",
   "execution_count": 16,
   "id": "69fcb25d",
   "metadata": {},
   "outputs": [
    {
     "data": {
      "text/html": [
       "<div>\n",
       "<style scoped>\n",
       "    .dataframe tbody tr th:only-of-type {\n",
       "        vertical-align: middle;\n",
       "    }\n",
       "\n",
       "    .dataframe tbody tr th {\n",
       "        vertical-align: top;\n",
       "    }\n",
       "\n",
       "    .dataframe thead th {\n",
       "        text-align: right;\n",
       "    }\n",
       "</style>\n",
       "<table border=\"1\" class=\"dataframe\">\n",
       "  <thead>\n",
       "    <tr style=\"text-align: right;\">\n",
       "      <th></th>\n",
       "      <th>wizard_name</th>\n",
       "      <th>points</th>\n",
       "    </tr>\n",
       "  </thead>\n",
       "  <tbody>\n",
       "    <tr>\n",
       "      <th>3</th>\n",
       "      <td>Hermione</td>\n",
       "      <td>3091</td>\n",
       "    </tr>\n",
       "  </tbody>\n",
       "</table>\n",
       "</div>"
      ],
      "text/plain": [
       "  wizard_name  points\n",
       "3    Hermione    3091"
      ]
     },
     "execution_count": 16,
     "metadata": {},
     "output_type": "execute_result"
    }
   ],
   "source": [
    "# Highest average would be the wizard with the most points overall\n",
    "total_points_per_wizard = total_points_per_wizard.sort_values(by='points', ascending=False)\n",
    "\n",
    "total_points_per_wizard.head(1)"
   ]
  },
  {
   "cell_type": "markdown",
   "id": "83b63e93",
   "metadata": {},
   "source": [
    "Question 3.2: Hermione is the wizard with the highest average points per round."
   ]
  },
  {
   "cell_type": "markdown",
   "id": "c008b1aa",
   "metadata": {},
   "source": [
    "### Question 3.3: Determine the tournament with the highest total points."
   ]
  },
  {
   "cell_type": "code",
   "execution_count": 17,
   "id": "a484788b",
   "metadata": {},
   "outputs": [
    {
     "data": {
      "text/html": [
       "<div>\n",
       "<style scoped>\n",
       "    .dataframe tbody tr th:only-of-type {\n",
       "        vertical-align: middle;\n",
       "    }\n",
       "\n",
       "    .dataframe tbody tr th {\n",
       "        vertical-align: top;\n",
       "    }\n",
       "\n",
       "    .dataframe thead th {\n",
       "        text-align: right;\n",
       "    }\n",
       "</style>\n",
       "<table border=\"1\" class=\"dataframe\">\n",
       "  <thead>\n",
       "    <tr style=\"text-align: right;\">\n",
       "      <th></th>\n",
       "      <th>tournament_id</th>\n",
       "      <th>points</th>\n",
       "    </tr>\n",
       "  </thead>\n",
       "  <tbody>\n",
       "    <tr>\n",
       "      <th>2</th>\n",
       "      <td>3</td>\n",
       "      <td>4074</td>\n",
       "    </tr>\n",
       "  </tbody>\n",
       "</table>\n",
       "</div>"
      ],
      "text/plain": [
       "   tournament_id  points\n",
       "2              3    4074"
      ]
     },
     "execution_count": 17,
     "metadata": {},
     "output_type": "execute_result"
    }
   ],
   "source": [
    "# just groupby tournament id and sum the points\n",
    "total_tournament = wizard_tournaments.groupby('tournament_id')['points'].sum().reset_index()\n",
    "\n",
    "total_tournament = total_tournament.sort_values(by='points', ascending=False)\n",
    "\n",
    "total_tournament.head(1)"
   ]
  },
  {
   "cell_type": "markdown",
   "id": "94c2d9cc",
   "metadata": {},
   "source": [
    "Question 3.3: The 3rd tournament had the highest total points"
   ]
  },
  {
   "cell_type": "markdown",
   "id": "8df4ab9e",
   "metadata": {},
   "source": [
    "### Question 3.4: Find the wizard who won the most rounds (i.e., highest points in each round)."
   ]
  },
  {
   "cell_type": "code",
   "execution_count": 18,
   "id": "80985c42",
   "metadata": {},
   "outputs": [
    {
     "data": {
      "text/html": [
       "<div>\n",
       "<style scoped>\n",
       "    .dataframe tbody tr th:only-of-type {\n",
       "        vertical-align: middle;\n",
       "    }\n",
       "\n",
       "    .dataframe tbody tr th {\n",
       "        vertical-align: top;\n",
       "    }\n",
       "\n",
       "    .dataframe thead th {\n",
       "        text-align: right;\n",
       "    }\n",
       "</style>\n",
       "<table border=\"1\" class=\"dataframe\">\n",
       "  <thead>\n",
       "    <tr style=\"text-align: right;\">\n",
       "      <th></th>\n",
       "      <th>wizard_name</th>\n",
       "      <th>rounds_won</th>\n",
       "    </tr>\n",
       "  </thead>\n",
       "  <tbody>\n",
       "    <tr>\n",
       "      <th>0</th>\n",
       "      <td>Gandalf</td>\n",
       "      <td>10</td>\n",
       "    </tr>\n",
       "    <tr>\n",
       "      <th>1</th>\n",
       "      <td>Hermione</td>\n",
       "      <td>9</td>\n",
       "    </tr>\n",
       "    <tr>\n",
       "      <th>2</th>\n",
       "      <td>Dumbledore</td>\n",
       "      <td>8</td>\n",
       "    </tr>\n",
       "    <tr>\n",
       "      <th>3</th>\n",
       "      <td>Merlin</td>\n",
       "      <td>8</td>\n",
       "    </tr>\n",
       "    <tr>\n",
       "      <th>4</th>\n",
       "      <td>Ron</td>\n",
       "      <td>5</td>\n",
       "    </tr>\n",
       "    <tr>\n",
       "      <th>5</th>\n",
       "      <td>Saruman</td>\n",
       "      <td>4</td>\n",
       "    </tr>\n",
       "    <tr>\n",
       "      <th>6</th>\n",
       "      <td>Voldemort</td>\n",
       "      <td>3</td>\n",
       "    </tr>\n",
       "    <tr>\n",
       "      <th>7</th>\n",
       "      <td>Harry</td>\n",
       "      <td>3</td>\n",
       "    </tr>\n",
       "  </tbody>\n",
       "</table>\n",
       "</div>"
      ],
      "text/plain": [
       "  wizard_name  rounds_won\n",
       "0     Gandalf          10\n",
       "1    Hermione           9\n",
       "2  Dumbledore           8\n",
       "3      Merlin           8\n",
       "4         Ron           5\n",
       "5     Saruman           4\n",
       "6   Voldemort           3\n",
       "7       Harry           3"
      ]
     },
     "execution_count": 18,
     "metadata": {},
     "output_type": "execute_result"
    }
   ],
   "source": [
    "# groupby tournament id and round id, and find the winner (max points) with .loc and idxmax()\n",
    "round_winners = wizard_tournaments.loc[wizard_tournaments.groupby(['tournament_id', 'round_id'])['points'].idxmax()]\n",
    "\n",
    "# now with the group winner for every round just count the wins for each wizard\n",
    "rounds_won_per_wizard = round_winners['wizard_name'].value_counts().reset_index()\n",
    "rounds_won_per_wizard.columns = ['wizard_name', 'rounds_won']\n",
    "\n",
    "rounds_won_per_wizard"
   ]
  },
  {
   "cell_type": "markdown",
   "id": "3a269424",
   "metadata": {},
   "source": [
    "Question 3.4: The wizard Gandalf won the most rounds with 10 rounds won."
   ]
  },
  {
   "cell_type": "markdown",
   "id": "6e409f3f",
   "metadata": {},
   "source": [
    "### Question 3.5: Calculate the average points per round for each tournament."
   ]
  },
  {
   "cell_type": "code",
   "execution_count": 19,
   "id": "b602181a",
   "metadata": {},
   "outputs": [
    {
     "data": {
      "text/html": [
       "<div>\n",
       "<style scoped>\n",
       "    .dataframe tbody tr th:only-of-type {\n",
       "        vertical-align: middle;\n",
       "    }\n",
       "\n",
       "    .dataframe tbody tr th {\n",
       "        vertical-align: top;\n",
       "    }\n",
       "\n",
       "    .dataframe thead th {\n",
       "        text-align: right;\n",
       "    }\n",
       "</style>\n",
       "<table border=\"1\" class=\"dataframe\">\n",
       "  <thead>\n",
       "    <tr style=\"text-align: right;\">\n",
       "      <th></th>\n",
       "      <th>tournament_id</th>\n",
       "      <th>points</th>\n",
       "    </tr>\n",
       "  </thead>\n",
       "  <tbody>\n",
       "    <tr>\n",
       "      <th>0</th>\n",
       "      <td>1</td>\n",
       "      <td>391.8</td>\n",
       "    </tr>\n",
       "    <tr>\n",
       "      <th>1</th>\n",
       "      <td>2</td>\n",
       "      <td>397.8</td>\n",
       "    </tr>\n",
       "    <tr>\n",
       "      <th>2</th>\n",
       "      <td>3</td>\n",
       "      <td>407.4</td>\n",
       "    </tr>\n",
       "    <tr>\n",
       "      <th>3</th>\n",
       "      <td>4</td>\n",
       "      <td>401.3</td>\n",
       "    </tr>\n",
       "    <tr>\n",
       "      <th>4</th>\n",
       "      <td>5</td>\n",
       "      <td>401.5</td>\n",
       "    </tr>\n",
       "  </tbody>\n",
       "</table>\n",
       "</div>"
      ],
      "text/plain": [
       "   tournament_id  points\n",
       "0              1   391.8\n",
       "1              2   397.8\n",
       "2              3   407.4\n",
       "3              4   401.3\n",
       "4              5   401.5"
      ]
     },
     "execution_count": 19,
     "metadata": {},
     "output_type": "execute_result"
    }
   ],
   "source": [
    "# start by grouping tournament_id and round_id and sum points\n",
    "round_points = wizard_tournaments.groupby(['tournament_id', 'round_id'])['points'].sum().reset_index()\n",
    "\n",
    "# do a new groupby on tournament id and take the mean of the points\n",
    "avg_round_points = round_points.groupby('tournament_id')['points'].mean().reset_index()\n",
    "\n",
    "avg_round_points"
   ]
  },
  {
   "cell_type": "markdown",
   "id": "2a39c698",
   "metadata": {},
   "source": [
    "### Question 3.6: Determine the standard deviation of points for each wizard across all tournaments."
   ]
  },
  {
   "cell_type": "code",
   "execution_count": 20,
   "id": "28cf971a",
   "metadata": {},
   "outputs": [
    {
     "data": {
      "text/html": [
       "<div>\n",
       "<style scoped>\n",
       "    .dataframe tbody tr th:only-of-type {\n",
       "        vertical-align: middle;\n",
       "    }\n",
       "\n",
       "    .dataframe tbody tr th {\n",
       "        vertical-align: top;\n",
       "    }\n",
       "\n",
       "    .dataframe thead th {\n",
       "        text-align: right;\n",
       "    }\n",
       "</style>\n",
       "<table border=\"1\" class=\"dataframe\">\n",
       "  <thead>\n",
       "    <tr style=\"text-align: right;\">\n",
       "      <th></th>\n",
       "      <th>wizard_name</th>\n",
       "      <th>std_points</th>\n",
       "    </tr>\n",
       "  </thead>\n",
       "  <tbody>\n",
       "    <tr>\n",
       "      <th>0</th>\n",
       "      <td>Dumbledore</td>\n",
       "      <td>28.790701</td>\n",
       "    </tr>\n",
       "    <tr>\n",
       "      <th>1</th>\n",
       "      <td>Gandalf</td>\n",
       "      <td>31.099242</td>\n",
       "    </tr>\n",
       "    <tr>\n",
       "      <th>2</th>\n",
       "      <td>Harry</td>\n",
       "      <td>27.568719</td>\n",
       "    </tr>\n",
       "    <tr>\n",
       "      <th>3</th>\n",
       "      <td>Hermione</td>\n",
       "      <td>28.769095</td>\n",
       "    </tr>\n",
       "    <tr>\n",
       "      <th>4</th>\n",
       "      <td>Merlin</td>\n",
       "      <td>29.651417</td>\n",
       "    </tr>\n",
       "    <tr>\n",
       "      <th>5</th>\n",
       "      <td>Ron</td>\n",
       "      <td>30.809487</td>\n",
       "    </tr>\n",
       "    <tr>\n",
       "      <th>6</th>\n",
       "      <td>Saruman</td>\n",
       "      <td>30.693854</td>\n",
       "    </tr>\n",
       "    <tr>\n",
       "      <th>7</th>\n",
       "      <td>Voldemort</td>\n",
       "      <td>30.334839</td>\n",
       "    </tr>\n",
       "  </tbody>\n",
       "</table>\n",
       "</div>"
      ],
      "text/plain": [
       "  wizard_name  std_points\n",
       "0  Dumbledore   28.790701\n",
       "1     Gandalf   31.099242\n",
       "2       Harry   27.568719\n",
       "3    Hermione   28.769095\n",
       "4      Merlin   29.651417\n",
       "5         Ron   30.809487\n",
       "6     Saruman   30.693854\n",
       "7   Voldemort   30.334839"
      ]
     },
     "execution_count": 20,
     "metadata": {},
     "output_type": "execute_result"
    }
   ],
   "source": [
    "# here i can utilize the std() function to get the standard deviation\n",
    "std_per_wizard = wizard_tournaments.groupby('wizard_name')['points'].std().reset_index()\n",
    "\n",
    "std_per_wizard.columns = ['wizard_name', 'std_points']\n",
    "\n",
    "std_per_wizard"
   ]
  },
  {
   "cell_type": "markdown",
   "id": "5aeb62fd",
   "metadata": {},
   "source": [
    "### Question 3.7: Identify the top 3 wizards with the most consistent performance (lowest standard deviation in points)."
   ]
  },
  {
   "cell_type": "code",
   "execution_count": 21,
   "id": "2d3ddc07",
   "metadata": {},
   "outputs": [
    {
     "data": {
      "text/html": [
       "<div>\n",
       "<style scoped>\n",
       "    .dataframe tbody tr th:only-of-type {\n",
       "        vertical-align: middle;\n",
       "    }\n",
       "\n",
       "    .dataframe tbody tr th {\n",
       "        vertical-align: top;\n",
       "    }\n",
       "\n",
       "    .dataframe thead th {\n",
       "        text-align: right;\n",
       "    }\n",
       "</style>\n",
       "<table border=\"1\" class=\"dataframe\">\n",
       "  <thead>\n",
       "    <tr style=\"text-align: right;\">\n",
       "      <th></th>\n",
       "      <th>wizard_name</th>\n",
       "      <th>std_points</th>\n",
       "    </tr>\n",
       "  </thead>\n",
       "  <tbody>\n",
       "    <tr>\n",
       "      <th>2</th>\n",
       "      <td>Harry</td>\n",
       "      <td>27.568719</td>\n",
       "    </tr>\n",
       "    <tr>\n",
       "      <th>3</th>\n",
       "      <td>Hermione</td>\n",
       "      <td>28.769095</td>\n",
       "    </tr>\n",
       "    <tr>\n",
       "      <th>0</th>\n",
       "      <td>Dumbledore</td>\n",
       "      <td>28.790701</td>\n",
       "    </tr>\n",
       "  </tbody>\n",
       "</table>\n",
       "</div>"
      ],
      "text/plain": [
       "  wizard_name  std_points\n",
       "2       Harry   27.568719\n",
       "3    Hermione   28.769095\n",
       "0  Dumbledore   28.790701"
      ]
     },
     "execution_count": 21,
     "metadata": {},
     "output_type": "execute_result"
    }
   ],
   "source": [
    "# sort the table from the previous task and take the lowest three\n",
    "std_per_wizard = std_per_wizard.sort_values(by='std_points', ascending=True)\n",
    "\n",
    "std_per_wizard.head(3)"
   ]
  },
  {
   "cell_type": "markdown",
   "id": "b88dbe19",
   "metadata": {},
   "source": [
    "### Question 3.8: Calculate the cumulative points for each wizard across all tournaments over time."
   ]
  },
  {
   "cell_type": "code",
   "execution_count": 22,
   "id": "ed175cb1",
   "metadata": {},
   "outputs": [
    {
     "data": {
      "text/html": [
       "<div>\n",
       "<style scoped>\n",
       "    .dataframe tbody tr th:only-of-type {\n",
       "        vertical-align: middle;\n",
       "    }\n",
       "\n",
       "    .dataframe tbody tr th {\n",
       "        vertical-align: top;\n",
       "    }\n",
       "\n",
       "    .dataframe thead th {\n",
       "        text-align: right;\n",
       "    }\n",
       "</style>\n",
       "<table border=\"1\" class=\"dataframe\">\n",
       "  <thead>\n",
       "    <tr style=\"text-align: right;\">\n",
       "      <th></th>\n",
       "      <th>tournament_id</th>\n",
       "      <th>round_id</th>\n",
       "      <th>wizard_name</th>\n",
       "      <th>points</th>\n",
       "      <th>cumulative_points</th>\n",
       "    </tr>\n",
       "  </thead>\n",
       "  <tbody>\n",
       "    <tr>\n",
       "      <th>5</th>\n",
       "      <td>1</td>\n",
       "      <td>1</td>\n",
       "      <td>Dumbledore</td>\n",
       "      <td>20</td>\n",
       "      <td>20</td>\n",
       "    </tr>\n",
       "    <tr>\n",
       "      <th>13</th>\n",
       "      <td>1</td>\n",
       "      <td>2</td>\n",
       "      <td>Dumbledore</td>\n",
       "      <td>2</td>\n",
       "      <td>22</td>\n",
       "    </tr>\n",
       "    <tr>\n",
       "      <th>21</th>\n",
       "      <td>1</td>\n",
       "      <td>3</td>\n",
       "      <td>Dumbledore</td>\n",
       "      <td>63</td>\n",
       "      <td>85</td>\n",
       "    </tr>\n",
       "    <tr>\n",
       "      <th>29</th>\n",
       "      <td>1</td>\n",
       "      <td>4</td>\n",
       "      <td>Dumbledore</td>\n",
       "      <td>48</td>\n",
       "      <td>133</td>\n",
       "    </tr>\n",
       "    <tr>\n",
       "      <th>37</th>\n",
       "      <td>1</td>\n",
       "      <td>5</td>\n",
       "      <td>Dumbledore</td>\n",
       "      <td>61</td>\n",
       "      <td>194</td>\n",
       "    </tr>\n",
       "    <tr>\n",
       "      <th>...</th>\n",
       "      <td>...</td>\n",
       "      <td>...</td>\n",
       "      <td>...</td>\n",
       "      <td>...</td>\n",
       "      <td>...</td>\n",
       "    </tr>\n",
       "    <tr>\n",
       "      <th>363</th>\n",
       "      <td>5</td>\n",
       "      <td>6</td>\n",
       "      <td>Voldemort</td>\n",
       "      <td>60</td>\n",
       "      <td>1930</td>\n",
       "    </tr>\n",
       "    <tr>\n",
       "      <th>371</th>\n",
       "      <td>5</td>\n",
       "      <td>7</td>\n",
       "      <td>Voldemort</td>\n",
       "      <td>43</td>\n",
       "      <td>1973</td>\n",
       "    </tr>\n",
       "    <tr>\n",
       "      <th>379</th>\n",
       "      <td>5</td>\n",
       "      <td>8</td>\n",
       "      <td>Voldemort</td>\n",
       "      <td>23</td>\n",
       "      <td>1996</td>\n",
       "    </tr>\n",
       "    <tr>\n",
       "      <th>387</th>\n",
       "      <td>5</td>\n",
       "      <td>9</td>\n",
       "      <td>Voldemort</td>\n",
       "      <td>62</td>\n",
       "      <td>2058</td>\n",
       "    </tr>\n",
       "    <tr>\n",
       "      <th>395</th>\n",
       "      <td>5</td>\n",
       "      <td>10</td>\n",
       "      <td>Voldemort</td>\n",
       "      <td>94</td>\n",
       "      <td>2152</td>\n",
       "    </tr>\n",
       "  </tbody>\n",
       "</table>\n",
       "<p>400 rows × 5 columns</p>\n",
       "</div>"
      ],
      "text/plain": [
       "     tournament_id  round_id wizard_name  points  cumulative_points\n",
       "5                1         1  Dumbledore      20                 20\n",
       "13               1         2  Dumbledore       2                 22\n",
       "21               1         3  Dumbledore      63                 85\n",
       "29               1         4  Dumbledore      48                133\n",
       "37               1         5  Dumbledore      61                194\n",
       "..             ...       ...         ...     ...                ...\n",
       "363              5         6   Voldemort      60               1930\n",
       "371              5         7   Voldemort      43               1973\n",
       "379              5         8   Voldemort      23               1996\n",
       "387              5         9   Voldemort      62               2058\n",
       "395              5        10   Voldemort      94               2152\n",
       "\n",
       "[400 rows x 5 columns]"
      ]
     },
     "execution_count": 22,
     "metadata": {},
     "output_type": "execute_result"
    }
   ],
   "source": [
    "# here i can utilize the cumsum() function to calculate the cumulative sum\n",
    "wizard_cumsum = wizard_tournaments.sort_values(by=['wizard_name', 'tournament_id', 'round_id'])\n",
    "\n",
    "wizard_cumsum['cumulative_points'] = wizard_cumsum.groupby('wizard_name')['points'].cumsum()\n",
    "\n",
    "wizard_cumsum"
   ]
  },
  {
   "cell_type": "markdown",
   "id": "7ecafedd",
   "metadata": {},
   "source": [
    "### Question 3.9: Find the round in each tournament with the highest average points scored."
   ]
  },
  {
   "cell_type": "code",
   "execution_count": 23,
   "id": "e67d9117",
   "metadata": {},
   "outputs": [
    {
     "data": {
      "text/html": [
       "<div>\n",
       "<style scoped>\n",
       "    .dataframe tbody tr th:only-of-type {\n",
       "        vertical-align: middle;\n",
       "    }\n",
       "\n",
       "    .dataframe tbody tr th {\n",
       "        vertical-align: top;\n",
       "    }\n",
       "\n",
       "    .dataframe thead th {\n",
       "        text-align: right;\n",
       "    }\n",
       "</style>\n",
       "<table border=\"1\" class=\"dataframe\">\n",
       "  <thead>\n",
       "    <tr style=\"text-align: right;\">\n",
       "      <th></th>\n",
       "      <th>tournament_id</th>\n",
       "      <th>round_id</th>\n",
       "      <th>points</th>\n",
       "    </tr>\n",
       "  </thead>\n",
       "  <tbody>\n",
       "    <tr>\n",
       "      <th>0</th>\n",
       "      <td>1</td>\n",
       "      <td>1</td>\n",
       "      <td>59.500</td>\n",
       "    </tr>\n",
       "    <tr>\n",
       "      <th>17</th>\n",
       "      <td>2</td>\n",
       "      <td>8</td>\n",
       "      <td>68.500</td>\n",
       "    </tr>\n",
       "    <tr>\n",
       "      <th>20</th>\n",
       "      <td>3</td>\n",
       "      <td>1</td>\n",
       "      <td>65.125</td>\n",
       "    </tr>\n",
       "    <tr>\n",
       "      <th>39</th>\n",
       "      <td>4</td>\n",
       "      <td>10</td>\n",
       "      <td>73.000</td>\n",
       "    </tr>\n",
       "    <tr>\n",
       "      <th>48</th>\n",
       "      <td>5</td>\n",
       "      <td>9</td>\n",
       "      <td>68.500</td>\n",
       "    </tr>\n",
       "  </tbody>\n",
       "</table>\n",
       "</div>"
      ],
      "text/plain": [
       "    tournament_id  round_id  points\n",
       "0               1         1  59.500\n",
       "17              2         8  68.500\n",
       "20              3         1  65.125\n",
       "39              4        10  73.000\n",
       "48              5         9  68.500"
      ]
     },
     "execution_count": 23,
     "metadata": {},
     "output_type": "execute_result"
    }
   ],
   "source": [
    "# first group by tournament id and round id to calculate the average points scored in each round\n",
    "avg_points_per_round = wizard_tournaments.groupby(['tournament_id', 'round_id'])['points'].mean().reset_index()\n",
    "\n",
    "# identify highest average round within each tournament\n",
    "highest_avg_points_round = avg_points_per_round.loc[avg_points_per_round.groupby('tournament_id')['points'].idxmax()]\n",
    "\n",
    "highest_avg_points_round"
   ]
  },
  {
   "cell_type": "markdown",
   "id": "dc5e5612",
   "metadata": {},
   "source": [
    "## Q4 - Regex Riddles in Data Cleaning <a class=\"anchor\" id=\"chapter4\"></a>\n",
    "\n",
    "Question: Welcome to Regex Riddles in Data Cleaning! You are given a dataset containing customer reviews for various fantastical products. However, the data is quite messy with inconsistent formats, typos, and random special characters. Your task is to use regular expressions and other data cleaning techniques to answer the following questions:\n",
    "\n",
    "1. Standardize the format of email addresses.\n",
    "2. Correct common typos in product names.\n",
    "3. Remove any special characters from the reviews.\n",
    "4. Extract and count the number of reviews mentioning the word \"magic\".\n",
    "5. Identify the top 3 most frequently mentioned products in the reviews.\n",
    "\n",
    "Datasets:\n",
    "\n",
    "customer_reviews: Contains columns (review_id, email, product_name, review_text)."
   ]
  },
  {
   "cell_type": "code",
   "execution_count": 24,
   "id": "6d341bb7",
   "metadata": {},
   "outputs": [
    {
     "name": "stdout",
     "output_type": "stream",
     "text": [
      "Customer Reviews DataFrame:\n",
      "    review_id                email  product_name  \\\n",
      "0           1   UsEr-1@example.com  Flying Broom   \n",
      "1           2    user2@example.com  Flying Broom   \n",
      "2           3   UsEr-3@example.com    Spell Book   \n",
      "3           4    user4@example.com    Spell Book   \n",
      "4           5   UsEr-5@example.com  Crystal Ball   \n",
      "5           6    user6@example.com    Magic Wand   \n",
      "6           7   UsEr-7@example.com     Spell Bok   \n",
      "7           8    user8@example.com         Potin   \n",
      "8           9   UsEr-9@example.com    Magic Wand   \n",
      "9          10   user10@example.com    Spell Book   \n",
      "10         11  UsEr-11@example.com   Flyng Broom   \n",
      "11         12   user12@example.com   Crystal Bll   \n",
      "12         13  UsEr-13@example.com     Magic Wnd   \n",
      "13         14   user14@example.com    Magic Wand   \n",
      "14         15  UsEr-15@example.com     Magic Wnd   \n",
      "15         16   user16@example.com  Flying Broom   \n",
      "16         17  UsEr-17@example.com  Flying Broom   \n",
      "17         18   user18@example.com         Potin   \n",
      "18         19  UsEr-19@example.com     Magic Wnd   \n",
      "19         20   user20@example.com  Crystal Ball   \n",
      "\n",
      "                                          review_text  \n",
      "0    This Spell Book is awesome! It's pure magic! !@@  \n",
      "1   This Crystal Ball is awesome! It's pure magic!...  \n",
      "2    This Magic Wand is awesome! It's pure magic! @&@  \n",
      "3     This Spell Bok is awesome! It's pure magic! &)$  \n",
      "4        This Potion is awesome! It's pure magic! !@@  \n",
      "5        This Potion is awesome! It's pure magic! $%@  \n",
      "6        This Potion is awesome! It's pure magic! )(*  \n",
      "7   This Flying Broom is awesome! It's pure magic!...  \n",
      "8   This Flying Broom is awesome! It's pure magic!...  \n",
      "9   This Crystal Ball is awesome! It's pure magic!...  \n",
      "10   This Spell Book is awesome! It's pure magic! !(&  \n",
      "11  This Crystal Ball is awesome! It's pure magic!...  \n",
      "12  This Crystal Ball is awesome! It's pure magic!...  \n",
      "13    This Spell Bok is awesome! It's pure magic! ($&  \n",
      "14  This Flyng Broom is awesome! It's pure magic! )**  \n",
      "15   This Spell Book is awesome! It's pure magic! )!@  \n",
      "16    This Spell Bok is awesome! It's pure magic! &!!  \n",
      "17    This Spell Bok is awesome! It's pure magic! #!(  \n",
      "18  This Flyng Broom is awesome! It's pure magic! &^$  \n",
      "19  This Crystal Ball is awesome! It's pure magic!...  \n"
     ]
    }
   ],
   "source": [
    "# Seed for reproducibility\n",
    "np.random.seed(24)\n",
    "\n",
    "# Generate synthetic data\n",
    "review_ids = np.arange(1, 21)\n",
    "emails = ['user{}@example.com'.format(i) for i in range(1, 21)]\n",
    "emails = [email.replace('user', 'UsEr-') if i % 2 == 0 else email for i, email in enumerate(emails)]\n",
    "product_names = ['Magic Wand', 'Potion', 'Spell Book', 'Crystal Ball', 'Flying Broom']\n",
    "typos = ['Magic Wnd', 'Potin', 'Spell Bok', 'Crystal Bll', 'Flyng Broom']\n",
    "\n",
    "reviews = [\n",
    "    \"This {} is awesome! It's pure magic!\".format(np.random.choice(product_names + typos))\n",
    "    for _ in review_ids\n",
    "]\n",
    "special_characters = ['!', '@', '#', '$', '%', '^', '&', '*', '(', ')']\n",
    "reviews = [\n",
    "    review + ' ' + ''.join(np.random.choice(special_characters, 3))\n",
    "    for review in reviews\n",
    "]\n",
    "\n",
    "# Create DataFrame\n",
    "customer_reviews = pd.DataFrame({\n",
    "    'review_id': review_ids,\n",
    "    'email': emails,\n",
    "    'product_name': [np.random.choice(product_names + typos) for _ in review_ids],\n",
    "    'review_text': reviews\n",
    "})\n",
    "\n",
    "# Display the dataset\n",
    "print(\"Customer Reviews DataFrame:\")\n",
    "print(customer_reviews)"
   ]
  },
  {
   "cell_type": "markdown",
   "id": "5f87205a",
   "metadata": {},
   "source": [
    "## Question 4.1: Standardize the format of email addresses."
   ]
  },
  {
   "cell_type": "code",
   "execution_count": 25,
   "id": "32b64b6d",
   "metadata": {},
   "outputs": [
    {
     "data": {
      "text/plain": [
       "0    user-1@example.com\n",
       "1     user2@example.com\n",
       "2    user-3@example.com\n",
       "3     user4@example.com\n",
       "4    user-5@example.com\n",
       "Name: email, dtype: object"
      ]
     },
     "execution_count": 25,
     "metadata": {},
     "output_type": "execute_result"
    }
   ],
   "source": [
    "# standardize the format by using all lower case letters\n",
    "customer_reviews['email'] = customer_reviews['email'].str.lower()\n",
    "\n",
    "customer_reviews.email.head()"
   ]
  },
  {
   "cell_type": "markdown",
   "id": "a4e41c1a",
   "metadata": {},
   "source": [
    "## Question 4.2: Correct common typos in product names."
   ]
  },
  {
   "cell_type": "code",
   "execution_count": 26,
   "id": "997898ca",
   "metadata": {},
   "outputs": [
    {
     "data": {
      "text/html": [
       "<div>\n",
       "<style scoped>\n",
       "    .dataframe tbody tr th:only-of-type {\n",
       "        vertical-align: middle;\n",
       "    }\n",
       "\n",
       "    .dataframe tbody tr th {\n",
       "        vertical-align: top;\n",
       "    }\n",
       "\n",
       "    .dataframe thead th {\n",
       "        text-align: right;\n",
       "    }\n",
       "</style>\n",
       "<table border=\"1\" class=\"dataframe\">\n",
       "  <thead>\n",
       "    <tr style=\"text-align: right;\">\n",
       "      <th></th>\n",
       "      <th>review_id</th>\n",
       "      <th>email</th>\n",
       "      <th>product_name</th>\n",
       "      <th>review_text</th>\n",
       "    </tr>\n",
       "  </thead>\n",
       "  <tbody>\n",
       "    <tr>\n",
       "      <th>15</th>\n",
       "      <td>16</td>\n",
       "      <td>user16@example.com</td>\n",
       "      <td>Flying Broom</td>\n",
       "      <td>This Spell Book is awesome! It's pure magic! )!@</td>\n",
       "    </tr>\n",
       "    <tr>\n",
       "      <th>16</th>\n",
       "      <td>17</td>\n",
       "      <td>user-17@example.com</td>\n",
       "      <td>Flying Broom</td>\n",
       "      <td>This Spell Bok is awesome! It's pure magic! &amp;!!</td>\n",
       "    </tr>\n",
       "    <tr>\n",
       "      <th>17</th>\n",
       "      <td>18</td>\n",
       "      <td>user18@example.com</td>\n",
       "      <td>Potion</td>\n",
       "      <td>This Spell Bok is awesome! It's pure magic! #!(</td>\n",
       "    </tr>\n",
       "    <tr>\n",
       "      <th>18</th>\n",
       "      <td>19</td>\n",
       "      <td>user-19@example.com</td>\n",
       "      <td>Magic Wand</td>\n",
       "      <td>This Flyng Broom is awesome! It's pure magic! &amp;^$</td>\n",
       "    </tr>\n",
       "    <tr>\n",
       "      <th>19</th>\n",
       "      <td>20</td>\n",
       "      <td>user20@example.com</td>\n",
       "      <td>Crystal Ball</td>\n",
       "      <td>This Crystal Ball is awesome! It's pure magic!...</td>\n",
       "    </tr>\n",
       "  </tbody>\n",
       "</table>\n",
       "</div>"
      ],
      "text/plain": [
       "    review_id                email  product_name  \\\n",
       "15         16   user16@example.com  Flying Broom   \n",
       "16         17  user-17@example.com  Flying Broom   \n",
       "17         18   user18@example.com        Potion   \n",
       "18         19  user-19@example.com    Magic Wand   \n",
       "19         20   user20@example.com  Crystal Ball   \n",
       "\n",
       "                                          review_text  \n",
       "15   This Spell Book is awesome! It's pure magic! )!@  \n",
       "16    This Spell Bok is awesome! It's pure magic! &!!  \n",
       "17    This Spell Bok is awesome! It's pure magic! #!(  \n",
       "18  This Flyng Broom is awesome! It's pure magic! &^$  \n",
       "19  This Crystal Ball is awesome! It's pure magic!...  "
      ]
     },
     "execution_count": 26,
     "metadata": {},
     "output_type": "execute_result"
    }
   ],
   "source": [
    "# the common typos i can see are: Spell Bok, Magic Wnd, Potin, Crystal Bll, Flyng Broom\n",
    "\n",
    "# correct the typos using dictionary and replace\n",
    "typos_correction = {\n",
    "    'Spell Bok': 'Spell Book',\n",
    "    'Magic Wnd': 'Magic Wand',\n",
    "    'Potin': 'Potion',\n",
    "    'Crystal Bll': 'Crystal Ball',\n",
    "    'Flyng Broom': 'Flying Broom'\n",
    "}\n",
    "\n",
    "customer_reviews['product_name'] = customer_reviews['product_name'].replace(typos_correction)\n",
    "\n",
    "customer_reviews.tail()"
   ]
  },
  {
   "cell_type": "markdown",
   "id": "168d3434",
   "metadata": {},
   "source": [
    "## Question 4.3: Remove any special characters from the reviews."
   ]
  },
  {
   "cell_type": "code",
   "execution_count": 27,
   "id": "1e1c15d6",
   "metadata": {},
   "outputs": [
    {
     "data": {
      "text/plain": [
       "0      This Spell Book is awesome Its pure magic \n",
       "1    This Crystal Ball is awesome Its pure magic \n",
       "2      This Magic Wand is awesome Its pure magic \n",
       "3       This Spell Bok is awesome Its pure magic \n",
       "4          This Potion is awesome Its pure magic \n",
       "Name: review_text, dtype: object"
      ]
     },
     "execution_count": 27,
     "metadata": {},
     "output_type": "execute_result"
    }
   ],
   "source": [
    "# this can be solves by simply replacing the special characters with '' (nothing)\n",
    "customer_reviews['review_text'] = customer_reviews['review_text'].str.replace(r'[^\\w\\s]', '', regex=True)\n",
    "\n",
    "customer_reviews.review_text.head()"
   ]
  },
  {
   "cell_type": "markdown",
   "id": "2c70d57d",
   "metadata": {},
   "source": [
    "### Question 4.4: Extract and count the number of reviews mentioning the word \"magic\"."
   ]
  },
  {
   "cell_type": "code",
   "execution_count": 28,
   "id": "df157f39",
   "metadata": {},
   "outputs": [
    {
     "data": {
      "text/plain": [
       "20"
      ]
     },
     "execution_count": 28,
     "metadata": {},
     "output_type": "execute_result"
    }
   ],
   "source": [
    "# here i can identify the word Magic with str.contains and count the boolean results\n",
    "contains_magic = customer_reviews['review_text'].str.contains(r'\\bmagic\\b', case=False, regex=True)\n",
    "\n",
    "contains_magic.sum()"
   ]
  },
  {
   "cell_type": "markdown",
   "id": "828c582e",
   "metadata": {},
   "source": [
    "### Question 4.5: Identify the top 3 most frequently mentioned products in the reviews."
   ]
  },
  {
   "cell_type": "code",
   "execution_count": 29,
   "id": "7bb543f1",
   "metadata": {},
   "outputs": [
    {
     "data": {
      "text/plain": [
       "[('Crystal Ball', 5), ('Spell Bok', 4), ('Potion', 3)]"
      ]
     },
     "execution_count": 29,
     "metadata": {},
     "output_type": "execute_result"
    }
   ],
   "source": [
    "# i can use the collections library to do this\n",
    "\n",
    "# List of product names and typos\n",
    "product_names_and_typos = ['Magic Wand', 'Potion', 'Spell Book', 'Crystal Ball', 'Flying Broom',\n",
    "                           'Magic Wnd', 'Potin', 'Spell Bok', 'Crystal Bll', 'Flyng Broom']\n",
    "\n",
    "from collections import Counter\n",
    "product_mention_counts = Counter()\n",
    "\n",
    "# do a count for each product name\n",
    "for product in product_names_and_typos:\n",
    "    product_mention_counts[product] = customer_reviews['review_text'].str.contains(product, case=False).sum()\n",
    "\n",
    "# output the 3 most mentioned products     \n",
    "product_mention_counts.most_common(3)"
   ]
  },
  {
   "cell_type": "code",
   "execution_count": 30,
   "id": "e2bbacaf",
   "metadata": {},
   "outputs": [
    {
     "data": {
      "text/plain": [
       "Counter({'Magic Wand': 1,\n",
       "         'Potion': 3,\n",
       "         'Spell Book': 3,\n",
       "         'Crystal Ball': 5,\n",
       "         'Flying Broom': 2,\n",
       "         'Magic Wnd': 0,\n",
       "         'Potin': 0,\n",
       "         'Spell Bok': 4,\n",
       "         'Crystal Bll': 0,\n",
       "         'Flyng Broom': 2})"
      ]
     },
     "execution_count": 30,
     "metadata": {},
     "output_type": "execute_result"
    }
   ],
   "source": [
    "product_mention_counts"
   ]
  },
  {
   "cell_type": "markdown",
   "id": "4c3c6642",
   "metadata": {},
   "source": [
    "## Q5 - Speed Demon Data Manipulation <a class=\"anchor\" id=\"chapter5\"></a>\n",
    "\n",
    "Question: Welcome to Speed Demon Data Manipulation! You are given a dataset of various fantastical creatures and their race times in different races. The data is enormous, and you need to optimize your data manipulation techniques to answer the following questions:\n",
    "\n",
    "1. Calculate the average race time for each creature.\n",
    "2. Identify the top 3 fastest creatures based on their average race time.\n",
    "3. Determine the race with the highest average race time.\n",
    "4. Find the creature with the most race wins (i.e., shortest time in each race).\n",
    "5. Calculate the total number of races each creature has participated in.\n",
    "\n",
    "Datasets:\n",
    "\n",
    "race_times: Contains columns (race_id, creature_name, race_time)."
   ]
  },
  {
   "cell_type": "code",
   "execution_count": 31,
   "id": "746b3f6f",
   "metadata": {},
   "outputs": [
    {
     "name": "stdout",
     "output_type": "stream",
     "text": [
      "Race Times DataFrame:\n",
      "   race_id       creature_name  race_time\n",
      "0        1        Speedy Snail  66.803849\n",
      "1        1        Dashy Dragon  72.773435\n",
      "2        1        Rapid Rabbit  13.132165\n",
      "3        1  Fleet-Footed Fairy  28.867382\n",
      "4        1        Quick Quokka  85.380468\n"
     ]
    }
   ],
   "source": [
    "# Seed for reproducibility\n",
    "np.random.seed(101)\n",
    "\n",
    "# Generate synthetic data\n",
    "race_ids = np.arange(1, 101)\n",
    "creature_names = ['Speedy Snail', 'Dashy Dragon', 'Rapid Rabbit', 'Fleet-Footed Fairy', 'Quick Quokka', 'Swift Sphinx', 'Nimble Niffler', 'Brisk Banshee']\n",
    "\n",
    "data = []\n",
    "for race in race_ids:\n",
    "    for creature in creature_names:\n",
    "        race_time = np.random.uniform(10, 120)  # Race times in seconds\n",
    "        data.append([race, creature, race_time])\n",
    "\n",
    "# Create DataFrame\n",
    "race_times = pd.DataFrame(data, columns=['race_id', 'creature_name', 'race_time'])\n",
    "\n",
    "# Display the dataset\n",
    "print(\"Race Times DataFrame:\")\n",
    "print(race_times.head())"
   ]
  },
  {
   "cell_type": "markdown",
   "id": "2f7a0364",
   "metadata": {},
   "source": [
    "### Question 5.1: Calculate the average race time for each creature."
   ]
  },
  {
   "cell_type": "code",
   "execution_count": 32,
   "id": "b240960b",
   "metadata": {},
   "outputs": [
    {
     "data": {
      "text/html": [
       "<div>\n",
       "<style scoped>\n",
       "    .dataframe tbody tr th:only-of-type {\n",
       "        vertical-align: middle;\n",
       "    }\n",
       "\n",
       "    .dataframe tbody tr th {\n",
       "        vertical-align: top;\n",
       "    }\n",
       "\n",
       "    .dataframe thead th {\n",
       "        text-align: right;\n",
       "    }\n",
       "</style>\n",
       "<table border=\"1\" class=\"dataframe\">\n",
       "  <thead>\n",
       "    <tr style=\"text-align: right;\">\n",
       "      <th></th>\n",
       "      <th>creature_name</th>\n",
       "      <th>race_time</th>\n",
       "    </tr>\n",
       "  </thead>\n",
       "  <tbody>\n",
       "    <tr>\n",
       "      <th>0</th>\n",
       "      <td>Brisk Banshee</td>\n",
       "      <td>66.305692</td>\n",
       "    </tr>\n",
       "    <tr>\n",
       "      <th>1</th>\n",
       "      <td>Dashy Dragon</td>\n",
       "      <td>65.141639</td>\n",
       "    </tr>\n",
       "    <tr>\n",
       "      <th>2</th>\n",
       "      <td>Fleet-Footed Fairy</td>\n",
       "      <td>67.195204</td>\n",
       "    </tr>\n",
       "    <tr>\n",
       "      <th>3</th>\n",
       "      <td>Nimble Niffler</td>\n",
       "      <td>63.375094</td>\n",
       "    </tr>\n",
       "    <tr>\n",
       "      <th>4</th>\n",
       "      <td>Quick Quokka</td>\n",
       "      <td>66.981233</td>\n",
       "    </tr>\n",
       "    <tr>\n",
       "      <th>5</th>\n",
       "      <td>Rapid Rabbit</td>\n",
       "      <td>68.910263</td>\n",
       "    </tr>\n",
       "    <tr>\n",
       "      <th>6</th>\n",
       "      <td>Speedy Snail</td>\n",
       "      <td>64.065256</td>\n",
       "    </tr>\n",
       "    <tr>\n",
       "      <th>7</th>\n",
       "      <td>Swift Sphinx</td>\n",
       "      <td>62.625939</td>\n",
       "    </tr>\n",
       "  </tbody>\n",
       "</table>\n",
       "</div>"
      ],
      "text/plain": [
       "        creature_name  race_time\n",
       "0       Brisk Banshee  66.305692\n",
       "1        Dashy Dragon  65.141639\n",
       "2  Fleet-Footed Fairy  67.195204\n",
       "3      Nimble Niffler  63.375094\n",
       "4        Quick Quokka  66.981233\n",
       "5        Rapid Rabbit  68.910263\n",
       "6        Speedy Snail  64.065256\n",
       "7        Swift Sphinx  62.625939"
      ]
     },
     "execution_count": 32,
     "metadata": {},
     "output_type": "execute_result"
    }
   ],
   "source": [
    "# use groupby and mean()\n",
    "avg_race_time = race_times.groupby('creature_name')['race_time'].mean().reset_index()\n",
    "\n",
    "avg_race_time"
   ]
  },
  {
   "cell_type": "markdown",
   "id": "dfcb854a",
   "metadata": {},
   "source": [
    "### Question 5.2: Identify the top 3 fastest creatures based on their average race time."
   ]
  },
  {
   "cell_type": "code",
   "execution_count": 33,
   "id": "4fd3a060",
   "metadata": {},
   "outputs": [
    {
     "data": {
      "text/html": [
       "<div>\n",
       "<style scoped>\n",
       "    .dataframe tbody tr th:only-of-type {\n",
       "        vertical-align: middle;\n",
       "    }\n",
       "\n",
       "    .dataframe tbody tr th {\n",
       "        vertical-align: top;\n",
       "    }\n",
       "\n",
       "    .dataframe thead th {\n",
       "        text-align: right;\n",
       "    }\n",
       "</style>\n",
       "<table border=\"1\" class=\"dataframe\">\n",
       "  <thead>\n",
       "    <tr style=\"text-align: right;\">\n",
       "      <th></th>\n",
       "      <th>creature_name</th>\n",
       "      <th>race_time</th>\n",
       "    </tr>\n",
       "  </thead>\n",
       "  <tbody>\n",
       "    <tr>\n",
       "      <th>5</th>\n",
       "      <td>Rapid Rabbit</td>\n",
       "      <td>68.910263</td>\n",
       "    </tr>\n",
       "    <tr>\n",
       "      <th>2</th>\n",
       "      <td>Fleet-Footed Fairy</td>\n",
       "      <td>67.195204</td>\n",
       "    </tr>\n",
       "    <tr>\n",
       "      <th>4</th>\n",
       "      <td>Quick Quokka</td>\n",
       "      <td>66.981233</td>\n",
       "    </tr>\n",
       "  </tbody>\n",
       "</table>\n",
       "</div>"
      ],
      "text/plain": [
       "        creature_name  race_time\n",
       "5        Rapid Rabbit  68.910263\n",
       "2  Fleet-Footed Fairy  67.195204\n",
       "4        Quick Quokka  66.981233"
      ]
     },
     "execution_count": 33,
     "metadata": {},
     "output_type": "execute_result"
    }
   ],
   "source": [
    "# just sort the table from the previous task and output the top 3\n",
    "avg_race_time.sort_values(by='race_time', ascending=False).head(3)"
   ]
  },
  {
   "cell_type": "markdown",
   "id": "87099aca",
   "metadata": {},
   "source": [
    "### Question 5.3: Determine the race with the highest average race time."
   ]
  },
  {
   "cell_type": "code",
   "execution_count": 34,
   "id": "f603c278",
   "metadata": {},
   "outputs": [
    {
     "data": {
      "text/plain": [
       "race_id          55.000000\n",
       "avg_race_time    86.088825\n",
       "Name: 54, dtype: float64"
      ]
     },
     "execution_count": 34,
     "metadata": {},
     "output_type": "execute_result"
    }
   ],
   "source": [
    "# calculate average race time for each race\n",
    "avg_race_times = race_times.groupby('race_id')['race_time'].mean().reset_index()\n",
    "\n",
    "avg_race_times.columns = ['race_id', 'avg_race_time']\n",
    "\n",
    "# find race with highest average race time\n",
    "highest_avg_time = avg_race_times.loc[avg_race_times['avg_race_time'].idxmax()]\n",
    "\n",
    "highest_avg_time"
   ]
  },
  {
   "cell_type": "markdown",
   "id": "64175820",
   "metadata": {},
   "source": [
    "### Question 5.4: Find the creature with the most race wins (i.e., shortest time in each race)."
   ]
  },
  {
   "cell_type": "code",
   "execution_count": 35,
   "id": "aa0744ed",
   "metadata": {},
   "outputs": [
    {
     "data": {
      "text/html": [
       "<div>\n",
       "<style scoped>\n",
       "    .dataframe tbody tr th:only-of-type {\n",
       "        vertical-align: middle;\n",
       "    }\n",
       "\n",
       "    .dataframe tbody tr th {\n",
       "        vertical-align: top;\n",
       "    }\n",
       "\n",
       "    .dataframe thead th {\n",
       "        text-align: right;\n",
       "    }\n",
       "</style>\n",
       "<table border=\"1\" class=\"dataframe\">\n",
       "  <thead>\n",
       "    <tr style=\"text-align: right;\">\n",
       "      <th></th>\n",
       "      <th>creature_name</th>\n",
       "      <th>win_count</th>\n",
       "    </tr>\n",
       "  </thead>\n",
       "  <tbody>\n",
       "    <tr>\n",
       "      <th>0</th>\n",
       "      <td>Fleet-Footed Fairy</td>\n",
       "      <td>16</td>\n",
       "    </tr>\n",
       "  </tbody>\n",
       "</table>\n",
       "</div>"
      ],
      "text/plain": [
       "        creature_name  win_count\n",
       "0  Fleet-Footed Fairy         16"
      ]
     },
     "execution_count": 35,
     "metadata": {},
     "output_type": "execute_result"
    }
   ],
   "source": [
    "# find the winner of each race\n",
    "race_winners = race_times.loc[race_times.groupby('race_id')['race_time'].idxmin()]\n",
    "\n",
    "# count each creature's wins\n",
    "win_counts = race_winners['creature_name'].value_counts().reset_index()\n",
    "win_counts.columns = ['creature_name', 'win_count']\n",
    "\n",
    "win_counts.head(1)"
   ]
  },
  {
   "cell_type": "markdown",
   "id": "bcb8dfe6",
   "metadata": {},
   "source": [
    "### Question 5.5: Calculate the total number of races each creature has participated in."
   ]
  },
  {
   "cell_type": "code",
   "execution_count": 36,
   "id": "68859625",
   "metadata": {},
   "outputs": [
    {
     "data": {
      "text/plain": [
       "creature_name\n",
       "Brisk Banshee         100\n",
       "Dashy Dragon          100\n",
       "Fleet-Footed Fairy    100\n",
       "Nimble Niffler        100\n",
       "Quick Quokka          100\n",
       "Rapid Rabbit          100\n",
       "Speedy Snail          100\n",
       "Swift Sphinx          100\n",
       "Name: race_id, dtype: int64"
      ]
     },
     "execution_count": 36,
     "metadata": {},
     "output_type": "execute_result"
    }
   ],
   "source": [
    "# just count races for each creature\n",
    "race_times.groupby('creature_name')['race_id'].count()"
   ]
  },
  {
   "cell_type": "markdown",
   "id": "feddfb66",
   "metadata": {},
   "source": [
    "## Q6 - Recursive Riddle <a class=\"anchor\" id=\"chapter6\"></a>\n",
    "\n",
    "Question: Welcome to the Recursive Riddle! You are given a dataset containing information about a series of magical quests and the hierarchical structure of tasks within each quest. Each task may depend on the completion of other tasks. Your task is to use recursive techniques to answer the following questions:\n",
    "\n",
    "1. Determine the total number of tasks in each quest.\n",
    "2. Identify the task that has the most dependencies in each quest.\n",
    "3. Calculate the total time required to complete each quest.\n",
    "4. Find the deepest level of task dependency in each quest.\n",
    "5. List the tasks in each quest in the order they should be completed.\n",
    "\n",
    "Datasets:\n",
    "\n",
    "magical_quests: Contains columns (quest_id, task_id, task_name, depends_on, time_required)."
   ]
  },
  {
   "cell_type": "code",
   "execution_count": 37,
   "id": "a2850990",
   "metadata": {},
   "outputs": [
    {
     "name": "stdout",
     "output_type": "stream",
     "text": [
      "Magical Quests DataFrame:\n",
      "   quest_id  task_id         task_name depends_on  time_required\n",
      "0         1       11    Enchant Object       None             40\n",
      "1         1       14  Find Hidden Path       [20]             10\n",
      "2         1        3        Tame Beast       None             10\n",
      "3         1       12        Tame Beast       None             10\n",
      "4         1       15        Tame Beast    [5, 16]             10\n"
     ]
    }
   ],
   "source": [
    "# Seed for reproducibility\n",
    "np.random.seed(202)\n",
    "\n",
    "# Generate synthetic data\n",
    "quest_ids = np.arange(1, 6)\n",
    "task_ids = np.arange(1, 21)\n",
    "task_names = ['Gather Ingredients', 'Cast Spell', 'Brew Potion', 'Enchant Object', 'Defeat Monster', 'Rescue Ally', 'Find Hidden Path', 'Solve Puzzle', 'Forge Weapon', 'Tame Beast']\n",
    "depends_on_options = [None] + list(task_ids)\n",
    "\n",
    "data = []\n",
    "for quest in quest_ids:\n",
    "    num_tasks = np.random.randint(5, 10)\n",
    "    tasks = np.random.choice(task_ids, num_tasks, replace=False)\n",
    "    for task in tasks:\n",
    "        depends_on = np.random.choice(depends_on_options, np.random.randint(0, 3)).tolist() if np.random.rand() > 0.3 else None\n",
    "        time_required = np.random.randint(1, 5) * 10  # Time required in minutes\n",
    "        data.append([quest, task, np.random.choice(task_names), depends_on, time_required])\n",
    "\n",
    "# Create DataFrame\n",
    "magical_quests = pd.DataFrame(data, columns=['quest_id', 'task_id', 'task_name', 'depends_on', 'time_required'])\n",
    "\n",
    "# Convert lists of single elements to integers and empty lists to None\n",
    "magical_quests['depends_on'] = magical_quests['depends_on'].apply(lambda x: x if isinstance(x, list) and x else None)\n",
    "\n",
    "# Display the dataset\n",
    "print(\"Magical Quests DataFrame:\")\n",
    "print(magical_quests.head())"
   ]
  },
  {
   "cell_type": "markdown",
   "id": "aee5b1d1",
   "metadata": {},
   "source": [
    "### Question 6.1: Determine the total number of tasks in each quest."
   ]
  },
  {
   "cell_type": "code",
   "execution_count": 38,
   "id": "60f9ee15",
   "metadata": {},
   "outputs": [
    {
     "data": {
      "text/html": [
       "<div>\n",
       "<style scoped>\n",
       "    .dataframe tbody tr th:only-of-type {\n",
       "        vertical-align: middle;\n",
       "    }\n",
       "\n",
       "    .dataframe tbody tr th {\n",
       "        vertical-align: top;\n",
       "    }\n",
       "\n",
       "    .dataframe thead th {\n",
       "        text-align: right;\n",
       "    }\n",
       "</style>\n",
       "<table border=\"1\" class=\"dataframe\">\n",
       "  <thead>\n",
       "    <tr style=\"text-align: right;\">\n",
       "      <th></th>\n",
       "      <th>quest_id</th>\n",
       "      <th>total_tasks</th>\n",
       "    </tr>\n",
       "  </thead>\n",
       "  <tbody>\n",
       "    <tr>\n",
       "      <th>0</th>\n",
       "      <td>1</td>\n",
       "      <td>8</td>\n",
       "    </tr>\n",
       "    <tr>\n",
       "      <th>1</th>\n",
       "      <td>2</td>\n",
       "      <td>8</td>\n",
       "    </tr>\n",
       "    <tr>\n",
       "      <th>2</th>\n",
       "      <td>3</td>\n",
       "      <td>9</td>\n",
       "    </tr>\n",
       "    <tr>\n",
       "      <th>3</th>\n",
       "      <td>4</td>\n",
       "      <td>8</td>\n",
       "    </tr>\n",
       "    <tr>\n",
       "      <th>4</th>\n",
       "      <td>5</td>\n",
       "      <td>8</td>\n",
       "    </tr>\n",
       "  </tbody>\n",
       "</table>\n",
       "</div>"
      ],
      "text/plain": [
       "   quest_id  total_tasks\n",
       "0         1            8\n",
       "1         2            8\n",
       "2         3            9\n",
       "3         4            8\n",
       "4         5            8"
      ]
     },
     "execution_count": 38,
     "metadata": {},
     "output_type": "execute_result"
    }
   ],
   "source": [
    "tasks_per_quest = magical_quests.groupby('quest_id')['task_id'].count().reset_index()\n",
    "tasks_per_quest.columns = ['quest_id', 'total_tasks']\n",
    "tasks_per_quest"
   ]
  },
  {
   "cell_type": "markdown",
   "id": "9bb03081",
   "metadata": {},
   "source": [
    "### Question 6.2: Identify the task that has the most dependencies in each quest."
   ]
  },
  {
   "cell_type": "code",
   "execution_count": 39,
   "id": "3ee95dd2",
   "metadata": {},
   "outputs": [
    {
     "data": {
      "text/html": [
       "<div>\n",
       "<style scoped>\n",
       "    .dataframe tbody tr th:only-of-type {\n",
       "        vertical-align: middle;\n",
       "    }\n",
       "\n",
       "    .dataframe tbody tr th {\n",
       "        vertical-align: top;\n",
       "    }\n",
       "\n",
       "    .dataframe thead th {\n",
       "        text-align: right;\n",
       "    }\n",
       "</style>\n",
       "<table border=\"1\" class=\"dataframe\">\n",
       "  <thead>\n",
       "    <tr style=\"text-align: right;\">\n",
       "      <th></th>\n",
       "      <th>quest_id</th>\n",
       "      <th>task_id</th>\n",
       "      <th>task_name</th>\n",
       "      <th>depends_on</th>\n",
       "      <th>time_required</th>\n",
       "      <th>num_dependencies</th>\n",
       "    </tr>\n",
       "  </thead>\n",
       "  <tbody>\n",
       "    <tr>\n",
       "      <th>4</th>\n",
       "      <td>1</td>\n",
       "      <td>15</td>\n",
       "      <td>Tame Beast</td>\n",
       "      <td>[5, 16]</td>\n",
       "      <td>10</td>\n",
       "      <td>2</td>\n",
       "    </tr>\n",
       "    <tr>\n",
       "      <th>8</th>\n",
       "      <td>2</td>\n",
       "      <td>12</td>\n",
       "      <td>Solve Puzzle</td>\n",
       "      <td>[None]</td>\n",
       "      <td>30</td>\n",
       "      <td>1</td>\n",
       "    </tr>\n",
       "    <tr>\n",
       "      <th>17</th>\n",
       "      <td>3</td>\n",
       "      <td>10</td>\n",
       "      <td>Enchant Object</td>\n",
       "      <td>[3, 3]</td>\n",
       "      <td>30</td>\n",
       "      <td>2</td>\n",
       "    </tr>\n",
       "    <tr>\n",
       "      <th>27</th>\n",
       "      <td>4</td>\n",
       "      <td>10</td>\n",
       "      <td>Defeat Monster</td>\n",
       "      <td>[13, 10]</td>\n",
       "      <td>40</td>\n",
       "      <td>2</td>\n",
       "    </tr>\n",
       "    <tr>\n",
       "      <th>33</th>\n",
       "      <td>5</td>\n",
       "      <td>7</td>\n",
       "      <td>Gather Ingredients</td>\n",
       "      <td>[4, 16]</td>\n",
       "      <td>10</td>\n",
       "      <td>2</td>\n",
       "    </tr>\n",
       "  </tbody>\n",
       "</table>\n",
       "</div>"
      ],
      "text/plain": [
       "    quest_id  task_id           task_name depends_on  time_required  \\\n",
       "4          1       15          Tame Beast    [5, 16]             10   \n",
       "8          2       12        Solve Puzzle     [None]             30   \n",
       "17         3       10      Enchant Object     [3, 3]             30   \n",
       "27         4       10      Defeat Monster   [13, 10]             40   \n",
       "33         5        7  Gather Ingredients    [4, 16]             10   \n",
       "\n",
       "    num_dependencies  \n",
       "4                  2  \n",
       "8                  1  \n",
       "17                 2  \n",
       "27                 2  \n",
       "33                 2  "
      ]
     },
     "execution_count": 39,
     "metadata": {},
     "output_type": "execute_result"
    }
   ],
   "source": [
    "# make new column with number of dependencies as depends_on is a list\n",
    "magical_quests['num_dependencies'] = magical_quests['depends_on'].apply(lambda x: len(x) if isinstance(x, list) else 0)\n",
    "\n",
    "magical_quests.loc[magical_quests.groupby('quest_id')['num_dependencies'].idxmax()]"
   ]
  },
  {
   "cell_type": "markdown",
   "id": "5dfc8c65",
   "metadata": {},
   "source": [
    "### Question 6.3: Calculate the total time required to complete each quest."
   ]
  },
  {
   "cell_type": "code",
   "execution_count": 40,
   "id": "817ce88e",
   "metadata": {},
   "outputs": [
    {
     "data": {
      "text/html": [
       "<div>\n",
       "<style scoped>\n",
       "    .dataframe tbody tr th:only-of-type {\n",
       "        vertical-align: middle;\n",
       "    }\n",
       "\n",
       "    .dataframe tbody tr th {\n",
       "        vertical-align: top;\n",
       "    }\n",
       "\n",
       "    .dataframe thead th {\n",
       "        text-align: right;\n",
       "    }\n",
       "</style>\n",
       "<table border=\"1\" class=\"dataframe\">\n",
       "  <thead>\n",
       "    <tr style=\"text-align: right;\">\n",
       "      <th></th>\n",
       "      <th>quest_id</th>\n",
       "      <th>total_time_required</th>\n",
       "    </tr>\n",
       "  </thead>\n",
       "  <tbody>\n",
       "    <tr>\n",
       "      <th>0</th>\n",
       "      <td>1</td>\n",
       "      <td>150</td>\n",
       "    </tr>\n",
       "    <tr>\n",
       "      <th>1</th>\n",
       "      <td>2</td>\n",
       "      <td>220</td>\n",
       "    </tr>\n",
       "    <tr>\n",
       "      <th>2</th>\n",
       "      <td>3</td>\n",
       "      <td>200</td>\n",
       "    </tr>\n",
       "    <tr>\n",
       "      <th>3</th>\n",
       "      <td>4</td>\n",
       "      <td>250</td>\n",
       "    </tr>\n",
       "    <tr>\n",
       "      <th>4</th>\n",
       "      <td>5</td>\n",
       "      <td>180</td>\n",
       "    </tr>\n",
       "  </tbody>\n",
       "</table>\n",
       "</div>"
      ],
      "text/plain": [
       "   quest_id  total_time_required\n",
       "0         1                  150\n",
       "1         2                  220\n",
       "2         3                  200\n",
       "3         4                  250\n",
       "4         5                  180"
      ]
     },
     "execution_count": 40,
     "metadata": {},
     "output_type": "execute_result"
    }
   ],
   "source": [
    "total_time = magical_quests.groupby('quest_id')['time_required'].sum().reset_index()\n",
    "total_time.columns = ['quest_id', 'total_time_required']\n",
    "total_time"
   ]
  },
  {
   "cell_type": "markdown",
   "id": "f46256a1",
   "metadata": {},
   "source": [
    "### Question 6.4: Find the deepest level of task dependency in each quest."
   ]
  },
  {
   "cell_type": "code",
   "execution_count": 41,
   "id": "2d6f8cb9",
   "metadata": {},
   "outputs": [],
   "source": [
    "# this question is a bit more work as a quest can depend on a quest that can depend on another quest and so on\n",
    "# i will use a DFS approach here\n",
    "\n",
    "# dictionary to represent the task dependencies for each quest\n",
    "dependency_dict = {}\n",
    "for _, row in magical_quests.iterrows():\n",
    "    quest_id = row['quest_id']\n",
    "    task_id = row['task_id']\n",
    "    depends_on = row['depends_on']\n",
    "        \n",
    "    if quest_id not in dependency_dict:\n",
    "        dependency_dict[quest_id] = {}\n",
    "    \n",
    "    dependency_dict[quest_id][task_id] = depends_on if isinstance(depends_on, list) else []"
   ]
  },
  {
   "cell_type": "code",
   "execution_count": 42,
   "id": "e68f7042",
   "metadata": {},
   "outputs": [],
   "source": [
    "# recursive function for DFS\n",
    "def find_dependency_depth(quest_dict, task_id, visited):\n",
    "    if task_id not in quest_dict or not quest_dict[task_id]:\n",
    "        return 0\n",
    "    \n",
    "    if task_id in visited:\n",
    "        return 0\n",
    "    \n",
    "    visited.add(task_id)\n",
    "    max_depth = 0\n",
    "    for dep in quest_dict[task_id]:\n",
    "        max_depth = max(max_depth, find_dependency_depth(quest_dict, dep, visited))\n",
    "    visited.remove(task_id)\n",
    "    \n",
    "    return max_depth + 1"
   ]
  },
  {
   "cell_type": "code",
   "execution_count": 43,
   "id": "72dc3974",
   "metadata": {},
   "outputs": [
    {
     "data": {
      "text/html": [
       "<div>\n",
       "<style scoped>\n",
       "    .dataframe tbody tr th:only-of-type {\n",
       "        vertical-align: middle;\n",
       "    }\n",
       "\n",
       "    .dataframe tbody tr th {\n",
       "        vertical-align: top;\n",
       "    }\n",
       "\n",
       "    .dataframe thead th {\n",
       "        text-align: right;\n",
       "    }\n",
       "</style>\n",
       "<table border=\"1\" class=\"dataframe\">\n",
       "  <thead>\n",
       "    <tr style=\"text-align: right;\">\n",
       "      <th></th>\n",
       "      <th>quest_id</th>\n",
       "      <th>deepest_dependecy_lvl</th>\n",
       "    </tr>\n",
       "  </thead>\n",
       "  <tbody>\n",
       "    <tr>\n",
       "      <th>0</th>\n",
       "      <td>1</td>\n",
       "      <td>2</td>\n",
       "    </tr>\n",
       "    <tr>\n",
       "      <th>1</th>\n",
       "      <td>2</td>\n",
       "      <td>1</td>\n",
       "    </tr>\n",
       "    <tr>\n",
       "      <th>2</th>\n",
       "      <td>3</td>\n",
       "      <td>3</td>\n",
       "    </tr>\n",
       "    <tr>\n",
       "      <th>3</th>\n",
       "      <td>4</td>\n",
       "      <td>2</td>\n",
       "    </tr>\n",
       "    <tr>\n",
       "      <th>4</th>\n",
       "      <td>5</td>\n",
       "      <td>1</td>\n",
       "    </tr>\n",
       "  </tbody>\n",
       "</table>\n",
       "</div>"
      ],
      "text/plain": [
       "   quest_id  deepest_dependecy_lvl\n",
       "0         1                      2\n",
       "1         2                      1\n",
       "2         3                      3\n",
       "3         4                      2\n",
       "4         5                      1"
      ]
     },
     "execution_count": 43,
     "metadata": {},
     "output_type": "execute_result"
    }
   ],
   "source": [
    "deepest_levels = []\n",
    "for quest_id, quest_dict in dependency_dict.items():\n",
    "    max_depth = 0\n",
    "    for task_id in quest_dict:\n",
    "        max_depth = max(max_depth, find_dependency_depth(quest_dict, task_id, set()))\n",
    "    deepest_levels.append([quest_id, max_depth])\n",
    "    \n",
    "pd.DataFrame(deepest_levels, columns=['quest_id', 'deepest_dependecy_lvl'])"
   ]
  },
  {
   "cell_type": "markdown",
   "id": "b0da1508",
   "metadata": {},
   "source": [
    "### Question 6.5: List the tasks in each quest in the order they should be completed."
   ]
  },
  {
   "cell_type": "code",
   "execution_count": 44,
   "id": "3d7e24fd",
   "metadata": {},
   "outputs": [
    {
     "name": "stdout",
     "output_type": "stream",
     "text": [
      "Tasks in Each Quest in the Order They Should Be Completed\n",
      "    quest_id           task_name  order\n",
      "0          1      Enchant Object      0\n",
      "1          1      Enchant Object      1\n",
      "2          1    Find Hidden Path      2\n",
      "3          1          Tame Beast      3\n",
      "4          1          Tame Beast      4\n",
      "5          1          Tame Beast      5\n",
      "6          1  Gather Ingredients      6\n",
      "7          1          Cast Spell      7\n",
      "8          2        Solve Puzzle      0\n",
      "9          2    Find Hidden Path      1\n",
      "10         2        Solve Puzzle      2\n",
      "11         2          Cast Spell      3\n",
      "12         2  Gather Ingredients      4\n",
      "13         2         Rescue Ally      5\n",
      "14         2        Solve Puzzle      6\n",
      "15         2         Rescue Ally      7\n",
      "16         3          Cast Spell      0\n",
      "17         3         Rescue Ally      1\n",
      "18         3         Rescue Ally      2\n",
      "19         3          Cast Spell      3\n",
      "20         3      Enchant Object      4\n",
      "21         3          Cast Spell      5\n",
      "22         3      Defeat Monster      6\n",
      "23         3    Find Hidden Path      7\n",
      "24         3          Tame Beast      8\n",
      "25         4      Defeat Monster      0\n",
      "26         4        Forge Weapon      1\n",
      "27         4      Defeat Monster      2\n",
      "28         4         Brew Potion      3\n",
      "29         4  Gather Ingredients      4\n",
      "30         4      Enchant Object      5\n",
      "31         4  Gather Ingredients      6\n",
      "32         4         Brew Potion      7\n",
      "33         5        Forge Weapon      0\n",
      "34         5  Gather Ingredients      1\n",
      "35         5        Solve Puzzle      2\n",
      "36         5      Enchant Object      3\n",
      "37         5          Tame Beast      4\n",
      "38         5         Brew Potion      5\n",
      "39         5         Brew Potion      6\n",
      "40         5  Gather Ingredients      7\n"
     ]
    }
   ],
   "source": [
    "from collections import defaultdict\n",
    "# helper function to build dependency_graph\n",
    "def build_dependency_graph(df):\n",
    "    graph = defaultdict(list)\n",
    "    time_required = {}\n",
    "    for _, row in df.iterrows():\n",
    "        graph[row['task_id']] = row['depends_on'] if row['depends_on'] is not None else []\n",
    "        time_required[row['task_id']] = row['time_required']\n",
    "    return graph, time_required\n",
    "\n",
    "# list the tasks in each quest in the order they should be completed\n",
    "def find_order(task_id, graph, visited=None):\n",
    "    if visited is None:\n",
    "        visited = set()\n",
    "    if task_id in visited:\n",
    "        return []\n",
    "    visited.add(task_id)\n",
    "    order = []\n",
    "    for dep in graph[task_id]:\n",
    "        if dep in graph:\n",
    "            order.extend(find_order(dep, graph, visited))\n",
    "    return order + [task_id]\n",
    "\n",
    "# find task order for each quest\n",
    "task_orders = []\n",
    "for quest, group in magical_quests.groupby('quest_id'):\n",
    "    graph, _ = build_dependency_graph(group)\n",
    "    all_orders = []\n",
    "    for task_id in group['task_id']:\n",
    "        all_orders.extend(find_order(task_id, graph))\n",
    "    unique_orders = list(dict.fromkeys(all_orders))  # Remove duplicates while preserving order\n",
    "    for i, t in enumerate(unique_orders):\n",
    "        task_orders.append([quest, t, i])\n",
    "\n",
    "\n",
    "# output the orders\n",
    "task_orders_df = pd.DataFrame(task_orders, columns=['quest_id', 'task_id', 'order']).sort_values(by=['quest_id', 'order'])\n",
    "ordered_tasks = pd.merge(task_orders_df, magical_quests[['quest_id', 'task_id', 'task_name']], on=['quest_id', 'task_id'])\n",
    "\n",
    "print(\"Tasks in Each Quest in the Order They Should Be Completed\")\n",
    "print(ordered_tasks[['quest_id', 'task_name', 'order']])"
   ]
  },
  {
   "cell_type": "markdown",
   "id": "c9711c3b",
   "metadata": {},
   "source": [
    "## Q7 - Statistician's Nightmare <a class=\"anchor\" id=\"chapter7\"></a>\n",
    "\n",
    "Question: Welcome to the Statistician's Nightmare! You are given a dataset of various magical creatures and their bizarre daily activities. The data is filled with quirky statistics and unusual measures. Your task is to perform statistical analysis to answer the following questions:\n",
    "\n",
    "1. Calculate the mean, median, and mode of the hours each creature spends on different activities.\n",
    "2. Identify the creature with the highest variance in activity hours.\n",
    "3. Determine the correlation between the number of magical spells cast and the hours spent on activities.\n",
    "4. Find outliers in the dataset based on activity hours.\n",
    "5. Perform a hypothesis test to determine if the average hours spent by creatures on \"Flying\" is different from \"Potion Making.\"\n",
    "\n",
    "Datasets:\n",
    "\n",
    "creature_activities: Contains columns (creature_id, creature_name, activity, hours, spells_cast)."
   ]
  },
  {
   "cell_type": "code",
   "execution_count": 45,
   "id": "39e17908",
   "metadata": {},
   "outputs": [
    {
     "name": "stdout",
     "output_type": "stream",
     "text": [
      "Creature Activities DataFrame:\n",
      "   creature_id creature_name          activity  hours  spells_cast\n",
      "0            1   Percy Pixie            Flying     18            1\n",
      "1            1   Percy Pixie     Potion Making      4           21\n",
      "2            1   Percy Pixie     Spell Casting     12           38\n",
      "3            1   Percy Pixie    Herb Gathering     10           72\n",
      "4            1   Percy Pixie  Treasure Hunting     18           30\n"
     ]
    }
   ],
   "source": [
    "from scipy import stats\n",
    "\n",
    "# Seed for reproducibility\n",
    "np.random.seed(303)\n",
    "\n",
    "# Generate synthetic data\n",
    "creature_ids = np.arange(1, 21)\n",
    "creature_names = ['Frodo Frog', 'Gimli Gnome', 'Luna Leprechaun', 'Percy Pixie', 'Trevor Troll']\n",
    "activities = ['Flying', 'Potion Making', 'Spell Casting', 'Herb Gathering', 'Treasure Hunting']\n",
    "hours_options = np.arange(0, 25)\n",
    "spells_cast_options = np.arange(0, 101)\n",
    "\n",
    "data = []\n",
    "for creature in creature_ids:\n",
    "    creature_name = np.random.choice(creature_names)\n",
    "    for activity in activities:\n",
    "        hours = np.random.choice(hours_options)\n",
    "        spells_cast = np.random.choice(spells_cast_options)\n",
    "        data.append([creature, creature_name, activity, hours, spells_cast])\n",
    "\n",
    "# Create DataFrame\n",
    "creature_activities = pd.DataFrame(data, columns=['creature_id', 'creature_name', 'activity', 'hours', 'spells_cast'])\n",
    "\n",
    "# Display the dataset\n",
    "print(\"Creature Activities DataFrame:\")\n",
    "print(creature_activities.head())"
   ]
  },
  {
   "cell_type": "markdown",
   "id": "1c03de4a",
   "metadata": {},
   "source": [
    "### Question 7.1: Calculate the mean, median, and mode of the hours each creature spends on different activities."
   ]
  },
  {
   "cell_type": "code",
   "execution_count": 46,
   "id": "529400e2",
   "metadata": {},
   "outputs": [
    {
     "name": "stdout",
     "output_type": "stream",
     "text": [
      "Mean Hours:\n",
      "creature_name\n",
      "Frodo Frog         11.950000\n",
      "Gimli Gnome        12.400000\n",
      "Luna Leprechaun    11.966667\n",
      "Percy Pixie        12.085714\n",
      "Trevor Troll       14.600000\n",
      "Name: hours, dtype: float64\n",
      "\n",
      "Median Hours:\n",
      "creature_name\n",
      "Frodo Frog         13.5\n",
      "Gimli Gnome        10.0\n",
      "Luna Leprechaun    12.0\n",
      "Percy Pixie        12.0\n",
      "Trevor Troll       18.0\n",
      "Name: hours, dtype: float64\n",
      "\n",
      "Mode Hours:\n",
      "creature_name\n",
      "Frodo Frog         14\n",
      "Gimli Gnome         9\n",
      "Luna Leprechaun    18\n",
      "Percy Pixie         6\n",
      "Trevor Troll       18\n",
      "Name: hours, dtype: int32\n"
     ]
    }
   ],
   "source": [
    "# calculations\n",
    "mean_hours = creature_activities.groupby('creature_name')['hours'].mean()\n",
    "median_hours = creature_activities.groupby('creature_name')['hours'].median()\n",
    "mode_hours = creature_activities.groupby('creature_name')['hours'].agg(lambda x: x.mode()[0])\n",
    "\n",
    "# output\n",
    "print(\"Mean Hours:\")\n",
    "print(mean_hours)\n",
    "print(\"\\nMedian Hours:\")\n",
    "print(median_hours)\n",
    "print(\"\\nMode Hours:\")\n",
    "print(mode_hours)"
   ]
  },
  {
   "cell_type": "markdown",
   "id": "22e0d1b3",
   "metadata": {},
   "source": [
    "### Question 7.2: Identify the creature with the highest variance in activity hours."
   ]
  },
  {
   "cell_type": "code",
   "execution_count": 47,
   "id": "6c4f3975",
   "metadata": {},
   "outputs": [
    {
     "name": "stdout",
     "output_type": "stream",
     "text": [
      "Creature with highest variance in activity hours: Luna Leprechaun, with variance: 55.8264367816092\n"
     ]
    }
   ],
   "source": [
    "# get variance of each creature\n",
    "var_hours = creature_activities.groupby('creature_name')['hours'].var()\n",
    "\n",
    "# find creature with highest var and the var value\n",
    "highest_var = var_hours.idxmax()\n",
    "highest_var_value = var_hours.max()\n",
    "\n",
    "# output\n",
    "print(f\"Creature with highest variance in activity hours: {highest_var}, with variance: {highest_var_value}\")"
   ]
  },
  {
   "cell_type": "markdown",
   "id": "42247c13",
   "metadata": {},
   "source": [
    "### Question 7.3: Determine the correlation between the number of magical spells cast and the hours spent on activities."
   ]
  },
  {
   "cell_type": "code",
   "execution_count": 48,
   "id": "43d20ec2",
   "metadata": {},
   "outputs": [
    {
     "name": "stdout",
     "output_type": "stream",
     "text": [
      "Correlation between spells cast and hours spent is: 0.10821370480526496\n"
     ]
    }
   ],
   "source": [
    "# calculate correlation coefficient between 'hours' and 'spells_cast'\n",
    "correlation = creature_activities['hours'].corr(creature_activities['spells_cast'])\n",
    "\n",
    "print(f\"Correlation between spells cast and hours spent is: {correlation}\")"
   ]
  },
  {
   "cell_type": "markdown",
   "id": "3c0c6cfb",
   "metadata": {},
   "source": [
    "### Question 7.4: Find outliers in the dataset based on activity hours."
   ]
  },
  {
   "cell_type": "code",
   "execution_count": 49,
   "id": "328fd4a1",
   "metadata": {},
   "outputs": [
    {
     "data": {
      "text/html": [
       "<div>\n",
       "<style scoped>\n",
       "    .dataframe tbody tr th:only-of-type {\n",
       "        vertical-align: middle;\n",
       "    }\n",
       "\n",
       "    .dataframe tbody tr th {\n",
       "        vertical-align: top;\n",
       "    }\n",
       "\n",
       "    .dataframe thead th {\n",
       "        text-align: right;\n",
       "    }\n",
       "</style>\n",
       "<table border=\"1\" class=\"dataframe\">\n",
       "  <thead>\n",
       "    <tr style=\"text-align: right;\">\n",
       "      <th></th>\n",
       "      <th>creature_id</th>\n",
       "      <th>creature_name</th>\n",
       "      <th>activity</th>\n",
       "      <th>hours</th>\n",
       "      <th>spells_cast</th>\n",
       "    </tr>\n",
       "  </thead>\n",
       "  <tbody>\n",
       "  </tbody>\n",
       "</table>\n",
       "</div>"
      ],
      "text/plain": [
       "Empty DataFrame\n",
       "Columns: [creature_id, creature_name, activity, hours, spells_cast]\n",
       "Index: []"
      ]
     },
     "execution_count": 49,
     "metadata": {},
     "output_type": "execute_result"
    }
   ],
   "source": [
    "# ill find outliers using the Interquartile Range (IQR) method\n",
    "\n",
    "# calculate 25th and 75th percentile\n",
    "Q1 = creature_activities['hours'].quantile(0.25)\n",
    "Q3 = creature_activities['hours'].quantile(0.75)\n",
    "\n",
    "# calculate IQR\n",
    "iqr = Q3 - Q1\n",
    "\n",
    "# define lower and upper bounds for outliers\n",
    "lower_bound = Q1 - 1.5 * iqr\n",
    "upper_bound = Q3 + 1.5 * iqr\n",
    "\n",
    "# identify outliers\n",
    "outliers = creature_activities[(creature_activities['hours'] < lower_bound) | (creature_activities['hours'] > upper_bound)]\n",
    "\n",
    "# output\n",
    "outliers"
   ]
  },
  {
   "cell_type": "markdown",
   "id": "79ae8f39",
   "metadata": {},
   "source": [
    "The empty dataframe tells me that based on the IQR method there are no outliers in this data. "
   ]
  },
  {
   "cell_type": "markdown",
   "id": "d4789d00",
   "metadata": {},
   "source": [
    "### Question 7.5: Perform a hypothesis test to determine if the average hours spent by creatures on \"Flying\" is different from \"Potion Making.\""
   ]
  },
  {
   "cell_type": "code",
   "execution_count": 50,
   "id": "f34e69a6",
   "metadata": {},
   "outputs": [
    {
     "name": "stdout",
     "output_type": "stream",
     "text": [
      "T-statistic: -1.33\n",
      "P-value: 0.1916\n",
      "Fail to reject the null hypothesis: No significant difference in average hours spent on 'Flying' and 'Potion Making'.\n"
     ]
    }
   ],
   "source": [
    "# extract the hours spent on flying and potion making\n",
    "flying_hours = creature_activities[creature_activities['activity'] == 'Flying']['hours']\n",
    "pm_hours = creature_activities[creature_activities['activity'] == 'Potion Making']['hours']\n",
    "\n",
    "# perform two-sample t-test (with scipy.stats.ttest_ind)\n",
    "t_stat, p_value = stats.ttest_ind(flying_hours, pm_hours, equal_var=False)\n",
    "\n",
    "# output\n",
    "print(f\"T-statistic: {t_stat:.2f}\")\n",
    "print(f\"P-value: {p_value:.4f}\")\n",
    "\n",
    "# interpretation\n",
    "if p_value < 0.05:\n",
    "    print(\"Reject the null hypothesis: The average hours spent on 'Flying' is different from 'Potion Making'.\")\n",
    "else:\n",
    "    print(\"Fail to reject the null hypothesis: No significant difference in average hours spent on 'Flying' and 'Potion Making'.\")"
   ]
  },
  {
   "cell_type": "markdown",
   "id": "c76b4fec",
   "metadata": {},
   "source": [
    "## Q8 - Pivot Table Puzzles <a class=\"anchor\" id=\"chapter8\"></a>\n",
    "\n",
    "Question: Welcome to Pivot Table Puzzles! You are given a dataset of whimsical workshops attended by various mythical creatures. Each creature attends multiple workshops, and you need to analyze their attendance and performance. Your task is to use pivot tables to answer the following questions:\n",
    "\n",
    "1. Create a pivot table showing the total hours attended by each creature for each workshop.\n",
    "2. Calculate the average score of each creature for each workshop.\n",
    "3. Identify the workshop with the highest average score.\n",
    "4. Determine the total number of workshops attended by each creature.\n",
    "5. Find the creature with the highest total score across all workshops.\n",
    "\n",
    "Datasets:\n",
    "\n",
    "workshop_attendance: Contains columns (creature_id, creature_name, workshop_name, hours_attended, score)."
   ]
  },
  {
   "cell_type": "code",
   "execution_count": 51,
   "id": "b7c78ca0",
   "metadata": {},
   "outputs": [
    {
     "name": "stdout",
     "output_type": "stream",
     "text": [
      "Workshop Attendance DataFrame:\n",
      "   creature_id   creature_name   workshop_name  hours_attended  score\n",
      "0            1      Elf Elrond     Wand Making               2     57\n",
      "1            1      Elf Elrond  Potion Brewing               3     54\n",
      "2            1      Elf Elrond   Spell Weaving               8     61\n",
      "3            2  Phoenix Phoebe  Potion Brewing               4     60\n",
      "4            3    Dragon Draco  Crystal Gazing               3     85\n"
     ]
    }
   ],
   "source": [
    "# Seed for reproducibility\n",
    "np.random.seed(404)\n",
    "\n",
    "# Generate synthetic data\n",
    "creature_ids = np.arange(1, 21)\n",
    "creature_names = ['Unicorn Ulysses', 'Phoenix Phoebe', 'Dragon Draco', 'Goblin Greta', 'Elf Elrond']\n",
    "workshops = ['Wand Making', 'Spell Weaving', 'Potion Brewing', 'Crystal Gazing', 'Herbology']\n",
    "hours_options = np.arange(1, 11)\n",
    "score_options = np.arange(50, 101)\n",
    "\n",
    "data = []\n",
    "for creature in creature_ids:\n",
    "    creature_name = np.random.choice(creature_names)\n",
    "    num_workshops = np.random.randint(1, len(workshops) + 1)\n",
    "    attended_workshops = np.random.choice(workshops, num_workshops, replace=False)\n",
    "    for workshop in attended_workshops:\n",
    "        hours_attended = np.random.choice(hours_options)\n",
    "        score = np.random.choice(score_options)\n",
    "        data.append([creature, creature_name, workshop, hours_attended, score])\n",
    "\n",
    "# Create DataFrame\n",
    "workshop_attendance = pd.DataFrame(data, columns=['creature_id', 'creature_name', 'workshop_name', 'hours_attended', 'score'])\n",
    "\n",
    "# Display the dataset\n",
    "print(\"Workshop Attendance DataFrame:\")\n",
    "print(workshop_attendance.head())"
   ]
  },
  {
   "cell_type": "markdown",
   "id": "c662b03e",
   "metadata": {},
   "source": [
    "### Question 8.1: Create a pivot table showing the total hours attended by each creature for each workshop."
   ]
  },
  {
   "cell_type": "code",
   "execution_count": 52,
   "id": "9521319c",
   "metadata": {},
   "outputs": [
    {
     "data": {
      "text/html": [
       "<div>\n",
       "<style scoped>\n",
       "    .dataframe tbody tr th:only-of-type {\n",
       "        vertical-align: middle;\n",
       "    }\n",
       "\n",
       "    .dataframe tbody tr th {\n",
       "        vertical-align: top;\n",
       "    }\n",
       "\n",
       "    .dataframe thead th {\n",
       "        text-align: right;\n",
       "    }\n",
       "</style>\n",
       "<table border=\"1\" class=\"dataframe\">\n",
       "  <thead>\n",
       "    <tr style=\"text-align: right;\">\n",
       "      <th>workshop_name</th>\n",
       "      <th>Crystal Gazing</th>\n",
       "      <th>Herbology</th>\n",
       "      <th>Potion Brewing</th>\n",
       "      <th>Spell Weaving</th>\n",
       "      <th>Wand Making</th>\n",
       "    </tr>\n",
       "    <tr>\n",
       "      <th>creature_name</th>\n",
       "      <th></th>\n",
       "      <th></th>\n",
       "      <th></th>\n",
       "      <th></th>\n",
       "      <th></th>\n",
       "    </tr>\n",
       "  </thead>\n",
       "  <tbody>\n",
       "    <tr>\n",
       "      <th>Dragon Draco</th>\n",
       "      <td>14</td>\n",
       "      <td>10</td>\n",
       "      <td>11</td>\n",
       "      <td>18</td>\n",
       "      <td>12</td>\n",
       "    </tr>\n",
       "    <tr>\n",
       "      <th>Elf Elrond</th>\n",
       "      <td>8</td>\n",
       "      <td>14</td>\n",
       "      <td>14</td>\n",
       "      <td>18</td>\n",
       "      <td>12</td>\n",
       "    </tr>\n",
       "    <tr>\n",
       "      <th>Goblin Greta</th>\n",
       "      <td>13</td>\n",
       "      <td>25</td>\n",
       "      <td>4</td>\n",
       "      <td>16</td>\n",
       "      <td>11</td>\n",
       "    </tr>\n",
       "    <tr>\n",
       "      <th>Phoenix Phoebe</th>\n",
       "      <td>0</td>\n",
       "      <td>16</td>\n",
       "      <td>14</td>\n",
       "      <td>9</td>\n",
       "      <td>0</td>\n",
       "    </tr>\n",
       "    <tr>\n",
       "      <th>Unicorn Ulysses</th>\n",
       "      <td>0</td>\n",
       "      <td>20</td>\n",
       "      <td>10</td>\n",
       "      <td>8</td>\n",
       "      <td>5</td>\n",
       "    </tr>\n",
       "  </tbody>\n",
       "</table>\n",
       "</div>"
      ],
      "text/plain": [
       "workshop_name    Crystal Gazing  Herbology  Potion Brewing  Spell Weaving  \\\n",
       "creature_name                                                               \n",
       "Dragon Draco                 14         10              11             18   \n",
       "Elf Elrond                    8         14              14             18   \n",
       "Goblin Greta                 13         25               4             16   \n",
       "Phoenix Phoebe                0         16              14              9   \n",
       "Unicorn Ulysses               0         20              10              8   \n",
       "\n",
       "workshop_name    Wand Making  \n",
       "creature_name                 \n",
       "Dragon Draco              12  \n",
       "Elf Elrond                12  \n",
       "Goblin Greta              11  \n",
       "Phoenix Phoebe             0  \n",
       "Unicorn Ulysses            5  "
      ]
     },
     "execution_count": 52,
     "metadata": {},
     "output_type": "execute_result"
    }
   ],
   "source": [
    "pivot_table = workshop_attendance.pivot_table(\n",
    "    index='creature_name',\n",
    "    columns='workshop_name',\n",
    "    values='hours_attended',\n",
    "    aggfunc='sum',\n",
    "    fill_value=0\n",
    ")\n",
    "\n",
    "pivot_table"
   ]
  },
  {
   "cell_type": "markdown",
   "id": "d5e923e3",
   "metadata": {},
   "source": [
    "### Question 8.2: Calculate the average score of each creature for each workshop."
   ]
  },
  {
   "cell_type": "code",
   "execution_count": 53,
   "id": "8f6d6389",
   "metadata": {},
   "outputs": [
    {
     "data": {
      "text/html": [
       "<div>\n",
       "<style scoped>\n",
       "    .dataframe tbody tr th:only-of-type {\n",
       "        vertical-align: middle;\n",
       "    }\n",
       "\n",
       "    .dataframe tbody tr th {\n",
       "        vertical-align: top;\n",
       "    }\n",
       "\n",
       "    .dataframe thead th {\n",
       "        text-align: right;\n",
       "    }\n",
       "</style>\n",
       "<table border=\"1\" class=\"dataframe\">\n",
       "  <thead>\n",
       "    <tr style=\"text-align: right;\">\n",
       "      <th>workshop_name</th>\n",
       "      <th>Crystal Gazing</th>\n",
       "      <th>Herbology</th>\n",
       "      <th>Potion Brewing</th>\n",
       "      <th>Spell Weaving</th>\n",
       "      <th>Wand Making</th>\n",
       "    </tr>\n",
       "    <tr>\n",
       "      <th>creature_name</th>\n",
       "      <th></th>\n",
       "      <th></th>\n",
       "      <th></th>\n",
       "      <th></th>\n",
       "      <th></th>\n",
       "    </tr>\n",
       "  </thead>\n",
       "  <tbody>\n",
       "    <tr>\n",
       "      <th>Dragon Draco</th>\n",
       "      <td>70.333333</td>\n",
       "      <td>51.000000</td>\n",
       "      <td>85.0</td>\n",
       "      <td>77.000000</td>\n",
       "      <td>61.666667</td>\n",
       "    </tr>\n",
       "    <tr>\n",
       "      <th>Elf Elrond</th>\n",
       "      <td>62.000000</td>\n",
       "      <td>91.000000</td>\n",
       "      <td>57.0</td>\n",
       "      <td>71.333333</td>\n",
       "      <td>70.333333</td>\n",
       "    </tr>\n",
       "    <tr>\n",
       "      <th>Goblin Greta</th>\n",
       "      <td>67.666667</td>\n",
       "      <td>79.500000</td>\n",
       "      <td>77.0</td>\n",
       "      <td>82.000000</td>\n",
       "      <td>80.000000</td>\n",
       "    </tr>\n",
       "    <tr>\n",
       "      <th>Phoenix Phoebe</th>\n",
       "      <td>0.000000</td>\n",
       "      <td>69.333333</td>\n",
       "      <td>68.5</td>\n",
       "      <td>81.000000</td>\n",
       "      <td>0.000000</td>\n",
       "    </tr>\n",
       "    <tr>\n",
       "      <th>Unicorn Ulysses</th>\n",
       "      <td>0.000000</td>\n",
       "      <td>57.333333</td>\n",
       "      <td>61.0</td>\n",
       "      <td>91.500000</td>\n",
       "      <td>55.000000</td>\n",
       "    </tr>\n",
       "  </tbody>\n",
       "</table>\n",
       "</div>"
      ],
      "text/plain": [
       "workshop_name    Crystal Gazing  Herbology  Potion Brewing  Spell Weaving  \\\n",
       "creature_name                                                               \n",
       "Dragon Draco          70.333333  51.000000            85.0      77.000000   \n",
       "Elf Elrond            62.000000  91.000000            57.0      71.333333   \n",
       "Goblin Greta          67.666667  79.500000            77.0      82.000000   \n",
       "Phoenix Phoebe         0.000000  69.333333            68.5      81.000000   \n",
       "Unicorn Ulysses        0.000000  57.333333            61.0      91.500000   \n",
       "\n",
       "workshop_name    Wand Making  \n",
       "creature_name                 \n",
       "Dragon Draco       61.666667  \n",
       "Elf Elrond         70.333333  \n",
       "Goblin Greta       80.000000  \n",
       "Phoenix Phoebe      0.000000  \n",
       "Unicorn Ulysses    55.000000  "
      ]
     },
     "execution_count": 53,
     "metadata": {},
     "output_type": "execute_result"
    }
   ],
   "source": [
    "pivot_table_avg_score = workshop_attendance.pivot_table(\n",
    "    index='creature_name', \n",
    "    columns='workshop_name', \n",
    "    values='score', \n",
    "    aggfunc='mean',\n",
    "    fill_value=0\n",
    ")\n",
    "\n",
    "pivot_table_avg_score"
   ]
  },
  {
   "cell_type": "markdown",
   "id": "c7636357",
   "metadata": {},
   "source": [
    "### Question 8.3: Identify the workshop with the highest average score."
   ]
  },
  {
   "cell_type": "code",
   "execution_count": 54,
   "id": "e130b3ca",
   "metadata": {},
   "outputs": [
    {
     "name": "stdout",
     "output_type": "stream",
     "text": [
      "Spell Weaving - 79.36363636363636\n"
     ]
    }
   ],
   "source": [
    "workshop_avg_scores = workshop_attendance.pivot_table(\n",
    "    index='workshop_name', \n",
    "    values='score', \n",
    "    aggfunc='mean'\n",
    ")\n",
    "\n",
    "# identify the workshop with the highest average score\n",
    "highest_avg_name = workshop_avg_scores['score'].idxmax()\n",
    "highest_avg_score = workshop_avg_scores['score'].max()\n",
    "\n",
    "print(f\"{highest_avg_name} - {highest_avg_score}\")"
   ]
  },
  {
   "cell_type": "markdown",
   "id": "3d28a5da",
   "metadata": {},
   "source": [
    "### Question 8.4: Determine the total number of workshops attended by each creature."
   ]
  },
  {
   "cell_type": "code",
   "execution_count": 55,
   "id": "65c0b778",
   "metadata": {},
   "outputs": [
    {
     "data": {
      "text/html": [
       "<div>\n",
       "<style scoped>\n",
       "    .dataframe tbody tr th:only-of-type {\n",
       "        vertical-align: middle;\n",
       "    }\n",
       "\n",
       "    .dataframe tbody tr th {\n",
       "        vertical-align: top;\n",
       "    }\n",
       "\n",
       "    .dataframe thead th {\n",
       "        text-align: right;\n",
       "    }\n",
       "</style>\n",
       "<table border=\"1\" class=\"dataframe\">\n",
       "  <thead>\n",
       "    <tr style=\"text-align: right;\">\n",
       "      <th></th>\n",
       "      <th>creature_name</th>\n",
       "      <th>workshops_attended</th>\n",
       "    </tr>\n",
       "  </thead>\n",
       "  <tbody>\n",
       "    <tr>\n",
       "      <th>0</th>\n",
       "      <td>Dragon Draco</td>\n",
       "      <td>12</td>\n",
       "    </tr>\n",
       "    <tr>\n",
       "      <th>1</th>\n",
       "      <td>Elf Elrond</td>\n",
       "      <td>12</td>\n",
       "    </tr>\n",
       "    <tr>\n",
       "      <th>2</th>\n",
       "      <td>Goblin Greta</td>\n",
       "      <td>13</td>\n",
       "    </tr>\n",
       "    <tr>\n",
       "      <th>3</th>\n",
       "      <td>Phoenix Phoebe</td>\n",
       "      <td>6</td>\n",
       "    </tr>\n",
       "    <tr>\n",
       "      <th>4</th>\n",
       "      <td>Unicorn Ulysses</td>\n",
       "      <td>7</td>\n",
       "    </tr>\n",
       "  </tbody>\n",
       "</table>\n",
       "</div>"
      ],
      "text/plain": [
       "     creature_name  workshops_attended\n",
       "0     Dragon Draco                  12\n",
       "1       Elf Elrond                  12\n",
       "2     Goblin Greta                  13\n",
       "3   Phoenix Phoebe                   6\n",
       "4  Unicorn Ulysses                   7"
      ]
     },
     "execution_count": 55,
     "metadata": {},
     "output_type": "execute_result"
    }
   ],
   "source": [
    "pivot_table_workshop_count = workshop_attendance.pivot_table(\n",
    "    index='creature_name', \n",
    "    values='workshop_name', \n",
    "    aggfunc='count'\n",
    ")\n",
    "pivot_table_workshop_count = pivot_table_workshop_count.reset_index()\n",
    "pivot_table_workshop_count.columns = ['creature_name', 'workshops_attended']\n",
    "pivot_table_workshop_count"
   ]
  },
  {
   "cell_type": "markdown",
   "id": "68996444",
   "metadata": {},
   "source": [
    "### Question 8.5: Find the creature with the highest total score across all workshops."
   ]
  },
  {
   "cell_type": "code",
   "execution_count": 56,
   "id": "8dd474f4",
   "metadata": {},
   "outputs": [
    {
     "name": "stdout",
     "output_type": "stream",
     "text": [
      "Goblin Greta - 999\n"
     ]
    }
   ],
   "source": [
    "pivot_table_total_score = workshop_attendance.pivot_table(\n",
    "    index='creature_name', \n",
    "    values='score', \n",
    "    aggfunc='sum'\n",
    ")\n",
    "\n",
    "highest_total_name = pivot_table_total_score['score'].idxmax()\n",
    "highest_total_score = pivot_table_total_score['score'].max()\n",
    "\n",
    "print(f\"{highest_total_name} - {highest_total_score}\")"
   ]
  },
  {
   "cell_type": "markdown",
   "id": "a6700e4a",
   "metadata": {},
   "source": [
    "## Q9 - Aggregation Aggravation <a class=\"anchor\" id=\"chapter9\"></a>\n",
    "\n",
    "Question: Welcome to Aggregation Aggravation! You are given a dataset of enchanted items and their properties. Each item has multiple properties, and you need to perform various aggregations to answer the following questions:\n",
    "\n",
    "1. Calculate the total weight and total value of items for each item type.\n",
    "2. Identify the item type with the highest average value.\n",
    "3. Determine the item with the highest weight in each item type.\n",
    "4. Calculate the sum, mean, and standard deviation of the value of items for each item type.\n",
    "5. Find the top 3 most common properties across all items.\n",
    "\n",
    "Datasets:\n",
    "\n",
    "enchanted_items: Contains columns (item_id, item_type, item_name, weight, value, properties)."
   ]
  },
  {
   "cell_type": "code",
   "execution_count": 57,
   "id": "9bfa8852",
   "metadata": {},
   "outputs": [
    {
     "name": "stdout",
     "output_type": "stream",
     "text": [
      "Enchanted Items DataFrame:\n",
      "   item_id           item_type             item_name  weight  value  \\\n",
      "0        1       Potion Bottle  Cloak of Concealment       6    328   \n",
      "1        2  Invisibility Cloak       Bottle of Bliss       9    761   \n",
      "2        3  Invisibility Cloak  Cloak of Concealment      10    861   \n",
      "3        4       Flying Carpet     Amulet of Agility       5    171   \n",
      "4        5          Magic Wand     Carpet of Comfort       4    543   \n",
      "\n",
      "                                        properties  \n",
      "0  Glows in the Dark, Sings Softly, Indestructible  \n",
      "1                                   Indestructible  \n",
      "2                    Sings Softly, Floats on Water  \n",
      "3  Indestructible, Glows in the Dark, Sings Softly  \n",
      "4  Sings Softly, Indestructible, Glows in the Dark  \n"
     ]
    }
   ],
   "source": [
    "# Seed for reproducibility\n",
    "np.random.seed(505)\n",
    "\n",
    "# Generate synthetic data\n",
    "item_ids = np.arange(1, 101)\n",
    "item_types = ['Magic Wand', 'Potion Bottle', 'Enchanted Amulet', 'Flying Carpet', 'Invisibility Cloak']\n",
    "item_names = ['Wand of Wonders', 'Bottle of Bliss', 'Amulet of Agility', 'Carpet of Comfort', 'Cloak of Concealment']\n",
    "weight_options = np.arange(1, 11)\n",
    "value_options = np.arange(100, 1001)\n",
    "properties_options = ['Glows in the Dark', 'Indestructible', 'Floats on Water', 'Grants Invisibility', 'Sings Softly']\n",
    "\n",
    "data = []\n",
    "for item_id in item_ids:\n",
    "    item_type = np.random.choice(item_types)\n",
    "    item_name = np.random.choice(item_names)\n",
    "    weight = np.random.choice(weight_options)\n",
    "    value = np.random.choice(value_options)\n",
    "    properties = ', '.join(np.random.choice(properties_options, np.random.randint(1, 4), replace=False))\n",
    "    data.append([item_id, item_type, item_name, weight, value, properties])\n",
    "\n",
    "# Create DataFrame\n",
    "enchanted_items = pd.DataFrame(data, columns=['item_id', 'item_type', 'item_name', 'weight', 'value', 'properties'])\n",
    "\n",
    "# Display the dataset\n",
    "print(\"Enchanted Items DataFrame:\")\n",
    "print(enchanted_items.head())"
   ]
  },
  {
   "cell_type": "markdown",
   "id": "28a05281",
   "metadata": {},
   "source": [
    "### Question 9.1: Calculate the total weight and total value of items for each item type."
   ]
  },
  {
   "cell_type": "code",
   "execution_count": 58,
   "id": "c85d6be6",
   "metadata": {},
   "outputs": [
    {
     "data": {
      "text/html": [
       "<div>\n",
       "<style scoped>\n",
       "    .dataframe tbody tr th:only-of-type {\n",
       "        vertical-align: middle;\n",
       "    }\n",
       "\n",
       "    .dataframe tbody tr th {\n",
       "        vertical-align: top;\n",
       "    }\n",
       "\n",
       "    .dataframe thead th {\n",
       "        text-align: right;\n",
       "    }\n",
       "</style>\n",
       "<table border=\"1\" class=\"dataframe\">\n",
       "  <thead>\n",
       "    <tr style=\"text-align: right;\">\n",
       "      <th></th>\n",
       "      <th>value</th>\n",
       "      <th>weight</th>\n",
       "    </tr>\n",
       "    <tr>\n",
       "      <th>item_type</th>\n",
       "      <th></th>\n",
       "      <th></th>\n",
       "    </tr>\n",
       "  </thead>\n",
       "  <tbody>\n",
       "    <tr>\n",
       "      <th>Enchanted Amulet</th>\n",
       "      <td>6669</td>\n",
       "      <td>80</td>\n",
       "    </tr>\n",
       "    <tr>\n",
       "      <th>Flying Carpet</th>\n",
       "      <td>9459</td>\n",
       "      <td>66</td>\n",
       "    </tr>\n",
       "    <tr>\n",
       "      <th>Invisibility Cloak</th>\n",
       "      <td>16046</td>\n",
       "      <td>155</td>\n",
       "    </tr>\n",
       "    <tr>\n",
       "      <th>Magic Wand</th>\n",
       "      <td>13033</td>\n",
       "      <td>121</td>\n",
       "    </tr>\n",
       "    <tr>\n",
       "      <th>Potion Bottle</th>\n",
       "      <td>14215</td>\n",
       "      <td>111</td>\n",
       "    </tr>\n",
       "  </tbody>\n",
       "</table>\n",
       "</div>"
      ],
      "text/plain": [
       "                    value  weight\n",
       "item_type                        \n",
       "Enchanted Amulet     6669      80\n",
       "Flying Carpet        9459      66\n",
       "Invisibility Cloak  16046     155\n",
       "Magic Wand          13033     121\n",
       "Potion Bottle       14215     111"
      ]
     },
     "execution_count": 58,
     "metadata": {},
     "output_type": "execute_result"
    }
   ],
   "source": [
    "total_weight_value = enchanted_items.pivot_table(\n",
    "    index='item_type', \n",
    "    values=['weight', 'value'], \n",
    "    aggfunc='sum'\n",
    ")\n",
    "total_weight_value"
   ]
  },
  {
   "cell_type": "markdown",
   "id": "b1bf3a72",
   "metadata": {},
   "source": [
    "### Question 9.2: Identify the item type with the highest average value."
   ]
  },
  {
   "cell_type": "code",
   "execution_count": 59,
   "id": "b48cd0ab",
   "metadata": {},
   "outputs": [
    {
     "data": {
      "text/plain": [
       "item_type    Flying Carpet\n",
       "value           727.615385\n",
       "Name: 1, dtype: object"
      ]
     },
     "execution_count": 59,
     "metadata": {},
     "output_type": "execute_result"
    }
   ],
   "source": [
    "avg_item_value = enchanted_items.pivot_table(\n",
    "    index='item_type', \n",
    "    values=['value'], \n",
    "    aggfunc='mean'\n",
    ")\n",
    "avg_item_value =  avg_item_value.reset_index()\n",
    "\n",
    "avg_item_value.loc[avg_item_value['value'].idxmax()]"
   ]
  },
  {
   "cell_type": "markdown",
   "id": "1f6fd930",
   "metadata": {},
   "source": [
    "### Question 9.3: Determine the item with the highest weight in each item type."
   ]
  },
  {
   "cell_type": "code",
   "execution_count": 60,
   "id": "ab37c2d4",
   "metadata": {},
   "outputs": [
    {
     "data": {
      "text/html": [
       "<div>\n",
       "<style scoped>\n",
       "    .dataframe tbody tr th:only-of-type {\n",
       "        vertical-align: middle;\n",
       "    }\n",
       "\n",
       "    .dataframe tbody tr th {\n",
       "        vertical-align: top;\n",
       "    }\n",
       "\n",
       "    .dataframe thead th {\n",
       "        text-align: right;\n",
       "    }\n",
       "</style>\n",
       "<table border=\"1\" class=\"dataframe\">\n",
       "  <thead>\n",
       "    <tr style=\"text-align: right;\">\n",
       "      <th></th>\n",
       "      <th>item_type</th>\n",
       "      <th>item_name</th>\n",
       "      <th>weight</th>\n",
       "    </tr>\n",
       "  </thead>\n",
       "  <tbody>\n",
       "    <tr>\n",
       "      <th>52</th>\n",
       "      <td>Enchanted Amulet</td>\n",
       "      <td>Wand of Wonders</td>\n",
       "      <td>10</td>\n",
       "    </tr>\n",
       "    <tr>\n",
       "      <th>27</th>\n",
       "      <td>Flying Carpet</td>\n",
       "      <td>Wand of Wonders</td>\n",
       "      <td>10</td>\n",
       "    </tr>\n",
       "    <tr>\n",
       "      <th>2</th>\n",
       "      <td>Invisibility Cloak</td>\n",
       "      <td>Cloak of Concealment</td>\n",
       "      <td>10</td>\n",
       "    </tr>\n",
       "    <tr>\n",
       "      <th>12</th>\n",
       "      <td>Magic Wand</td>\n",
       "      <td>Bottle of Bliss</td>\n",
       "      <td>10</td>\n",
       "    </tr>\n",
       "    <tr>\n",
       "      <th>23</th>\n",
       "      <td>Potion Bottle</td>\n",
       "      <td>Bottle of Bliss</td>\n",
       "      <td>10</td>\n",
       "    </tr>\n",
       "  </tbody>\n",
       "</table>\n",
       "</div>"
      ],
      "text/plain": [
       "             item_type             item_name  weight\n",
       "52    Enchanted Amulet       Wand of Wonders      10\n",
       "27       Flying Carpet       Wand of Wonders      10\n",
       "2   Invisibility Cloak  Cloak of Concealment      10\n",
       "12          Magic Wand       Bottle of Bliss      10\n",
       "23       Potion Bottle       Bottle of Bliss      10"
      ]
     },
     "execution_count": 60,
     "metadata": {},
     "output_type": "execute_result"
    }
   ],
   "source": [
    "max_weight_items = enchanted_items.loc[enchanted_items.groupby('item_type')['weight'].idxmax()]\n",
    "\n",
    "max_weight_items[['item_type', 'item_name', 'weight']]"
   ]
  },
  {
   "cell_type": "markdown",
   "id": "2f65d580",
   "metadata": {},
   "source": [
    "### Question 9.4: Calculate the sum, mean, and standard deviation of the value of items for each item type."
   ]
  },
  {
   "cell_type": "code",
   "execution_count": 61,
   "id": "22284e0c",
   "metadata": {},
   "outputs": [
    {
     "data": {
      "text/html": [
       "<div>\n",
       "<style scoped>\n",
       "    .dataframe tbody tr th:only-of-type {\n",
       "        vertical-align: middle;\n",
       "    }\n",
       "\n",
       "    .dataframe tbody tr th {\n",
       "        vertical-align: top;\n",
       "    }\n",
       "\n",
       "    .dataframe thead tr th {\n",
       "        text-align: left;\n",
       "    }\n",
       "</style>\n",
       "<table border=\"1\" class=\"dataframe\">\n",
       "  <thead>\n",
       "    <tr>\n",
       "      <th></th>\n",
       "      <th>item_type</th>\n",
       "      <th>sum</th>\n",
       "      <th>mean</th>\n",
       "      <th>std</th>\n",
       "    </tr>\n",
       "    <tr>\n",
       "      <th></th>\n",
       "      <th></th>\n",
       "      <th>value</th>\n",
       "      <th>value</th>\n",
       "      <th>value</th>\n",
       "    </tr>\n",
       "  </thead>\n",
       "  <tbody>\n",
       "    <tr>\n",
       "      <th>0</th>\n",
       "      <td>Enchanted Amulet</td>\n",
       "      <td>6669</td>\n",
       "      <td>513.000000</td>\n",
       "      <td>278.674242</td>\n",
       "    </tr>\n",
       "    <tr>\n",
       "      <th>1</th>\n",
       "      <td>Flying Carpet</td>\n",
       "      <td>9459</td>\n",
       "      <td>727.615385</td>\n",
       "      <td>251.927416</td>\n",
       "    </tr>\n",
       "    <tr>\n",
       "      <th>2</th>\n",
       "      <td>Invisibility Cloak</td>\n",
       "      <td>16046</td>\n",
       "      <td>573.071429</td>\n",
       "      <td>240.990076</td>\n",
       "    </tr>\n",
       "    <tr>\n",
       "      <th>3</th>\n",
       "      <td>Magic Wand</td>\n",
       "      <td>13033</td>\n",
       "      <td>566.652174</td>\n",
       "      <td>261.488851</td>\n",
       "    </tr>\n",
       "    <tr>\n",
       "      <th>4</th>\n",
       "      <td>Potion Bottle</td>\n",
       "      <td>14215</td>\n",
       "      <td>618.043478</td>\n",
       "      <td>254.151973</td>\n",
       "    </tr>\n",
       "  </tbody>\n",
       "</table>\n",
       "</div>"
      ],
      "text/plain": [
       "            item_type    sum        mean         std\n",
       "                       value       value       value\n",
       "0    Enchanted Amulet   6669  513.000000  278.674242\n",
       "1       Flying Carpet   9459  727.615385  251.927416\n",
       "2  Invisibility Cloak  16046  573.071429  240.990076\n",
       "3          Magic Wand  13033  566.652174  261.488851\n",
       "4       Potion Bottle  14215  618.043478  254.151973"
      ]
     },
     "execution_count": 61,
     "metadata": {},
     "output_type": "execute_result"
    }
   ],
   "source": [
    "value_stats = enchanted_items.pivot_table(\n",
    "    index='item_type', \n",
    "    values='value', \n",
    "    aggfunc=['sum', 'mean', 'std']\n",
    ")\n",
    "\n",
    "value_stats.reset_index()"
   ]
  },
  {
   "cell_type": "markdown",
   "id": "0184fd74",
   "metadata": {},
   "source": [
    "### Question 9.5: Find the top 3 most common properties across all items."
   ]
  },
  {
   "cell_type": "code",
   "execution_count": 62,
   "id": "a7c5340c",
   "metadata": {},
   "outputs": [
    {
     "data": {
      "text/plain": [
       "[('Sings Softly', 51), ('Indestructible', 40), ('Glows in the Dark', 38)]"
      ]
     },
     "execution_count": 62,
     "metadata": {},
     "output_type": "execute_result"
    }
   ],
   "source": [
    "# split the properties into individual items\n",
    "all_properties = enchanted_items['properties'].str.split(', ')\n",
    "\n",
    "# use collections Counter\n",
    "property_counts = Counter([prop for sublist in all_properties for prop in sublist])\n",
    "\n",
    "property_counts.most_common(3)"
   ]
  },
  {
   "cell_type": "markdown",
   "id": "0dc67ca7",
   "metadata": {},
   "source": [
    "## Q10 - Visual Magic with Pandas <a class=\"anchor\" id=\"chapter10\"></a>\n",
    "\n",
    "Question: Welcome to Visual Magic with Pandas! You are given a dataset of mystical creatures and their magical powers. Each creature has different abilities, and you need to create visualizations to answer the following questions:\n",
    "\n",
    "1. Create a bar chart showing the total power levels for each creature type.\n",
    "2. Generate a pie chart representing the distribution of creatures by their habitat.\n",
    "3. Plot a scatter plot to show the relationship between power level and age of the creatures.\n",
    "4. Create a box plot to compare the power levels across different creature types.\n",
    "5. Generate a line chart to show the change in power levels over different ages for each creature type.\n",
    "\n",
    "Datasets:\n",
    "\n",
    "mystical_creatures: Contains columns (creature_id, creature_type, creature_name, age, power_level, habitat)."
   ]
  },
  {
   "cell_type": "code",
   "execution_count": 63,
   "id": "f63eff5e",
   "metadata": {},
   "outputs": [
    {
     "name": "stdout",
     "output_type": "stream",
     "text": [
      "Mystical Creatures DataFrame:\n",
      "   creature_id creature_type creature_name  age  power_level   habitat\n",
      "0            1       Unicorn         Draco   29          371  Mountain\n",
      "1            2       Mermaid         Griff   44          182       Sea\n",
      "2            3       Unicorn       Sparkle    1          142       Sky\n",
      "3            4       Unicorn         Ariel   13          260       Sky\n",
      "4            5       Unicorn         Flare   67          248       Sea\n"
     ]
    }
   ],
   "source": [
    "import matplotlib.pyplot as plt\n",
    "\n",
    "# Seed for reproducibility\n",
    "np.random.seed(606)\n",
    "\n",
    "# Generate synthetic data\n",
    "creature_ids = np.arange(1, 101)\n",
    "creature_types = ['Dragon', 'Unicorn', 'Phoenix', 'Griffin', 'Mermaid']\n",
    "creature_names = ['Draco', 'Sparkle', 'Flare', 'Griff', 'Ariel']\n",
    "habitats = ['Forest', 'Mountain', 'Sea', 'Sky', 'Cave']\n",
    "ages = np.arange(1, 101)\n",
    "power_levels = np.arange(50, 501)\n",
    "\n",
    "data = []\n",
    "for creature_id in creature_ids:\n",
    "    creature_type = np.random.choice(creature_types)\n",
    "    creature_name = np.random.choice(creature_names)\n",
    "    age = np.random.choice(ages)\n",
    "    power_level = np.random.choice(power_levels)\n",
    "    habitat = np.random.choice(habitats)\n",
    "    data.append([creature_id, creature_type, creature_name, age, power_level, habitat])\n",
    "\n",
    "# Create DataFrame\n",
    "mystical_creatures = pd.DataFrame(data, columns=['creature_id', 'creature_type', 'creature_name', 'age', 'power_level', 'habitat'])\n",
    "\n",
    "# Display the dataset\n",
    "print(\"Mystical Creatures DataFrame:\")\n",
    "print(mystical_creatures.head())"
   ]
  },
  {
   "cell_type": "markdown",
   "id": "ea5feb1d",
   "metadata": {},
   "source": [
    "### Question 10.1: Create a bar chart showing the total power levels for each creature type."
   ]
  },
  {
   "cell_type": "code",
   "execution_count": 64,
   "id": "6e3a668c",
   "metadata": {},
   "outputs": [
    {
     "data": {
      "image/png": "[encoded data removed]",
      "text/plain": [
       "<Figure size 640x480 with 1 Axes>"
      ]
     },
     "metadata": {},
     "output_type": "display_data"
    }
   ],
   "source": [
    "total_power = mystical_creatures.groupby('creature_type')['power_level'].sum()\n",
    "\n",
    "total_power.plot(kind='bar', color='skyblue')\n",
    "plt.title('Total power level for each creature type')\n",
    "plt.xlabel('Creature type')\n",
    "plt.ylabel('Power level')\n",
    "plt.xticks(rotation=45)\n",
    "plt.show()"
   ]
  },
  {
   "cell_type": "markdown",
   "id": "c92e6361",
   "metadata": {},
   "source": [
    "### Question 10.2: Generate a pie chart representing the distribution of creatures by their habitat."
   ]
  },
  {
   "cell_type": "code",
   "execution_count": 65,
   "id": "75cf06a9",
   "metadata": {},
   "outputs": [
    {
     "data": {
      "image/png": "[encoded data removed]",
      "text/plain": [
       "<Figure size 640x480 with 1 Axes>"
      ]
     },
     "metadata": {},
     "output_type": "display_data"
    }
   ],
   "source": [
    "habitat_distribution = mystical_creatures['habitat'].value_counts()\n",
    "\n",
    "habitat_distribution.plot(kind='pie')\n",
    "plt.title('Distribution of creatures by habitat')\n",
    "plt.show()"
   ]
  },
  {
   "cell_type": "markdown",
   "id": "ff6fd09e",
   "metadata": {},
   "source": [
    "### Question 10.3: Plot a scatter plot to show the relationship between power level and age of the creatures."
   ]
  },
  {
   "cell_type": "code",
   "execution_count": 66,
   "id": "64021f33",
   "metadata": {},
   "outputs": [
    {
     "data": {
      "image/png": "[encoded data removed]",
      "text/plain": [
       "<Figure size 640x480 with 1 Axes>"
      ]
     },
     "metadata": {},
     "output_type": "display_data"
    }
   ],
   "source": [
    "plt.scatter(mystical_creatures['age'], mystical_creatures['power_level'], color='purple')\n",
    "plt.title('Relationship between age and power level')\n",
    "plt.xlabel('Age')\n",
    "plt.ylabel('Power level')\n",
    "plt.grid(True)\n",
    "plt.show()"
   ]
  },
  {
   "cell_type": "markdown",
   "id": "0f2959a3",
   "metadata": {},
   "source": [
    "### Question 10.4: Create a box plot to compare the power levels across different creature types."
   ]
  },
  {
   "cell_type": "code",
   "execution_count": 67,
   "id": "74293f1e",
   "metadata": {},
   "outputs": [
    {
     "data": {
      "image/png": "[encoded data removed]",
      "text/plain": [
       "<Figure size 640x480 with 1 Axes>"
      ]
     },
     "metadata": {},
     "output_type": "display_data"
    }
   ],
   "source": [
    "import seaborn as sns\n",
    "\n",
    "sns.boxplot(x='creature_type', y='power_level', data=mystical_creatures)\n",
    "plt.title('Power levels across different creature types')\n",
    "plt.xlabel('Creature type')\n",
    "plt.ylabel('Power level')\n",
    "plt.show()"
   ]
  },
  {
   "cell_type": "markdown",
   "id": "e5192b20",
   "metadata": {},
   "source": [
    "## Q11 - Nested Data Labyrinth <a class=\"anchor\" id=\"chapter11\"></a>\n",
    "\n",
    "Question: Welcome to the Nested Data Labyrinth! You are given a dataset of enchanted forests and the magical creatures that inhabit them. Each forest contains multiple creatures, and each creature has various attributes. Your task is to navigate through this nested data to answer the following questions:\n",
    "\n",
    "1. Count the total number of creatures in each forest.\n",
    "2. Calculate the average power level of creatures in each forest.\n",
    "3. Identify the forest with the highest average age of creatures.\n",
    "4. Determine the most common creature type in each forest.\n",
    "5. Find the top 2 creatures with the highest power levels in each forest.\n",
    "\n",
    "Datasets:\n",
    "\n",
    "enchanted_forests: Contains columns (forest_id, forest_name, creatures), where creatures is a list of dictionaries with keys (creature_id, creature_name, creature_type, age, power_level)."
   ]
  },
  {
   "cell_type": "code",
   "execution_count": 68,
   "id": "d5c5629e",
   "metadata": {},
   "outputs": [
    {
     "name": "stdout",
     "output_type": "stream",
     "text": [
      "Enchanted Forests DataFrame:\n",
      "   forest_id      forest_name  \\\n",
      "0          1     Mystic Grove   \n",
      "1          2  Enchanted Woods   \n",
      "2          3    Faerie Forest   \n",
      "3          4     Dragon’s Den   \n",
      "4          5   Unicorn Utopia   \n",
      "\n",
      "                                           creatures  \n",
      "0  [{\"creature_id\": 250, \"creature_name\": \"Sparkl...  \n",
      "1  [{\"creature_id\": 866, \"creature_name\": \"Draco\"...  \n",
      "2  [{\"creature_id\": 714, \"creature_name\": \"Draco\"...  \n",
      "3  [{\"creature_id\": 245, \"creature_name\": \"Ariel\"...  \n",
      "4  [{\"creature_id\": 173, \"creature_name\": \"Ariel\"...  \n"
     ]
    }
   ],
   "source": [
    "import json\n",
    "\n",
    "# Seed for reproducibility\n",
    "np.random.seed(707)\n",
    "\n",
    "# Generate synthetic data\n",
    "forest_ids = np.arange(1, 6)\n",
    "forest_names = ['Mystic Grove', 'Enchanted Woods', 'Faerie Forest', 'Dragon’s Den', 'Unicorn Utopia']\n",
    "creature_types = ['Dragon', 'Unicorn', 'Phoenix', 'Griffin', 'Mermaid']\n",
    "creature_names = ['Draco', 'Sparkle', 'Flare', 'Griff', 'Ariel']\n",
    "\n",
    "data = []\n",
    "for forest_id, forest_name in zip(forest_ids, forest_names):\n",
    "    num_creatures = np.random.randint(5, 11)\n",
    "    creatures = []\n",
    "    for _ in range(num_creatures):\n",
    "        creature_id = np.random.randint(1, 1001)\n",
    "        creature_type = np.random.choice(creature_types)\n",
    "        creature_name = np.random.choice(creature_names)\n",
    "        age = np.random.randint(1, 101)\n",
    "        power_level = np.random.randint(50, 501)\n",
    "        creatures.append({\n",
    "            'creature_id': creature_id,\n",
    "            'creature_name': creature_name,\n",
    "            'creature_type': creature_type,\n",
    "            'age': age,\n",
    "            'power_level': power_level\n",
    "        })\n",
    "    data.append([forest_id, forest_name, json.dumps(creatures)])\n",
    "\n",
    "# Create DataFrame\n",
    "enchanted_forests = pd.DataFrame(data, columns=['forest_id', 'forest_name', 'creatures'])\n",
    "\n",
    "# Display the dataset\n",
    "print(\"Enchanted Forests DataFrame:\")\n",
    "print(enchanted_forests.head())"
   ]
  },
  {
   "cell_type": "markdown",
   "id": "62a81a6f",
   "metadata": {},
   "source": [
    "### Question 11.1: Count the total number of creatures in each forest."
   ]
  },
  {
   "cell_type": "code",
   "execution_count": 69,
   "id": "275d6176",
   "metadata": {},
   "outputs": [
    {
     "data": {
      "text/html": [
       "<div>\n",
       "<style scoped>\n",
       "    .dataframe tbody tr th:only-of-type {\n",
       "        vertical-align: middle;\n",
       "    }\n",
       "\n",
       "    .dataframe tbody tr th {\n",
       "        vertical-align: top;\n",
       "    }\n",
       "\n",
       "    .dataframe thead th {\n",
       "        text-align: right;\n",
       "    }\n",
       "</style>\n",
       "<table border=\"1\" class=\"dataframe\">\n",
       "  <thead>\n",
       "    <tr style=\"text-align: right;\">\n",
       "      <th></th>\n",
       "      <th>forest_name</th>\n",
       "      <th>creature_count</th>\n",
       "    </tr>\n",
       "  </thead>\n",
       "  <tbody>\n",
       "    <tr>\n",
       "      <th>0</th>\n",
       "      <td>Mystic Grove</td>\n",
       "      <td>8</td>\n",
       "    </tr>\n",
       "    <tr>\n",
       "      <th>1</th>\n",
       "      <td>Enchanted Woods</td>\n",
       "      <td>7</td>\n",
       "    </tr>\n",
       "    <tr>\n",
       "      <th>2</th>\n",
       "      <td>Faerie Forest</td>\n",
       "      <td>7</td>\n",
       "    </tr>\n",
       "    <tr>\n",
       "      <th>3</th>\n",
       "      <td>Dragon’s Den</td>\n",
       "      <td>5</td>\n",
       "    </tr>\n",
       "    <tr>\n",
       "      <th>4</th>\n",
       "      <td>Unicorn Utopia</td>\n",
       "      <td>10</td>\n",
       "    </tr>\n",
       "  </tbody>\n",
       "</table>\n",
       "</div>"
      ],
      "text/plain": [
       "       forest_name  creature_count\n",
       "0     Mystic Grove               8\n",
       "1  Enchanted Woods               7\n",
       "2    Faerie Forest               7\n",
       "3     Dragon’s Den               5\n",
       "4   Unicorn Utopia              10"
      ]
     },
     "execution_count": 69,
     "metadata": {},
     "output_type": "execute_result"
    }
   ],
   "source": [
    "enchanted_forests['creature_count'] = enchanted_forests['creatures'].apply(lambda x: len(json.loads(x)))\n",
    "\n",
    "enchanted_forests[['forest_name', 'creature_count']]"
   ]
  },
  {
   "cell_type": "markdown",
   "id": "6eed71d4",
   "metadata": {},
   "source": [
    "### Question 11.2: Calculate the average power level of creatures in each forest."
   ]
  },
  {
   "cell_type": "code",
   "execution_count": 70,
   "id": "2c39ac9c",
   "metadata": {},
   "outputs": [
    {
     "data": {
      "text/html": [
       "<div>\n",
       "<style scoped>\n",
       "    .dataframe tbody tr th:only-of-type {\n",
       "        vertical-align: middle;\n",
       "    }\n",
       "\n",
       "    .dataframe tbody tr th {\n",
       "        vertical-align: top;\n",
       "    }\n",
       "\n",
       "    .dataframe thead th {\n",
       "        text-align: right;\n",
       "    }\n",
       "</style>\n",
       "<table border=\"1\" class=\"dataframe\">\n",
       "  <thead>\n",
       "    <tr style=\"text-align: right;\">\n",
       "      <th></th>\n",
       "      <th>forest_name</th>\n",
       "      <th>average_power_level</th>\n",
       "    </tr>\n",
       "  </thead>\n",
       "  <tbody>\n",
       "    <tr>\n",
       "      <th>0</th>\n",
       "      <td>Mystic Grove</td>\n",
       "      <td>274.250000</td>\n",
       "    </tr>\n",
       "    <tr>\n",
       "      <th>1</th>\n",
       "      <td>Enchanted Woods</td>\n",
       "      <td>238.285714</td>\n",
       "    </tr>\n",
       "    <tr>\n",
       "      <th>2</th>\n",
       "      <td>Faerie Forest</td>\n",
       "      <td>293.571429</td>\n",
       "    </tr>\n",
       "    <tr>\n",
       "      <th>3</th>\n",
       "      <td>Dragon’s Den</td>\n",
       "      <td>226.600000</td>\n",
       "    </tr>\n",
       "    <tr>\n",
       "      <th>4</th>\n",
       "      <td>Unicorn Utopia</td>\n",
       "      <td>225.900000</td>\n",
       "    </tr>\n",
       "  </tbody>\n",
       "</table>\n",
       "</div>"
      ],
      "text/plain": [
       "       forest_name  average_power_level\n",
       "0     Mystic Grove           274.250000\n",
       "1  Enchanted Woods           238.285714\n",
       "2    Faerie Forest           293.571429\n",
       "3     Dragon’s Den           226.600000\n",
       "4   Unicorn Utopia           225.900000"
      ]
     },
     "execution_count": 70,
     "metadata": {},
     "output_type": "execute_result"
    }
   ],
   "source": [
    "def calculate_avg_power(creatures):\n",
    "    creature_list = json.loads(creatures)\n",
    "    total_power = sum(creature['power_level'] for creature in creature_list)\n",
    "    return total_power / len(creature_list) if creature_list else 0\n",
    "\n",
    "enchanted_forests['average_power_level'] = enchanted_forests['creatures'].apply(calculate_avg_power)\n",
    "\n",
    "enchanted_forests[['forest_name', 'average_power_level']]"
   ]
  },
  {
   "cell_type": "markdown",
   "id": "25297431",
   "metadata": {},
   "source": [
    "### Question 11.3: Identify the forest with the highest average age of creatures."
   ]
  },
  {
   "cell_type": "code",
   "execution_count": 71,
   "id": "7d8e6d31",
   "metadata": {},
   "outputs": [
    {
     "data": {
      "text/plain": [
       "forest_name    Unicorn Utopia\n",
       "average_age              65.0\n",
       "Name: 4, dtype: object"
      ]
     },
     "execution_count": 71,
     "metadata": {},
     "output_type": "execute_result"
    }
   ],
   "source": [
    "def calculate_avg_age(creatures):\n",
    "    creature_list = json.loads(creatures)\n",
    "    total_age = sum(creature['age'] for creature in creature_list)\n",
    "    return total_age / len(creature_list) if creature_list else 0\n",
    "\n",
    "enchanted_forests['average_age'] = enchanted_forests['creatures'].apply(calculate_avg_age)\n",
    "\n",
    "forest_highest_avg = enchanted_forests.loc[enchanted_forests['average_age'].idxmax()]\n",
    "\n",
    "forest_highest_avg[['forest_name', 'average_age']]"
   ]
  },
  {
   "cell_type": "markdown",
   "id": "cae2bc0a",
   "metadata": {},
   "source": [
    "### Question 11.4: Determine the most common creature type in each forest."
   ]
  },
  {
   "cell_type": "code",
   "execution_count": 72,
   "id": "1593db83",
   "metadata": {},
   "outputs": [
    {
     "data": {
      "text/html": [
       "<div>\n",
       "<style scoped>\n",
       "    .dataframe tbody tr th:only-of-type {\n",
       "        vertical-align: middle;\n",
       "    }\n",
       "\n",
       "    .dataframe tbody tr th {\n",
       "        vertical-align: top;\n",
       "    }\n",
       "\n",
       "    .dataframe thead th {\n",
       "        text-align: right;\n",
       "    }\n",
       "</style>\n",
       "<table border=\"1\" class=\"dataframe\">\n",
       "  <thead>\n",
       "    <tr style=\"text-align: right;\">\n",
       "      <th></th>\n",
       "      <th>forest_name</th>\n",
       "      <th>most_common_creature_type</th>\n",
       "    </tr>\n",
       "  </thead>\n",
       "  <tbody>\n",
       "    <tr>\n",
       "      <th>0</th>\n",
       "      <td>Mystic Grove</td>\n",
       "      <td>Mermaid</td>\n",
       "    </tr>\n",
       "    <tr>\n",
       "      <th>1</th>\n",
       "      <td>Enchanted Woods</td>\n",
       "      <td>Griffin</td>\n",
       "    </tr>\n",
       "    <tr>\n",
       "      <th>2</th>\n",
       "      <td>Faerie Forest</td>\n",
       "      <td>Mermaid</td>\n",
       "    </tr>\n",
       "    <tr>\n",
       "      <th>3</th>\n",
       "      <td>Dragon’s Den</td>\n",
       "      <td>Mermaid</td>\n",
       "    </tr>\n",
       "    <tr>\n",
       "      <th>4</th>\n",
       "      <td>Unicorn Utopia</td>\n",
       "      <td>Griffin</td>\n",
       "    </tr>\n",
       "  </tbody>\n",
       "</table>\n",
       "</div>"
      ],
      "text/plain": [
       "       forest_name most_common_creature_type\n",
       "0     Mystic Grove                   Mermaid\n",
       "1  Enchanted Woods                   Griffin\n",
       "2    Faerie Forest                   Mermaid\n",
       "3     Dragon’s Den                   Mermaid\n",
       "4   Unicorn Utopia                   Griffin"
      ]
     },
     "execution_count": 72,
     "metadata": {},
     "output_type": "execute_result"
    }
   ],
   "source": [
    "def most_common_creature_type(creatures):\n",
    "    creature_list = json.loads(creatures)\n",
    "    creature_types = [creature['creature_type'] for creature in creature_list]\n",
    "    return pd.Series(creature_types).mode()[0]\n",
    "\n",
    "enchanted_forests['most_common_creature_type'] = enchanted_forests['creatures'].apply(most_common_creature_type)\n",
    "\n",
    "enchanted_forests[['forest_name', 'most_common_creature_type']]"
   ]
  },
  {
   "cell_type": "markdown",
   "id": "c5333ee2",
   "metadata": {},
   "source": [
    "### Question 11.5: Find the top 2 creatures with the highest power levels in each forest."
   ]
  },
  {
   "cell_type": "code",
   "execution_count": 73,
   "id": "ca656945",
   "metadata": {},
   "outputs": [
    {
     "data": {
      "text/html": [
       "<div>\n",
       "<style scoped>\n",
       "    .dataframe tbody tr th:only-of-type {\n",
       "        vertical-align: middle;\n",
       "    }\n",
       "\n",
       "    .dataframe tbody tr th {\n",
       "        vertical-align: top;\n",
       "    }\n",
       "\n",
       "    .dataframe thead th {\n",
       "        text-align: right;\n",
       "    }\n",
       "</style>\n",
       "<table border=\"1\" class=\"dataframe\">\n",
       "  <thead>\n",
       "    <tr style=\"text-align: right;\">\n",
       "      <th></th>\n",
       "      <th>forest_name</th>\n",
       "      <th>creature_name</th>\n",
       "      <th>creature_type</th>\n",
       "      <th>power_level</th>\n",
       "    </tr>\n",
       "  </thead>\n",
       "  <tbody>\n",
       "    <tr>\n",
       "      <th>0</th>\n",
       "      <td>Mystic Grove</td>\n",
       "      <td>Griff</td>\n",
       "      <td>Mermaid</td>\n",
       "      <td>450</td>\n",
       "    </tr>\n",
       "    <tr>\n",
       "      <th>1</th>\n",
       "      <td>Mystic Grove</td>\n",
       "      <td>Sparkle</td>\n",
       "      <td>Mermaid</td>\n",
       "      <td>413</td>\n",
       "    </tr>\n",
       "    <tr>\n",
       "      <th>2</th>\n",
       "      <td>Enchanted Woods</td>\n",
       "      <td>Sparkle</td>\n",
       "      <td>Griffin</td>\n",
       "      <td>470</td>\n",
       "    </tr>\n",
       "    <tr>\n",
       "      <th>3</th>\n",
       "      <td>Enchanted Woods</td>\n",
       "      <td>Griff</td>\n",
       "      <td>Unicorn</td>\n",
       "      <td>404</td>\n",
       "    </tr>\n",
       "    <tr>\n",
       "      <th>4</th>\n",
       "      <td>Faerie Forest</td>\n",
       "      <td>Ariel</td>\n",
       "      <td>Dragon</td>\n",
       "      <td>478</td>\n",
       "    </tr>\n",
       "    <tr>\n",
       "      <th>5</th>\n",
       "      <td>Faerie Forest</td>\n",
       "      <td>Draco</td>\n",
       "      <td>Mermaid</td>\n",
       "      <td>383</td>\n",
       "    </tr>\n",
       "    <tr>\n",
       "      <th>6</th>\n",
       "      <td>Dragon’s Den</td>\n",
       "      <td>Sparkle</td>\n",
       "      <td>Mermaid</td>\n",
       "      <td>383</td>\n",
       "    </tr>\n",
       "    <tr>\n",
       "      <th>7</th>\n",
       "      <td>Dragon’s Den</td>\n",
       "      <td>Flare</td>\n",
       "      <td>Mermaid</td>\n",
       "      <td>382</td>\n",
       "    </tr>\n",
       "    <tr>\n",
       "      <th>8</th>\n",
       "      <td>Unicorn Utopia</td>\n",
       "      <td>Ariel</td>\n",
       "      <td>Griffin</td>\n",
       "      <td>430</td>\n",
       "    </tr>\n",
       "    <tr>\n",
       "      <th>9</th>\n",
       "      <td>Unicorn Utopia</td>\n",
       "      <td>Sparkle</td>\n",
       "      <td>Griffin</td>\n",
       "      <td>410</td>\n",
       "    </tr>\n",
       "  </tbody>\n",
       "</table>\n",
       "</div>"
      ],
      "text/plain": [
       "       forest_name creature_name creature_type  power_level\n",
       "0     Mystic Grove         Griff       Mermaid          450\n",
       "1     Mystic Grove       Sparkle       Mermaid          413\n",
       "2  Enchanted Woods       Sparkle       Griffin          470\n",
       "3  Enchanted Woods         Griff       Unicorn          404\n",
       "4    Faerie Forest         Ariel        Dragon          478\n",
       "5    Faerie Forest         Draco       Mermaid          383\n",
       "6     Dragon’s Den       Sparkle       Mermaid          383\n",
       "7     Dragon’s Den         Flare       Mermaid          382\n",
       "8   Unicorn Utopia         Ariel       Griffin          430\n",
       "9   Unicorn Utopia       Sparkle       Griffin          410"
      ]
     },
     "execution_count": 73,
     "metadata": {},
     "output_type": "execute_result"
    }
   ],
   "source": [
    "def top_2_creatures_by_power(creatures):\n",
    "    creature_list = json.loads(creatures)\n",
    "    sorted_creatures = sorted(creature_list, key=lambda x: x['power_level'], reverse=True)\n",
    "    return sorted_creatures[:2]\n",
    "\n",
    "enchanted_forests['top_2_creatures'] = enchanted_forests['creatures'].apply(top_2_creatures_by_power)\n",
    "\n",
    "top_2_creatures = enchanted_forests[['forest_name', 'top_2_creatures']]\n",
    "\n",
    "# manipulate for more readable output\n",
    "top_2_creatures_formatted = top_2_creatures.explode('top_2_creatures').reset_index(drop=True)\n",
    "top_2_creatures_formatted[['forest_name', 'creature_name', 'creature_type', 'power_level']] = top_2_creatures_formatted.apply(\n",
    "    lambda row: (row['forest_name'], row['top_2_creatures']['creature_name'], row['top_2_creatures']['creature_type'], row['top_2_creatures']['power_level']),\n",
    "    axis=1, result_type='expand'\n",
    ")\n",
    "\n",
    "top_2_creatures_formatted[['forest_name', 'creature_name', 'creature_type', 'power_level']]"
   ]
  },
  {
   "cell_type": "markdown",
   "id": "9caad876",
   "metadata": {},
   "source": [
    "## Q12 - Async Adventures in Data <a class=\"anchor\" id=\"chapter12\"></a>\n",
    "\n",
    "Question: Welcome to Async Adventures in Data! You are given a dataset of magical quests undertaken by various whimsical characters. Each character can perform multiple quests, and each quest has different stages. Your task is to perform asynchronous data manipulation to answer the following questions:\n",
    "\n",
    "1. Count the total number of quests each character has completed.\n",
    "2. Calculate the average number of stages per quest for each character.\n",
    "3. Identify the character with the highest average quest duration.\n",
    "4. Determine the most common quest type for each character.\n",
    "5. Find the character with the most diverse quest portfolio (i.e., highest number of unique quest types).\n",
    "\n",
    "Datasets:\n",
    "\n",
    "magical_quests: Contains columns (character_id, character_name, quests), where quests is a list of dictionaries with keys (quest_id, quest_type, stages, duration)."
   ]
  },
  {
   "cell_type": "code",
   "execution_count": 74,
   "id": "efe960f1",
   "metadata": {},
   "outputs": [
    {
     "name": "stdout",
     "output_type": "stream",
     "text": [
      "Magical Quests DataFrame:\n",
      "   character_id character_name  \\\n",
      "0             1          Frodo   \n",
      "1             2        Gandalf   \n",
      "2             3       Hermione   \n",
      "3             4        Legolas   \n",
      "4             5          Bilbo   \n",
      "\n",
      "                                              quests  \n",
      "0  [{\"quest_id\": 295, \"quest_type\": \"Dragon Slayi...  \n",
      "1  [{\"quest_id\": 947, \"quest_type\": \"Potion Makin...  \n",
      "2  [{\"quest_id\": 951, \"quest_type\": \"Spell Castin...  \n",
      "3  [{\"quest_id\": 531, \"quest_type\": \"Treasure Hun...  \n",
      "4  [{\"quest_id\": 566, \"quest_type\": \"Potion Makin...  \n"
     ]
    }
   ],
   "source": [
    "# Seed for reproducibility\n",
    "np.random.seed(808)\n",
    "\n",
    "# Generate synthetic data\n",
    "character_ids = np.arange(1, 11)\n",
    "character_names = ['Frodo', 'Gandalf', 'Hermione', 'Legolas', 'Bilbo', 'Galadriel', 'Dumbledore', 'Gimli', 'Harry', 'Aragorn']\n",
    "quest_types = ['Treasure Hunt', 'Dragon Slaying', 'Potion Making', 'Spell Casting', 'Rescue Mission']\n",
    "stage_options = np.arange(1, 6)\n",
    "duration_options = np.arange(1, 101)\n",
    "\n",
    "data = []\n",
    "for character_id, character_name in zip(character_ids, character_names):\n",
    "    num_quests = np.random.randint(5, 11)\n",
    "    quests = []\n",
    "    for _ in range(num_quests):\n",
    "        quest_id = int(np.random.randint(1, 1001))\n",
    "        quest_type = np.random.choice(quest_types)\n",
    "        stages = int(np.random.choice(stage_options))\n",
    "        duration = int(np.random.choice(duration_options))\n",
    "        quests.append({\n",
    "            'quest_id': quest_id,\n",
    "            'quest_type': quest_type,\n",
    "            'stages': stages,\n",
    "            'duration': duration\n",
    "        })\n",
    "    data.append([character_id, character_name, json.dumps(quests)])\n",
    "\n",
    "# Create DataFrame\n",
    "magical_quests = pd.DataFrame(data, columns=['character_id', 'character_name', 'quests'])\n",
    "\n",
    "# Display the dataset\n",
    "print(\"Magical Quests DataFrame:\")\n",
    "print(magical_quests.head())"
   ]
  },
  {
   "cell_type": "markdown",
   "id": "763abf9b",
   "metadata": {},
   "source": [
    "### Question 12.1: Count the total number of quests each character has completed."
   ]
  },
  {
   "cell_type": "code",
   "execution_count": 75,
   "id": "06258269",
   "metadata": {},
   "outputs": [
    {
     "data": {
      "text/html": [
       "<div>\n",
       "<style scoped>\n",
       "    .dataframe tbody tr th:only-of-type {\n",
       "        vertical-align: middle;\n",
       "    }\n",
       "\n",
       "    .dataframe tbody tr th {\n",
       "        vertical-align: top;\n",
       "    }\n",
       "\n",
       "    .dataframe thead th {\n",
       "        text-align: right;\n",
       "    }\n",
       "</style>\n",
       "<table border=\"1\" class=\"dataframe\">\n",
       "  <thead>\n",
       "    <tr style=\"text-align: right;\">\n",
       "      <th></th>\n",
       "      <th>character_name</th>\n",
       "      <th>quest_count</th>\n",
       "    </tr>\n",
       "  </thead>\n",
       "  <tbody>\n",
       "    <tr>\n",
       "      <th>0</th>\n",
       "      <td>Frodo</td>\n",
       "      <td>10</td>\n",
       "    </tr>\n",
       "    <tr>\n",
       "      <th>1</th>\n",
       "      <td>Gandalf</td>\n",
       "      <td>7</td>\n",
       "    </tr>\n",
       "    <tr>\n",
       "      <th>2</th>\n",
       "      <td>Hermione</td>\n",
       "      <td>8</td>\n",
       "    </tr>\n",
       "    <tr>\n",
       "      <th>3</th>\n",
       "      <td>Legolas</td>\n",
       "      <td>7</td>\n",
       "    </tr>\n",
       "    <tr>\n",
       "      <th>4</th>\n",
       "      <td>Bilbo</td>\n",
       "      <td>9</td>\n",
       "    </tr>\n",
       "    <tr>\n",
       "      <th>5</th>\n",
       "      <td>Galadriel</td>\n",
       "      <td>5</td>\n",
       "    </tr>\n",
       "    <tr>\n",
       "      <th>6</th>\n",
       "      <td>Dumbledore</td>\n",
       "      <td>7</td>\n",
       "    </tr>\n",
       "    <tr>\n",
       "      <th>7</th>\n",
       "      <td>Gimli</td>\n",
       "      <td>8</td>\n",
       "    </tr>\n",
       "    <tr>\n",
       "      <th>8</th>\n",
       "      <td>Harry</td>\n",
       "      <td>5</td>\n",
       "    </tr>\n",
       "    <tr>\n",
       "      <th>9</th>\n",
       "      <td>Aragorn</td>\n",
       "      <td>8</td>\n",
       "    </tr>\n",
       "  </tbody>\n",
       "</table>\n",
       "</div>"
      ],
      "text/plain": [
       "  character_name  quest_count\n",
       "0          Frodo           10\n",
       "1        Gandalf            7\n",
       "2       Hermione            8\n",
       "3        Legolas            7\n",
       "4          Bilbo            9\n",
       "5      Galadriel            5\n",
       "6     Dumbledore            7\n",
       "7          Gimli            8\n",
       "8          Harry            5\n",
       "9        Aragorn            8"
      ]
     },
     "execution_count": 75,
     "metadata": {},
     "output_type": "execute_result"
    }
   ],
   "source": [
    "magical_quests['quest_count'] = magical_quests['quests'].apply(lambda x: len(json.loads(x)))\n",
    "\n",
    "magical_quests[['character_name', 'quest_count']]"
   ]
  },
  {
   "cell_type": "markdown",
   "id": "7d98a44f",
   "metadata": {},
   "source": [
    "### Question 12.2: Calculate the average number of stages per quest for each character."
   ]
  },
  {
   "cell_type": "code",
   "execution_count": 76,
   "id": "1213209f",
   "metadata": {},
   "outputs": [
    {
     "data": {
      "text/html": [
       "<div>\n",
       "<style scoped>\n",
       "    .dataframe tbody tr th:only-of-type {\n",
       "        vertical-align: middle;\n",
       "    }\n",
       "\n",
       "    .dataframe tbody tr th {\n",
       "        vertical-align: top;\n",
       "    }\n",
       "\n",
       "    .dataframe thead th {\n",
       "        text-align: right;\n",
       "    }\n",
       "</style>\n",
       "<table border=\"1\" class=\"dataframe\">\n",
       "  <thead>\n",
       "    <tr style=\"text-align: right;\">\n",
       "      <th></th>\n",
       "      <th>character_name</th>\n",
       "      <th>average_stages</th>\n",
       "    </tr>\n",
       "  </thead>\n",
       "  <tbody>\n",
       "    <tr>\n",
       "      <th>0</th>\n",
       "      <td>Frodo</td>\n",
       "      <td>3.500000</td>\n",
       "    </tr>\n",
       "    <tr>\n",
       "      <th>1</th>\n",
       "      <td>Gandalf</td>\n",
       "      <td>2.714286</td>\n",
       "    </tr>\n",
       "    <tr>\n",
       "      <th>2</th>\n",
       "      <td>Hermione</td>\n",
       "      <td>3.625000</td>\n",
       "    </tr>\n",
       "    <tr>\n",
       "      <th>3</th>\n",
       "      <td>Legolas</td>\n",
       "      <td>3.000000</td>\n",
       "    </tr>\n",
       "    <tr>\n",
       "      <th>4</th>\n",
       "      <td>Bilbo</td>\n",
       "      <td>3.000000</td>\n",
       "    </tr>\n",
       "    <tr>\n",
       "      <th>5</th>\n",
       "      <td>Galadriel</td>\n",
       "      <td>2.000000</td>\n",
       "    </tr>\n",
       "    <tr>\n",
       "      <th>6</th>\n",
       "      <td>Dumbledore</td>\n",
       "      <td>3.285714</td>\n",
       "    </tr>\n",
       "    <tr>\n",
       "      <th>7</th>\n",
       "      <td>Gimli</td>\n",
       "      <td>2.875000</td>\n",
       "    </tr>\n",
       "    <tr>\n",
       "      <th>8</th>\n",
       "      <td>Harry</td>\n",
       "      <td>3.000000</td>\n",
       "    </tr>\n",
       "    <tr>\n",
       "      <th>9</th>\n",
       "      <td>Aragorn</td>\n",
       "      <td>3.500000</td>\n",
       "    </tr>\n",
       "  </tbody>\n",
       "</table>\n",
       "</div>"
      ],
      "text/plain": [
       "  character_name  average_stages\n",
       "0          Frodo        3.500000\n",
       "1        Gandalf        2.714286\n",
       "2       Hermione        3.625000\n",
       "3        Legolas        3.000000\n",
       "4          Bilbo        3.000000\n",
       "5      Galadriel        2.000000\n",
       "6     Dumbledore        3.285714\n",
       "7          Gimli        2.875000\n",
       "8          Harry        3.000000\n",
       "9        Aragorn        3.500000"
      ]
     },
     "execution_count": 76,
     "metadata": {},
     "output_type": "execute_result"
    }
   ],
   "source": [
    "def calculate_avg_stages(quests):\n",
    "    quest_list = json.loads(quests)\n",
    "    total_stages = sum(quest['stages'] for quest in quest_list)\n",
    "    return total_stages / len(quest_list) if quest_list else 0\n",
    "\n",
    "magical_quests['average_stages'] = magical_quests['quests'].apply(calculate_avg_stages)\n",
    "\n",
    "magical_quests[['character_name', 'average_stages']]"
   ]
  },
  {
   "cell_type": "markdown",
   "id": "dcc0a844",
   "metadata": {},
   "source": [
    "### Question 12.3: Identify the character with the highest average quest duration."
   ]
  },
  {
   "cell_type": "code",
   "execution_count": 77,
   "id": "247b11ec",
   "metadata": {},
   "outputs": [
    {
     "data": {
      "text/plain": [
       "character_name      Harry\n",
       "average_duration     69.8\n",
       "Name: 8, dtype: object"
      ]
     },
     "execution_count": 77,
     "metadata": {},
     "output_type": "execute_result"
    }
   ],
   "source": [
    "def calculate_avg_duration(quests):\n",
    "    quest_list = json.loads(quests)\n",
    "    total_duration = sum(quest['duration'] for quest in quest_list)\n",
    "    return total_duration / len(quest_list) if quest_list else 0\n",
    "\n",
    "magical_quests['average_duration'] = magical_quests['quests'].apply(calculate_avg_duration)\n",
    "\n",
    "char_highest_avg = magical_quests.loc[magical_quests['average_duration'].idxmax()]\n",
    "\n",
    "char_highest_avg[['character_name', 'average_duration']]"
   ]
  },
  {
   "cell_type": "markdown",
   "id": "34d8a7c0",
   "metadata": {},
   "source": [
    "### Question 12.4: Determine the most common quest type for each character."
   ]
  },
  {
   "cell_type": "code",
   "execution_count": 78,
   "id": "50d574f7",
   "metadata": {},
   "outputs": [
    {
     "data": {
      "text/html": [
       "<div>\n",
       "<style scoped>\n",
       "    .dataframe tbody tr th:only-of-type {\n",
       "        vertical-align: middle;\n",
       "    }\n",
       "\n",
       "    .dataframe tbody tr th {\n",
       "        vertical-align: top;\n",
       "    }\n",
       "\n",
       "    .dataframe thead th {\n",
       "        text-align: right;\n",
       "    }\n",
       "</style>\n",
       "<table border=\"1\" class=\"dataframe\">\n",
       "  <thead>\n",
       "    <tr style=\"text-align: right;\">\n",
       "      <th></th>\n",
       "      <th>character_name</th>\n",
       "      <th>most_common_quest_type</th>\n",
       "    </tr>\n",
       "  </thead>\n",
       "  <tbody>\n",
       "    <tr>\n",
       "      <th>0</th>\n",
       "      <td>Frodo</td>\n",
       "      <td>Rescue Mission</td>\n",
       "    </tr>\n",
       "    <tr>\n",
       "      <th>1</th>\n",
       "      <td>Gandalf</td>\n",
       "      <td>Potion Making</td>\n",
       "    </tr>\n",
       "    <tr>\n",
       "      <th>2</th>\n",
       "      <td>Hermione</td>\n",
       "      <td>Dragon Slaying</td>\n",
       "    </tr>\n",
       "    <tr>\n",
       "      <th>3</th>\n",
       "      <td>Legolas</td>\n",
       "      <td>Spell Casting</td>\n",
       "    </tr>\n",
       "    <tr>\n",
       "      <th>4</th>\n",
       "      <td>Bilbo</td>\n",
       "      <td>Rescue Mission</td>\n",
       "    </tr>\n",
       "    <tr>\n",
       "      <th>5</th>\n",
       "      <td>Galadriel</td>\n",
       "      <td>Treasure Hunt</td>\n",
       "    </tr>\n",
       "    <tr>\n",
       "      <th>6</th>\n",
       "      <td>Dumbledore</td>\n",
       "      <td>Treasure Hunt</td>\n",
       "    </tr>\n",
       "    <tr>\n",
       "      <th>7</th>\n",
       "      <td>Gimli</td>\n",
       "      <td>Potion Making</td>\n",
       "    </tr>\n",
       "    <tr>\n",
       "      <th>8</th>\n",
       "      <td>Harry</td>\n",
       "      <td>Dragon Slaying</td>\n",
       "    </tr>\n",
       "    <tr>\n",
       "      <th>9</th>\n",
       "      <td>Aragorn</td>\n",
       "      <td>Spell Casting</td>\n",
       "    </tr>\n",
       "  </tbody>\n",
       "</table>\n",
       "</div>"
      ],
      "text/plain": [
       "  character_name most_common_quest_type\n",
       "0          Frodo         Rescue Mission\n",
       "1        Gandalf          Potion Making\n",
       "2       Hermione         Dragon Slaying\n",
       "3        Legolas          Spell Casting\n",
       "4          Bilbo         Rescue Mission\n",
       "5      Galadriel          Treasure Hunt\n",
       "6     Dumbledore          Treasure Hunt\n",
       "7          Gimli          Potion Making\n",
       "8          Harry         Dragon Slaying\n",
       "9        Aragorn          Spell Casting"
      ]
     },
     "execution_count": 78,
     "metadata": {},
     "output_type": "execute_result"
    }
   ],
   "source": [
    "def most_common_quest_type(quests):\n",
    "    quest_list = json.loads(quests)\n",
    "    quest_types = [quest['quest_type'] for quest in quest_list]\n",
    "    return pd.Series(quest_types).mode()[0]\n",
    "\n",
    "magical_quests['most_common_quest_type'] = magical_quests['quests'].apply(most_common_quest_type)\n",
    "\n",
    "magical_quests[['character_name', 'most_common_quest_type']]"
   ]
  },
  {
   "cell_type": "code",
   "execution_count": 79,
   "id": "053ca81d",
   "metadata": {},
   "outputs": [
    {
     "data": {
      "text/plain": [
       "character_name        Frodo\n",
       "unique_quest_count        5\n",
       "Name: 0, dtype: object"
      ]
     },
     "execution_count": 79,
     "metadata": {},
     "output_type": "execute_result"
    }
   ],
   "source": [
    "def unique_quest_types(quests):\n",
    "    quest_list = json.loads(quests)\n",
    "    quest_types = {quest['quest_type'] for quest in quest_list}\n",
    "    return len(quest_types)\n",
    "\n",
    "magical_quests['unique_quest_count'] = magical_quests['quests'].apply(unique_quest_types)\n",
    "\n",
    "best_portfolio = magical_quests.loc[magical_quests['unique_quest_count'].idxmax()]\n",
    "\n",
    "best_portfolio[['character_name', 'unique_quest_count']]"
   ]
  },
  {
   "cell_type": "markdown",
   "id": "5c5b9235",
   "metadata": {},
   "source": [
    "## Q13 - Geo Pandas Adventure <a class=\"anchor\" id=\"chapter13\"></a>\n",
    "\n",
    "Question: Welcome to Geo Pandas Adventure! You are given a dataset of magical locations and the whimsical creatures that inhabit them. Each location has different environmental properties and magical attributes. Your task is to analyze this geographical data to answer the following questions:\n",
    "\n",
    "1. Count the total number of unique creatures in each location.\n",
    "2. Calculate the average magical energy level for each location.\n",
    "3. Identify the location with the highest diversity of creature types.\n",
    "4. Determine the most common magical attribute in each location.\n",
    "5. Find the top 3 locations with the highest average environmental scores.\n",
    "\n",
    "Datasets:\n",
    "\n",
    "magical_locations: Contains columns (location_id, location_name, creatures, magical_attributes, environmental_score), where creatures is a list of dictionaries with keys (creature_id, creature_name, creature_type, magical_energy)."
   ]
  },
  {
   "cell_type": "code",
   "execution_count": 80,
   "id": "4941f46d",
   "metadata": {},
   "outputs": [
    {
     "name": "stdout",
     "output_type": "stream",
     "text": [
      "Magical Locations DataFrame:\n",
      "   location_id     location_name  \\\n",
      "0            1   Mystic Mountain   \n",
      "1            2  Enchanted Forest   \n",
      "2            3       Faerie Glen   \n",
      "3            4     Dragon’s Lair   \n",
      "4            5    Unicorn Meadow   \n",
      "\n",
      "                                           creatures  \\\n",
      "0  [{\"creature_id\": 16, \"creature_name\": \"Griff\",...   \n",
      "1  [{\"creature_id\": 764, \"creature_name\": \"Griff\"...   \n",
      "2  [{\"creature_id\": 172, \"creature_name\": \"Ariel\"...   \n",
      "3  [{\"creature_id\": 514, \"creature_name\": \"Ariel\"...   \n",
      "4  [{\"creature_id\": 658, \"creature_name\": \"Griff\"...   \n",
      "\n",
      "                                  magical_attributes  environmental_score  \n",
      "0                                  [Enchanted Trees]                   78  \n",
      "1                 [Floating Islands, Glowing Stones]                   96  \n",
      "2                                    [Mystic Waters]                   82  \n",
      "3  [Whispering Winds, Enchanted Trees, Mystic Wat...                   61  \n",
      "4                                  [Enchanted Trees]                   86  \n"
     ]
    }
   ],
   "source": [
    "# Seed for reproducibility\n",
    "np.random.seed(909)\n",
    "\n",
    "# Generate synthetic data\n",
    "location_ids = np.arange(1, 6)\n",
    "location_names = ['Mystic Mountain', 'Enchanted Forest', 'Faerie Glen', 'Dragon’s Lair', 'Unicorn Meadow']\n",
    "creature_types = ['Dragon', 'Unicorn', 'Phoenix', 'Griffin', 'Mermaid']\n",
    "creature_names = ['Draco', 'Sparkle', 'Flare', 'Griff', 'Ariel']\n",
    "magical_attributes_options = ['Glowing Stones', 'Whispering Winds', 'Mystic Waters', 'Enchanted Trees', 'Floating Islands']\n",
    "environmental_scores = np.random.randint(50, 101, size=len(location_ids))\n",
    "\n",
    "data = []\n",
    "for location_id, location_name in zip(location_ids, location_names):\n",
    "    num_creatures = np.random.randint(5, 11)\n",
    "    creatures = []\n",
    "    for _ in range(num_creatures):\n",
    "        creature_id = int(np.random.randint(1, 1001))\n",
    "        creature_type = np.random.choice(creature_types)\n",
    "        creature_name = np.random.choice(creature_names)\n",
    "        magical_energy = int(np.random.randint(50, 501))\n",
    "        creatures.append({\n",
    "            'creature_id': creature_id,\n",
    "            'creature_name': creature_name,\n",
    "            'creature_type': creature_type,\n",
    "            'magical_energy': magical_energy\n",
    "        })\n",
    "    magical_attributes = np.random.choice(magical_attributes_options, np.random.randint(1, 4), replace=False).tolist()\n",
    "    data.append([location_id, location_name, json.dumps(creatures), magical_attributes, environmental_scores[location_id-1]])\n",
    "\n",
    "# Create DataFrame\n",
    "magical_locations = pd.DataFrame(data, columns=['location_id', 'location_name', 'creatures', 'magical_attributes', 'environmental_score'])\n",
    "\n",
    "# Display the dataset\n",
    "print(\"Magical Locations DataFrame:\")\n",
    "print(magical_locations.head())"
   ]
  },
  {
   "cell_type": "markdown",
   "id": "3a77f4cb",
   "metadata": {},
   "source": [
    "### Question 13.1: Count the total number of unique creatures in each location."
   ]
  },
  {
   "cell_type": "code",
   "execution_count": 81,
   "id": "2379a3a3",
   "metadata": {},
   "outputs": [
    {
     "data": {
      "text/html": [
       "<div>\n",
       "<style scoped>\n",
       "    .dataframe tbody tr th:only-of-type {\n",
       "        vertical-align: middle;\n",
       "    }\n",
       "\n",
       "    .dataframe tbody tr th {\n",
       "        vertical-align: top;\n",
       "    }\n",
       "\n",
       "    .dataframe thead th {\n",
       "        text-align: right;\n",
       "    }\n",
       "</style>\n",
       "<table border=\"1\" class=\"dataframe\">\n",
       "  <thead>\n",
       "    <tr style=\"text-align: right;\">\n",
       "      <th></th>\n",
       "      <th>location_name</th>\n",
       "      <th>unique_creature_count</th>\n",
       "    </tr>\n",
       "  </thead>\n",
       "  <tbody>\n",
       "    <tr>\n",
       "      <th>0</th>\n",
       "      <td>Mystic Mountain</td>\n",
       "      <td>5</td>\n",
       "    </tr>\n",
       "    <tr>\n",
       "      <th>1</th>\n",
       "      <td>Enchanted Forest</td>\n",
       "      <td>8</td>\n",
       "    </tr>\n",
       "    <tr>\n",
       "      <th>2</th>\n",
       "      <td>Faerie Glen</td>\n",
       "      <td>8</td>\n",
       "    </tr>\n",
       "    <tr>\n",
       "      <th>3</th>\n",
       "      <td>Dragon’s Lair</td>\n",
       "      <td>6</td>\n",
       "    </tr>\n",
       "    <tr>\n",
       "      <th>4</th>\n",
       "      <td>Unicorn Meadow</td>\n",
       "      <td>10</td>\n",
       "    </tr>\n",
       "  </tbody>\n",
       "</table>\n",
       "</div>"
      ],
      "text/plain": [
       "      location_name  unique_creature_count\n",
       "0   Mystic Mountain                      5\n",
       "1  Enchanted Forest                      8\n",
       "2       Faerie Glen                      8\n",
       "3     Dragon’s Lair                      6\n",
       "4    Unicorn Meadow                     10"
      ]
     },
     "execution_count": 81,
     "metadata": {},
     "output_type": "execute_result"
    }
   ],
   "source": [
    "magical_locations['unique_creature_count'] = magical_locations['creatures'].apply(\n",
    "    lambda x: len(set([creature['creature_id'] for creature in json.loads(x)]))\n",
    ")\n",
    "magical_locations[['location_name', 'unique_creature_count']]"
   ]
  },
  {
   "cell_type": "markdown",
   "id": "007d75d2",
   "metadata": {},
   "source": [
    "### Question 13.2: Calculate the average magical energy level for each location."
   ]
  },
  {
   "cell_type": "code",
   "execution_count": 82,
   "id": "0933a3cb",
   "metadata": {},
   "outputs": [
    {
     "data": {
      "text/html": [
       "<div>\n",
       "<style scoped>\n",
       "    .dataframe tbody tr th:only-of-type {\n",
       "        vertical-align: middle;\n",
       "    }\n",
       "\n",
       "    .dataframe tbody tr th {\n",
       "        vertical-align: top;\n",
       "    }\n",
       "\n",
       "    .dataframe thead th {\n",
       "        text-align: right;\n",
       "    }\n",
       "</style>\n",
       "<table border=\"1\" class=\"dataframe\">\n",
       "  <thead>\n",
       "    <tr style=\"text-align: right;\">\n",
       "      <th></th>\n",
       "      <th>location_name</th>\n",
       "      <th>avg_magical_energy_each_loc</th>\n",
       "    </tr>\n",
       "  </thead>\n",
       "  <tbody>\n",
       "    <tr>\n",
       "      <th>0</th>\n",
       "      <td>Mystic Mountain</td>\n",
       "      <td>284.0</td>\n",
       "    </tr>\n",
       "    <tr>\n",
       "      <th>1</th>\n",
       "      <td>Enchanted Forest</td>\n",
       "      <td>239.5</td>\n",
       "    </tr>\n",
       "    <tr>\n",
       "      <th>2</th>\n",
       "      <td>Faerie Glen</td>\n",
       "      <td>271.0</td>\n",
       "    </tr>\n",
       "    <tr>\n",
       "      <th>3</th>\n",
       "      <td>Dragon’s Lair</td>\n",
       "      <td>135.5</td>\n",
       "    </tr>\n",
       "    <tr>\n",
       "      <th>4</th>\n",
       "      <td>Unicorn Meadow</td>\n",
       "      <td>235.3</td>\n",
       "    </tr>\n",
       "  </tbody>\n",
       "</table>\n",
       "</div>"
      ],
      "text/plain": [
       "      location_name  avg_magical_energy_each_loc\n",
       "0   Mystic Mountain                        284.0\n",
       "1  Enchanted Forest                        239.5\n",
       "2       Faerie Glen                        271.0\n",
       "3     Dragon’s Lair                        135.5\n",
       "4    Unicorn Meadow                        235.3"
      ]
     },
     "execution_count": 82,
     "metadata": {},
     "output_type": "execute_result"
    }
   ],
   "source": [
    "magical_locations['avg_magical_energy_each_loc'] = magical_locations['creatures'].apply(\n",
    "    lambda x: np.mean([creature['magical_energy'] for creature in json.loads(x)])\n",
    ")\n",
    "magical_locations[['location_name', 'avg_magical_energy_each_loc']]"
   ]
  },
  {
   "cell_type": "markdown",
   "id": "980e351d",
   "metadata": {},
   "source": [
    "### Question 13.3: Identify the location with the highest diversity of creature types."
   ]
  },
  {
   "cell_type": "code",
   "execution_count": 83,
   "id": "c94baf93",
   "metadata": {},
   "outputs": [
    {
     "data": {
      "text/plain": [
       "location_name              Unicorn Meadow\n",
       "creature_type_diversity                 5\n",
       "Name: 4, dtype: object"
      ]
     },
     "execution_count": 83,
     "metadata": {},
     "output_type": "execute_result"
    }
   ],
   "source": [
    "magical_locations['creature_type_diversity'] = magical_locations['creatures'].apply(\n",
    "    lambda x: len(set([creature['creature_type'] for creature in json.loads(x)]))\n",
    ")\n",
    "highest_diversity = magical_locations.loc[magical_locations['creature_type_diversity'].idxmax()]\n",
    "\n",
    "highest_diversity[['location_name', 'creature_type_diversity']]"
   ]
  },
  {
   "cell_type": "markdown",
   "id": "2a8044dd",
   "metadata": {},
   "source": [
    "### Question 13.4: Determine the most common magical attribute in each location."
   ]
  },
  {
   "cell_type": "code",
   "execution_count": 84,
   "id": "4d23a011",
   "metadata": {},
   "outputs": [
    {
     "data": {
      "text/html": [
       "<div>\n",
       "<style scoped>\n",
       "    .dataframe tbody tr th:only-of-type {\n",
       "        vertical-align: middle;\n",
       "    }\n",
       "\n",
       "    .dataframe tbody tr th {\n",
       "        vertical-align: top;\n",
       "    }\n",
       "\n",
       "    .dataframe thead th {\n",
       "        text-align: right;\n",
       "    }\n",
       "</style>\n",
       "<table border=\"1\" class=\"dataframe\">\n",
       "  <thead>\n",
       "    <tr style=\"text-align: right;\">\n",
       "      <th></th>\n",
       "      <th>location_name</th>\n",
       "      <th>most_common_magical_attribute</th>\n",
       "    </tr>\n",
       "  </thead>\n",
       "  <tbody>\n",
       "    <tr>\n",
       "      <th>0</th>\n",
       "      <td>Mystic Mountain</td>\n",
       "      <td>Enchanted Trees</td>\n",
       "    </tr>\n",
       "    <tr>\n",
       "      <th>1</th>\n",
       "      <td>Enchanted Forest</td>\n",
       "      <td>Floating Islands</td>\n",
       "    </tr>\n",
       "    <tr>\n",
       "      <th>2</th>\n",
       "      <td>Faerie Glen</td>\n",
       "      <td>Mystic Waters</td>\n",
       "    </tr>\n",
       "    <tr>\n",
       "      <th>3</th>\n",
       "      <td>Dragon’s Lair</td>\n",
       "      <td>Whispering Winds</td>\n",
       "    </tr>\n",
       "    <tr>\n",
       "      <th>4</th>\n",
       "      <td>Unicorn Meadow</td>\n",
       "      <td>Enchanted Trees</td>\n",
       "    </tr>\n",
       "  </tbody>\n",
       "</table>\n",
       "</div>"
      ],
      "text/plain": [
       "      location_name most_common_magical_attribute\n",
       "0   Mystic Mountain               Enchanted Trees\n",
       "1  Enchanted Forest              Floating Islands\n",
       "2       Faerie Glen                 Mystic Waters\n",
       "3     Dragon’s Lair              Whispering Winds\n",
       "4    Unicorn Meadow               Enchanted Trees"
      ]
     },
     "execution_count": 84,
     "metadata": {},
     "output_type": "execute_result"
    }
   ],
   "source": [
    "def most_common_attribute(attributes):\n",
    "    if attributes:\n",
    "        return Counter(attributes).most_common(1)[0][0]\n",
    "    return none\n",
    "\n",
    "magical_locations['most_common_magical_attribute'] = magical_locations['magical_attributes'].apply(\n",
    "    lambda x: most_common_attribute(x)\n",
    ")\n",
    "\n",
    "magical_locations[['location_name', 'most_common_magical_attribute']]"
   ]
  },
  {
   "cell_type": "markdown",
   "id": "3470420b",
   "metadata": {},
   "source": [
    "### Question 13.5: Find the top 3 locations with the highest average environmental scores."
   ]
  },
  {
   "cell_type": "code",
   "execution_count": 85,
   "id": "55281f1e",
   "metadata": {},
   "outputs": [
    {
     "data": {
      "text/html": [
       "<div>\n",
       "<style scoped>\n",
       "    .dataframe tbody tr th:only-of-type {\n",
       "        vertical-align: middle;\n",
       "    }\n",
       "\n",
       "    .dataframe tbody tr th {\n",
       "        vertical-align: top;\n",
       "    }\n",
       "\n",
       "    .dataframe thead th {\n",
       "        text-align: right;\n",
       "    }\n",
       "</style>\n",
       "<table border=\"1\" class=\"dataframe\">\n",
       "  <thead>\n",
       "    <tr style=\"text-align: right;\">\n",
       "      <th></th>\n",
       "      <th>location_name</th>\n",
       "      <th>environmental_score</th>\n",
       "    </tr>\n",
       "  </thead>\n",
       "  <tbody>\n",
       "    <tr>\n",
       "      <th>1</th>\n",
       "      <td>Enchanted Forest</td>\n",
       "      <td>96</td>\n",
       "    </tr>\n",
       "    <tr>\n",
       "      <th>4</th>\n",
       "      <td>Unicorn Meadow</td>\n",
       "      <td>86</td>\n",
       "    </tr>\n",
       "    <tr>\n",
       "      <th>2</th>\n",
       "      <td>Faerie Glen</td>\n",
       "      <td>82</td>\n",
       "    </tr>\n",
       "  </tbody>\n",
       "</table>\n",
       "</div>"
      ],
      "text/plain": [
       "      location_name  environmental_score\n",
       "1  Enchanted Forest                   96\n",
       "4    Unicorn Meadow                   86\n",
       "2       Faerie Glen                   82"
      ]
     },
     "execution_count": 85,
     "metadata": {},
     "output_type": "execute_result"
    }
   ],
   "source": [
    "magical_locations.nlargest(3, 'environmental_score')[['location_name', 'environmental_score']]"
   ]
  },
  {
   "cell_type": "markdown",
   "id": "e7b05165",
   "metadata": {},
   "source": [
    "## Q14 - Network Nexus Analysis <a class=\"anchor\" id=\"chapter14\"></a>\n",
    "\n",
    "Question: Welcome to the Network Nexus Analysis! You are given a dataset of magical creatures and their social networks. Each creature has connections to other creatures, and each connection has a strength value indicating the closeness of their relationship. Your task is to analyze these social networks to answer the following questions:\n",
    "\n",
    "1. Count the total number of connections each creature has.\n",
    "2. Calculate the average connection strength for each creature.\n",
    "3. Identify the creature with the highest average connection strength.\n",
    "4. Determine the most connected creature (i.e., the creature with the most connections).\n",
    "5. Find the top 3 creatures with the strongest total connection strength.\n",
    "\n",
    "Datasets:\n",
    "\n",
    "social_networks: Contains columns (creature_id, creature_name, connections), where connections is a list of dictionaries with keys (connected_creature_id, connection_strength)."
   ]
  },
  {
   "cell_type": "code",
   "execution_count": 86,
   "id": "b2095c99",
   "metadata": {},
   "outputs": [
    {
     "name": "stdout",
     "output_type": "stream",
     "text": [
      "Social Networks DataFrame:\n",
      "   creature_id creature_name  \\\n",
      "0            1         Frodo   \n",
      "1            2       Gandalf   \n",
      "2            3      Hermione   \n",
      "3            4       Legolas   \n",
      "4            5         Bilbo   \n",
      "\n",
      "                                         connections  \n",
      "0  [{\"connected_creature_id\": 3, \"connection_stre...  \n",
      "1  [{\"connected_creature_id\": 6, \"connection_stre...  \n",
      "2  [{\"connected_creature_id\": 7, \"connection_stre...  \n",
      "3  [{\"connected_creature_id\": 1, \"connection_stre...  \n",
      "4  [{\"connected_creature_id\": 3, \"connection_stre...  \n"
     ]
    }
   ],
   "source": [
    "# Seed for reproducibility\n",
    "np.random.seed(1010)\n",
    "\n",
    "# Generate synthetic data\n",
    "creature_ids = np.arange(1, 11)\n",
    "creature_names = ['Frodo', 'Gandalf', 'Hermione', 'Legolas', 'Bilbo', 'Galadriel', 'Dumbledore', 'Gimli', 'Harry', 'Aragorn']\n",
    "connection_strengths = np.arange(1, 11)\n",
    "\n",
    "data = []\n",
    "for creature_id, creature_name in zip(creature_ids, creature_names):\n",
    "    num_connections = np.random.randint(3, 7)\n",
    "    connections = []\n",
    "    connected_creatures = np.random.choice(creature_ids[creature_ids != creature_id], num_connections, replace=False)\n",
    "    for connected_creature_id in connected_creatures:\n",
    "        connection_strength = np.random.choice(connection_strengths)\n",
    "        connections.append({\n",
    "            'connected_creature_id': int(connected_creature_id),\n",
    "            'connection_strength': int(connection_strength)\n",
    "        })\n",
    "    data.append([creature_id, creature_name, json.dumps(connections)])\n",
    "\n",
    "# Create DataFrame\n",
    "social_networks = pd.DataFrame(data, columns=['creature_id', 'creature_name', 'connections'])\n",
    "\n",
    "# Display the dataset\n",
    "print(\"Social Networks DataFrame:\")\n",
    "print(social_networks.head())"
   ]
  },
  {
   "cell_type": "markdown",
   "id": "d27f6fd9",
   "metadata": {},
   "source": [
    "### Question 14.1: Count the total number of connections each creature has."
   ]
  },
  {
   "cell_type": "code",
   "execution_count": 87,
   "id": "f74ed72d",
   "metadata": {},
   "outputs": [
    {
     "data": {
      "text/html": [
       "<div>\n",
       "<style scoped>\n",
       "    .dataframe tbody tr th:only-of-type {\n",
       "        vertical-align: middle;\n",
       "    }\n",
       "\n",
       "    .dataframe tbody tr th {\n",
       "        vertical-align: top;\n",
       "    }\n",
       "\n",
       "    .dataframe thead th {\n",
       "        text-align: right;\n",
       "    }\n",
       "</style>\n",
       "<table border=\"1\" class=\"dataframe\">\n",
       "  <thead>\n",
       "    <tr style=\"text-align: right;\">\n",
       "      <th></th>\n",
       "      <th>creature_name</th>\n",
       "      <th>total_connections</th>\n",
       "    </tr>\n",
       "  </thead>\n",
       "  <tbody>\n",
       "    <tr>\n",
       "      <th>0</th>\n",
       "      <td>Frodo</td>\n",
       "      <td>3</td>\n",
       "    </tr>\n",
       "    <tr>\n",
       "      <th>1</th>\n",
       "      <td>Gandalf</td>\n",
       "      <td>3</td>\n",
       "    </tr>\n",
       "    <tr>\n",
       "      <th>2</th>\n",
       "      <td>Hermione</td>\n",
       "      <td>5</td>\n",
       "    </tr>\n",
       "    <tr>\n",
       "      <th>3</th>\n",
       "      <td>Legolas</td>\n",
       "      <td>4</td>\n",
       "    </tr>\n",
       "    <tr>\n",
       "      <th>4</th>\n",
       "      <td>Bilbo</td>\n",
       "      <td>6</td>\n",
       "    </tr>\n",
       "    <tr>\n",
       "      <th>5</th>\n",
       "      <td>Galadriel</td>\n",
       "      <td>4</td>\n",
       "    </tr>\n",
       "    <tr>\n",
       "      <th>6</th>\n",
       "      <td>Dumbledore</td>\n",
       "      <td>6</td>\n",
       "    </tr>\n",
       "    <tr>\n",
       "      <th>7</th>\n",
       "      <td>Gimli</td>\n",
       "      <td>4</td>\n",
       "    </tr>\n",
       "    <tr>\n",
       "      <th>8</th>\n",
       "      <td>Harry</td>\n",
       "      <td>4</td>\n",
       "    </tr>\n",
       "    <tr>\n",
       "      <th>9</th>\n",
       "      <td>Aragorn</td>\n",
       "      <td>4</td>\n",
       "    </tr>\n",
       "  </tbody>\n",
       "</table>\n",
       "</div>"
      ],
      "text/plain": [
       "  creature_name  total_connections\n",
       "0         Frodo                  3\n",
       "1       Gandalf                  3\n",
       "2      Hermione                  5\n",
       "3       Legolas                  4\n",
       "4         Bilbo                  6\n",
       "5     Galadriel                  4\n",
       "6    Dumbledore                  6\n",
       "7         Gimli                  4\n",
       "8         Harry                  4\n",
       "9       Aragorn                  4"
      ]
     },
     "execution_count": 87,
     "metadata": {},
     "output_type": "execute_result"
    }
   ],
   "source": [
    "social_networks['total_connections'] = social_networks['connections'].apply(lambda x: len(json.loads(x)))\n",
    "\n",
    "social_networks[['creature_name', 'total_connections']]"
   ]
  },
  {
   "cell_type": "markdown",
   "id": "fa27a463",
   "metadata": {},
   "source": [
    "### Question 14.2: Calculate the average connection strength for each creature."
   ]
  },
  {
   "cell_type": "code",
   "execution_count": 88,
   "id": "b4a6da77",
   "metadata": {},
   "outputs": [
    {
     "data": {
      "text/html": [
       "<div>\n",
       "<style scoped>\n",
       "    .dataframe tbody tr th:only-of-type {\n",
       "        vertical-align: middle;\n",
       "    }\n",
       "\n",
       "    .dataframe tbody tr th {\n",
       "        vertical-align: top;\n",
       "    }\n",
       "\n",
       "    .dataframe thead th {\n",
       "        text-align: right;\n",
       "    }\n",
       "</style>\n",
       "<table border=\"1\" class=\"dataframe\">\n",
       "  <thead>\n",
       "    <tr style=\"text-align: right;\">\n",
       "      <th></th>\n",
       "      <th>creature_name</th>\n",
       "      <th>avg_connection_strength</th>\n",
       "    </tr>\n",
       "  </thead>\n",
       "  <tbody>\n",
       "    <tr>\n",
       "      <th>0</th>\n",
       "      <td>Frodo</td>\n",
       "      <td>3.666667</td>\n",
       "    </tr>\n",
       "    <tr>\n",
       "      <th>1</th>\n",
       "      <td>Gandalf</td>\n",
       "      <td>3.000000</td>\n",
       "    </tr>\n",
       "    <tr>\n",
       "      <th>2</th>\n",
       "      <td>Hermione</td>\n",
       "      <td>5.800000</td>\n",
       "    </tr>\n",
       "    <tr>\n",
       "      <th>3</th>\n",
       "      <td>Legolas</td>\n",
       "      <td>3.500000</td>\n",
       "    </tr>\n",
       "    <tr>\n",
       "      <th>4</th>\n",
       "      <td>Bilbo</td>\n",
       "      <td>5.000000</td>\n",
       "    </tr>\n",
       "    <tr>\n",
       "      <th>5</th>\n",
       "      <td>Galadriel</td>\n",
       "      <td>5.250000</td>\n",
       "    </tr>\n",
       "    <tr>\n",
       "      <th>6</th>\n",
       "      <td>Dumbledore</td>\n",
       "      <td>6.166667</td>\n",
       "    </tr>\n",
       "    <tr>\n",
       "      <th>7</th>\n",
       "      <td>Gimli</td>\n",
       "      <td>5.250000</td>\n",
       "    </tr>\n",
       "    <tr>\n",
       "      <th>8</th>\n",
       "      <td>Harry</td>\n",
       "      <td>4.750000</td>\n",
       "    </tr>\n",
       "    <tr>\n",
       "      <th>9</th>\n",
       "      <td>Aragorn</td>\n",
       "      <td>7.250000</td>\n",
       "    </tr>\n",
       "  </tbody>\n",
       "</table>\n",
       "</div>"
      ],
      "text/plain": [
       "  creature_name  avg_connection_strength\n",
       "0         Frodo                 3.666667\n",
       "1       Gandalf                 3.000000\n",
       "2      Hermione                 5.800000\n",
       "3       Legolas                 3.500000\n",
       "4         Bilbo                 5.000000\n",
       "5     Galadriel                 5.250000\n",
       "6    Dumbledore                 6.166667\n",
       "7         Gimli                 5.250000\n",
       "8         Harry                 4.750000\n",
       "9       Aragorn                 7.250000"
      ]
     },
     "execution_count": 88,
     "metadata": {},
     "output_type": "execute_result"
    }
   ],
   "source": [
    "social_networks['avg_connection_strength'] = social_networks['connections'].apply(\n",
    "    lambda x: np.mean([connection['connection_strength'] for connection in json.loads(x)])\n",
    ")\n",
    "social_networks[['creature_name', 'avg_connection_strength']]"
   ]
  },
  {
   "cell_type": "markdown",
   "id": "6abdb0a8",
   "metadata": {},
   "source": [
    "### Question 14.3: Identify the creature with the highest average connection strength."
   ]
  },
  {
   "cell_type": "code",
   "execution_count": 89,
   "id": "bfc81fbc",
   "metadata": {},
   "outputs": [
    {
     "data": {
      "text/plain": [
       "creature_name              Aragorn\n",
       "avg_connection_strength       7.25\n",
       "Name: 9, dtype: object"
      ]
     },
     "execution_count": 89,
     "metadata": {},
     "output_type": "execute_result"
    }
   ],
   "source": [
    "highest_avg_strength = social_networks.loc[\n",
    "    social_networks['avg_connection_strength'].idxmax()\n",
    "]\n",
    "highest_avg_strength[['creature_name', 'avg_connection_strength']]"
   ]
  },
  {
   "cell_type": "markdown",
   "id": "c7956372",
   "metadata": {},
   "source": [
    "### Question 14.4: Determine the most connected creature (i.e., the creature with the most connections)."
   ]
  },
  {
   "cell_type": "code",
   "execution_count": 90,
   "id": "27ec9bbd",
   "metadata": {},
   "outputs": [
    {
     "data": {
      "text/plain": [
       "creature_name        Bilbo\n",
       "total_connections        6\n",
       "Name: 4, dtype: object"
      ]
     },
     "execution_count": 90,
     "metadata": {},
     "output_type": "execute_result"
    }
   ],
   "source": [
    "# use total_connections from 14.1\n",
    "most_connected_creature = social_networks.loc[\n",
    "    social_networks['total_connections'].idxmax()\n",
    "]\n",
    "most_connected_creature[['creature_name', 'total_connections']]"
   ]
  },
  {
   "cell_type": "markdown",
   "id": "e5d64027",
   "metadata": {},
   "source": [
    "### Question 14.5: Find the top 3 creatures with the strongest total connection strength."
   ]
  },
  {
   "cell_type": "code",
   "execution_count": 91,
   "id": "af967c90",
   "metadata": {},
   "outputs": [
    {
     "data": {
      "text/html": [
       "<div>\n",
       "<style scoped>\n",
       "    .dataframe tbody tr th:only-of-type {\n",
       "        vertical-align: middle;\n",
       "    }\n",
       "\n",
       "    .dataframe tbody tr th {\n",
       "        vertical-align: top;\n",
       "    }\n",
       "\n",
       "    .dataframe thead th {\n",
       "        text-align: right;\n",
       "    }\n",
       "</style>\n",
       "<table border=\"1\" class=\"dataframe\">\n",
       "  <thead>\n",
       "    <tr style=\"text-align: right;\">\n",
       "      <th></th>\n",
       "      <th>creature_name</th>\n",
       "      <th>total_connection_strength</th>\n",
       "    </tr>\n",
       "  </thead>\n",
       "  <tbody>\n",
       "    <tr>\n",
       "      <th>6</th>\n",
       "      <td>Dumbledore</td>\n",
       "      <td>37</td>\n",
       "    </tr>\n",
       "    <tr>\n",
       "      <th>4</th>\n",
       "      <td>Bilbo</td>\n",
       "      <td>30</td>\n",
       "    </tr>\n",
       "    <tr>\n",
       "      <th>2</th>\n",
       "      <td>Hermione</td>\n",
       "      <td>29</td>\n",
       "    </tr>\n",
       "  </tbody>\n",
       "</table>\n",
       "</div>"
      ],
      "text/plain": [
       "  creature_name  total_connection_strength\n",
       "6    Dumbledore                         37\n",
       "4         Bilbo                         30\n",
       "2      Hermione                         29"
      ]
     },
     "execution_count": 91,
     "metadata": {},
     "output_type": "execute_result"
    }
   ],
   "source": [
    "social_networks['total_connection_strength'] = social_networks['connections'].apply(\n",
    "    lambda x: sum([connection['connection_strength'] for connection in json.loads(x)])\n",
    ")\n",
    "social_networks.nlargest(3, 'total_connection_strength')[['creature_name', 'total_connection_strength']]"
   ]
  },
  {
   "cell_type": "markdown",
   "id": "4a50680e",
   "metadata": {},
   "source": [
    "## Q15 - High Dimensional Hide and Seek <a class=\"anchor\" id=\"chapter15\"></a>\n",
    "\n",
    "Question: Welcome to High Dimensional Hide and Seek! You are given a dataset of magical artifacts and their multidimensional properties. Each artifact has several attributes across different dimensions. Your task is to analyze these high-dimensional data to answer the following questions:\n",
    "\n",
    "1. Count the total number of artifacts in each category.\n",
    "2. Calculate the average value of each attribute for each category.\n",
    "3. Identify the category with the highest average \"magic intensity\" attribute.\n",
    "4. Determine the artifact with the highest combined value of all attributes.\n",
    "5. Find the top 3 categories with the highest variance in \"enchantment\" attribute.\n",
    "\n",
    "Datasets:\n",
    "\n",
    "magical_artifacts: Contains columns (artifact_id, category, attributes), where attributes is a dictionary with keys (magic_intensity, power_level, durability, enchantment, rarity)."
   ]
  },
  {
   "cell_type": "code",
   "execution_count": 92,
   "id": "cd237169",
   "metadata": {},
   "outputs": [
    {
     "name": "stdout",
     "output_type": "stream",
     "text": [
      "Magical Artifacts DataFrame:\n",
      "   artifact_id category                                         attributes\n",
      "0            1    Rings  {\"magic_intensity\": 56, \"power_level\": 82, \"du...\n",
      "1            2    Wands  {\"magic_intensity\": 23, \"power_level\": 21, \"du...\n",
      "2            3    Rings  {\"magic_intensity\": 87, \"power_level\": 9, \"dur...\n",
      "3            4  Amulets  {\"magic_intensity\": 77, \"power_level\": 95, \"du...\n",
      "4            5    Wands  {\"magic_intensity\": 10, \"power_level\": 10, \"du...\n"
     ]
    }
   ],
   "source": [
    "# Seed for reproducibility\n",
    "np.random.seed(1111)\n",
    "\n",
    "# Generate synthetic data\n",
    "artifact_ids = np.arange(1, 21)\n",
    "categories = ['Wands', 'Potions', 'Amulets', 'Scrolls', 'Rings']\n",
    "attributes_keys = ['magic_intensity', 'power_level', 'durability', 'enchantment', 'rarity']\n",
    "\n",
    "data = []\n",
    "for artifact_id in artifact_ids:\n",
    "    category = np.random.choice(categories)\n",
    "    attributes = {\n",
    "        'magic_intensity': np.random.randint(1, 101),\n",
    "        'power_level': np.random.randint(1, 101),\n",
    "        'durability': np.random.randint(1, 101),\n",
    "        'enchantment': np.random.randint(1, 101),\n",
    "        'rarity': np.random.randint(1, 101)\n",
    "    }\n",
    "    data.append([artifact_id, category, json.dumps(attributes)])\n",
    "\n",
    "# Create DataFrame\n",
    "magical_artifacts = pd.DataFrame(data, columns=['artifact_id', 'category', 'attributes'])\n",
    "\n",
    "# Display the dataset\n",
    "print(\"Magical Artifacts DataFrame:\")\n",
    "print(magical_artifacts.head())"
   ]
  },
  {
   "cell_type": "markdown",
   "id": "0d55495a",
   "metadata": {},
   "source": [
    "### Question 15.1: Count the total number of artifacts in each category."
   ]
  },
  {
   "cell_type": "code",
   "execution_count": 93,
   "id": "f4ad7097",
   "metadata": {},
   "outputs": [
    {
     "data": {
      "text/plain": [
       "category\n",
       "Amulets    3\n",
       "Potions    4\n",
       "Rings      5\n",
       "Scrolls    5\n",
       "Wands      3\n",
       "dtype: int64"
      ]
     },
     "execution_count": 93,
     "metadata": {},
     "output_type": "execute_result"
    }
   ],
   "source": [
    "magical_artifacts.groupby('category').size()"
   ]
  },
  {
   "cell_type": "markdown",
   "id": "a990bcba",
   "metadata": {},
   "source": [
    "### Question 15.2: Calculate the average value of each attribute for each category."
   ]
  },
  {
   "cell_type": "code",
   "execution_count": 94,
   "id": "6e362760",
   "metadata": {},
   "outputs": [
    {
     "data": {
      "text/html": [
       "<div>\n",
       "<style scoped>\n",
       "    .dataframe tbody tr th:only-of-type {\n",
       "        vertical-align: middle;\n",
       "    }\n",
       "\n",
       "    .dataframe tbody tr th {\n",
       "        vertical-align: top;\n",
       "    }\n",
       "\n",
       "    .dataframe thead th {\n",
       "        text-align: right;\n",
       "    }\n",
       "</style>\n",
       "<table border=\"1\" class=\"dataframe\">\n",
       "  <thead>\n",
       "    <tr style=\"text-align: right;\">\n",
       "      <th></th>\n",
       "      <th>artifact_id</th>\n",
       "      <th>magic_intensity</th>\n",
       "      <th>power_level</th>\n",
       "      <th>durability</th>\n",
       "      <th>enchantment</th>\n",
       "      <th>rarity</th>\n",
       "    </tr>\n",
       "    <tr>\n",
       "      <th>category</th>\n",
       "      <th></th>\n",
       "      <th></th>\n",
       "      <th></th>\n",
       "      <th></th>\n",
       "      <th></th>\n",
       "      <th></th>\n",
       "    </tr>\n",
       "  </thead>\n",
       "  <tbody>\n",
       "    <tr>\n",
       "      <th>Amulets</th>\n",
       "      <td>8.000000</td>\n",
       "      <td>66.000000</td>\n",
       "      <td>72.0</td>\n",
       "      <td>33.000000</td>\n",
       "      <td>48.333333</td>\n",
       "      <td>46.333333</td>\n",
       "    </tr>\n",
       "    <tr>\n",
       "      <th>Potions</th>\n",
       "      <td>12.750000</td>\n",
       "      <td>63.000000</td>\n",
       "      <td>51.0</td>\n",
       "      <td>62.000000</td>\n",
       "      <td>33.000000</td>\n",
       "      <td>34.750000</td>\n",
       "    </tr>\n",
       "    <tr>\n",
       "      <th>Rings</th>\n",
       "      <td>7.600000</td>\n",
       "      <td>50.400000</td>\n",
       "      <td>63.0</td>\n",
       "      <td>23.600000</td>\n",
       "      <td>58.400000</td>\n",
       "      <td>59.200000</td>\n",
       "    </tr>\n",
       "    <tr>\n",
       "      <th>Scrolls</th>\n",
       "      <td>14.800000</td>\n",
       "      <td>34.400000</td>\n",
       "      <td>36.4</td>\n",
       "      <td>74.200000</td>\n",
       "      <td>51.200000</td>\n",
       "      <td>57.800000</td>\n",
       "    </tr>\n",
       "    <tr>\n",
       "      <th>Wands</th>\n",
       "      <td>7.666667</td>\n",
       "      <td>33.666667</td>\n",
       "      <td>32.0</td>\n",
       "      <td>34.333333</td>\n",
       "      <td>30.666667</td>\n",
       "      <td>33.333333</td>\n",
       "    </tr>\n",
       "  </tbody>\n",
       "</table>\n",
       "</div>"
      ],
      "text/plain": [
       "          artifact_id  magic_intensity  power_level  durability  enchantment  \\\n",
       "category                                                                       \n",
       "Amulets      8.000000        66.000000         72.0   33.000000    48.333333   \n",
       "Potions     12.750000        63.000000         51.0   62.000000    33.000000   \n",
       "Rings        7.600000        50.400000         63.0   23.600000    58.400000   \n",
       "Scrolls     14.800000        34.400000         36.4   74.200000    51.200000   \n",
       "Wands        7.666667        33.666667         32.0   34.333333    30.666667   \n",
       "\n",
       "             rarity  \n",
       "category             \n",
       "Amulets   46.333333  \n",
       "Potions   34.750000  \n",
       "Rings     59.200000  \n",
       "Scrolls   57.800000  \n",
       "Wands     33.333333  "
      ]
     },
     "execution_count": 94,
     "metadata": {},
     "output_type": "execute_result"
    }
   ],
   "source": [
    "attributes_expanded = magical_artifacts['attributes'].apply(json.loads).apply(pd.Series)\n",
    "\n",
    "magical_artifacts_expanded = pd.concat([magical_artifacts.drop('attributes', axis=1), attributes_expanded], axis=1)\n",
    "\n",
    "magical_artifacts_expanded.groupby('category').mean()"
   ]
  },
  {
   "cell_type": "markdown",
   "id": "f0ee2764",
   "metadata": {},
   "source": [
    "### Question 15.3: Identify the category with the highest average \"magic intensity\" attribute."
   ]
  },
  {
   "cell_type": "code",
   "execution_count": 95,
   "id": "5f861772",
   "metadata": {},
   "outputs": [
    {
     "name": "stdout",
     "output_type": "stream",
     "text": [
      "Amulets : 66.0\n"
     ]
    }
   ],
   "source": [
    "avg_category_attribute = magical_artifacts_expanded.groupby('category').mean()\n",
    "\n",
    "highest_mi_category = avg_category_attribute['magic_intensity'].idxmax()\n",
    "highest_mi_value = avg_category_attribute['magic_intensity'].max()\n",
    "\n",
    "print(f\"{highest_mi_category} : {highest_mi_value}\")"
   ]
  },
  {
   "cell_type": "markdown",
   "id": "8e9f7f48",
   "metadata": {},
   "source": [
    "### Question 15.4: Determine the artifact with the highest combined value of all attributes."
   ]
  },
  {
   "cell_type": "code",
   "execution_count": 96,
   "id": "e40ae741",
   "metadata": {},
   "outputs": [
    {
     "data": {
      "text/plain": [
       "artifact_id                   8\n",
       "category                  Rings\n",
       "magic_intensity              99\n",
       "power_level                  89\n",
       "durability                    1\n",
       "enchantment                  88\n",
       "rarity                       94\n",
       "total_attributes_value      371\n",
       "Name: 7, dtype: object"
      ]
     },
     "execution_count": 96,
     "metadata": {},
     "output_type": "execute_result"
    }
   ],
   "source": [
    "magical_artifacts_expanded['total_attributes_value'] = magical_artifacts_expanded[\n",
    "    ['magic_intensity', 'power_level', 'durability', 'enchantment', 'rarity']].sum(axis=1)\n",
    "\n",
    "magical_artifacts_expanded.loc[magical_artifacts_expanded['total_attributes_value'].idxmax()]"
   ]
  },
  {
   "cell_type": "markdown",
   "id": "b6a0d0bd",
   "metadata": {},
   "source": [
    "### Question 15.5: Find the top 3 categories with the highest variance in \"enchantment\" attribute."
   ]
  },
  {
   "cell_type": "code",
   "execution_count": 97,
   "id": "ee1e1ac1",
   "metadata": {},
   "outputs": [
    {
     "data": {
      "text/plain": [
       "category\n",
       "Scrolls    1989.2\n",
       "Potions    1082.0\n",
       "Rings       777.3\n",
       "Name: enchantment, dtype: float64"
      ]
     },
     "execution_count": 97,
     "metadata": {},
     "output_type": "execute_result"
    }
   ],
   "source": [
    "enchantment_variance_by_category = magical_artifacts_expanded.groupby('category')['enchantment'].var()\n",
    "\n",
    "enchantment_variance_by_category.sort_values(ascending=False).head(3)"
   ]
  },
  {
   "cell_type": "markdown",
   "id": "de14f4b2",
   "metadata": {},
   "source": [
    "## Q16 - Real-time Data Rush <a class=\"anchor\" id=\"chapter16\"></a>\n",
    "\n",
    "Question: Welcome to Real-time Data Rush! You are given a dataset of magical creatures and their real-time activities. Each creature performs various activities with different durations throughout the day. Your task is to analyze this time-based data to answer the following questions:\n",
    "\n",
    "1. Calculate the total duration of activities for each creature.\n",
    "2. Determine the creature with the longest single activity duration.\n",
    "3. Identify the most common activity performed by each creature.\n",
    "4. Calculate the average activity duration for each type of activity across all creatures.\n",
    "5. Find the top 3 creatures with the highest average activity duration.\n",
    "\n",
    "Datasets:\n",
    "\n",
    "creature_activities: Contains columns (creature_id, creature_name, activity, duration), where activity is the type of activity and duration is the time spent on that activity in minutes."
   ]
  },
  {
   "cell_type": "code",
   "execution_count": 98,
   "id": "15ac84a9",
   "metadata": {},
   "outputs": [
    {
     "name": "stdout",
     "output_type": "stream",
     "text": [
      "Creature Activities DataFrame:\n",
      "   creature_id creature_name          activity  duration\n",
      "0            1         Frodo     Spell Casting        55\n",
      "1            1         Frodo     Spell Casting        81\n",
      "2            1         Frodo     Potion Making        34\n",
      "3            1         Frodo    Herb Gathering        83\n",
      "4            1         Frodo  Treasure Hunting        40\n"
     ]
    }
   ],
   "source": [
    "# Seed for reproducibility\n",
    "np.random.seed(1212)\n",
    "\n",
    "# Generate synthetic data\n",
    "creature_ids = np.arange(1, 11)\n",
    "creature_names = ['Frodo', 'Gandalf', 'Hermione', 'Legolas', 'Bilbo', 'Galadriel', 'Dumbledore', 'Gimli', 'Harry', 'Aragorn']\n",
    "activities = ['Flying', 'Potion Making', 'Spell Casting', 'Herb Gathering', 'Treasure Hunting']\n",
    "durations = np.arange(1, 121)  # Durations from 1 to 120 minutes\n",
    "\n",
    "data = []\n",
    "for creature_id, creature_name in zip(creature_ids, creature_names):\n",
    "    num_activities = np.random.randint(5, 15)\n",
    "    for _ in range(num_activities):\n",
    "        activity = np.random.choice(activities)\n",
    "        duration = np.random.choice(durations)\n",
    "        data.append([creature_id, creature_name, activity, duration])\n",
    "\n",
    "# Create DataFrame\n",
    "creature_activities = pd.DataFrame(data, columns=['creature_id', 'creature_name', 'activity', 'duration'])\n",
    "\n",
    "# Display the dataset\n",
    "print(\"Creature Activities DataFrame:\")\n",
    "print(creature_activities.head())"
   ]
  },
  {
   "cell_type": "markdown",
   "id": "85e966b7",
   "metadata": {},
   "source": [
    "### Question 16.1: Calculate the total duration of activities for each creature."
   ]
  },
  {
   "cell_type": "code",
   "execution_count": 99,
   "id": "34b57f6d",
   "metadata": {},
   "outputs": [
    {
     "data": {
      "text/plain": [
       "creature_name\n",
       "Aragorn       324\n",
       "Bilbo         387\n",
       "Dumbledore    330\n",
       "Frodo         758\n",
       "Galadriel     535\n",
       "Gandalf       188\n",
       "Gimli         533\n",
       "Harry         370\n",
       "Hermione      611\n",
       "Legolas       344\n",
       "Name: duration, dtype: int32"
      ]
     },
     "execution_count": 99,
     "metadata": {},
     "output_type": "execute_result"
    }
   ],
   "source": [
    "creature_activities.groupby('creature_name')['duration'].sum()"
   ]
  },
  {
   "cell_type": "markdown",
   "id": "ddd0e360",
   "metadata": {},
   "source": [
    "### Question 16.2: Determine the creature with the longest single activity duration."
   ]
  },
  {
   "cell_type": "code",
   "execution_count": 100,
   "id": "b697a8f8",
   "metadata": {},
   "outputs": [
    {
     "data": {
      "text/plain": [
       "creature_id                  7\n",
       "creature_name       Dumbledore\n",
       "activity         Potion Making\n",
       "duration                   116\n",
       "Name: 50, dtype: object"
      ]
     },
     "execution_count": 100,
     "metadata": {},
     "output_type": "execute_result"
    }
   ],
   "source": [
    "creature_activities.loc[creature_activities['duration'].idxmax()]"
   ]
  },
  {
   "cell_type": "markdown",
   "id": "42495aad",
   "metadata": {},
   "source": [
    "### Question 16.3: Identify the most common activity performed by each creature."
   ]
  },
  {
   "cell_type": "code",
   "execution_count": 101,
   "id": "fdbf342c",
   "metadata": {},
   "outputs": [
    {
     "data": {
      "text/html": [
       "<div>\n",
       "<style scoped>\n",
       "    .dataframe tbody tr th:only-of-type {\n",
       "        vertical-align: middle;\n",
       "    }\n",
       "\n",
       "    .dataframe tbody tr th {\n",
       "        vertical-align: top;\n",
       "    }\n",
       "\n",
       "    .dataframe thead th {\n",
       "        text-align: right;\n",
       "    }\n",
       "</style>\n",
       "<table border=\"1\" class=\"dataframe\">\n",
       "  <thead>\n",
       "    <tr style=\"text-align: right;\">\n",
       "      <th></th>\n",
       "      <th>creature_name</th>\n",
       "      <th>activity</th>\n",
       "      <th>count</th>\n",
       "    </tr>\n",
       "  </thead>\n",
       "  <tbody>\n",
       "    <tr>\n",
       "      <th>3</th>\n",
       "      <td>Aragorn</td>\n",
       "      <td>Treasure Hunting</td>\n",
       "      <td>3</td>\n",
       "    </tr>\n",
       "    <tr>\n",
       "      <th>5</th>\n",
       "      <td>Bilbo</td>\n",
       "      <td>Potion Making</td>\n",
       "      <td>3</td>\n",
       "    </tr>\n",
       "    <tr>\n",
       "      <th>8</th>\n",
       "      <td>Dumbledore</td>\n",
       "      <td>Flying</td>\n",
       "      <td>2</td>\n",
       "    </tr>\n",
       "    <tr>\n",
       "      <th>14</th>\n",
       "      <td>Frodo</td>\n",
       "      <td>Spell Casting</td>\n",
       "      <td>4</td>\n",
       "    </tr>\n",
       "    <tr>\n",
       "      <th>16</th>\n",
       "      <td>Galadriel</td>\n",
       "      <td>Flying</td>\n",
       "      <td>2</td>\n",
       "    </tr>\n",
       "    <tr>\n",
       "      <th>21</th>\n",
       "      <td>Gandalf</td>\n",
       "      <td>Flying</td>\n",
       "      <td>4</td>\n",
       "    </tr>\n",
       "    <tr>\n",
       "      <th>24</th>\n",
       "      <td>Gimli</td>\n",
       "      <td>Herb Gathering</td>\n",
       "      <td>3</td>\n",
       "    </tr>\n",
       "    <tr>\n",
       "      <th>32</th>\n",
       "      <td>Harry</td>\n",
       "      <td>Treasure Hunting</td>\n",
       "      <td>3</td>\n",
       "    </tr>\n",
       "    <tr>\n",
       "      <th>33</th>\n",
       "      <td>Hermione</td>\n",
       "      <td>Flying</td>\n",
       "      <td>3</td>\n",
       "    </tr>\n",
       "    <tr>\n",
       "      <th>40</th>\n",
       "      <td>Legolas</td>\n",
       "      <td>Treasure Hunting</td>\n",
       "      <td>3</td>\n",
       "    </tr>\n",
       "  </tbody>\n",
       "</table>\n",
       "</div>"
      ],
      "text/plain": [
       "   creature_name          activity  count\n",
       "3        Aragorn  Treasure Hunting      3\n",
       "5          Bilbo     Potion Making      3\n",
       "8     Dumbledore            Flying      2\n",
       "14         Frodo     Spell Casting      4\n",
       "16     Galadriel            Flying      2\n",
       "21       Gandalf            Flying      4\n",
       "24         Gimli    Herb Gathering      3\n",
       "32         Harry  Treasure Hunting      3\n",
       "33      Hermione            Flying      3\n",
       "40       Legolas  Treasure Hunting      3"
      ]
     },
     "execution_count": 101,
     "metadata": {},
     "output_type": "execute_result"
    }
   ],
   "source": [
    "activity_counts = creature_activities.groupby(['creature_name', 'activity']).size().reset_index(name='count')\n",
    "\n",
    "activity_counts.loc[activity_counts.groupby('creature_name')['count'].idxmax()]"
   ]
  },
  {
   "cell_type": "markdown",
   "id": "fe1d2f9d",
   "metadata": {},
   "source": [
    "### Question 16.4: Calculate the average activity duration for each type of activity across all creatures."
   ]
  },
  {
   "cell_type": "code",
   "execution_count": 102,
   "id": "18b01b6f",
   "metadata": {},
   "outputs": [
    {
     "data": {
      "text/html": [
       "<div>\n",
       "<style scoped>\n",
       "    .dataframe tbody tr th:only-of-type {\n",
       "        vertical-align: middle;\n",
       "    }\n",
       "\n",
       "    .dataframe tbody tr th {\n",
       "        vertical-align: top;\n",
       "    }\n",
       "\n",
       "    .dataframe thead th {\n",
       "        text-align: right;\n",
       "    }\n",
       "</style>\n",
       "<table border=\"1\" class=\"dataframe\">\n",
       "  <thead>\n",
       "    <tr style=\"text-align: right;\">\n",
       "      <th></th>\n",
       "      <th>activity</th>\n",
       "      <th>avg_duration</th>\n",
       "    </tr>\n",
       "  </thead>\n",
       "  <tbody>\n",
       "    <tr>\n",
       "      <th>0</th>\n",
       "      <td>Flying</td>\n",
       "      <td>47.388889</td>\n",
       "    </tr>\n",
       "    <tr>\n",
       "      <th>1</th>\n",
       "      <td>Herb Gathering</td>\n",
       "      <td>48.000000</td>\n",
       "    </tr>\n",
       "    <tr>\n",
       "      <th>2</th>\n",
       "      <td>Potion Making</td>\n",
       "      <td>61.294118</td>\n",
       "    </tr>\n",
       "    <tr>\n",
       "      <th>3</th>\n",
       "      <td>Spell Casting</td>\n",
       "      <td>68.454545</td>\n",
       "    </tr>\n",
       "    <tr>\n",
       "      <th>4</th>\n",
       "      <td>Treasure Hunting</td>\n",
       "      <td>55.789474</td>\n",
       "    </tr>\n",
       "  </tbody>\n",
       "</table>\n",
       "</div>"
      ],
      "text/plain": [
       "           activity  avg_duration\n",
       "0            Flying     47.388889\n",
       "1    Herb Gathering     48.000000\n",
       "2     Potion Making     61.294118\n",
       "3     Spell Casting     68.454545\n",
       "4  Treasure Hunting     55.789474"
      ]
     },
     "execution_count": 102,
     "metadata": {},
     "output_type": "execute_result"
    }
   ],
   "source": [
    "creature_activities.groupby('activity')['duration'].mean().reset_index(name='avg_duration')"
   ]
  },
  {
   "cell_type": "markdown",
   "id": "2a5c9207",
   "metadata": {},
   "source": [
    "### Question 16.5: Find the top 3 creatures with the highest average activity duration."
   ]
  },
  {
   "cell_type": "code",
   "execution_count": 103,
   "id": "8f38b669",
   "metadata": {},
   "outputs": [
    {
     "data": {
      "text/plain": [
       "creature_name\n",
       "Hermione      67.888889\n",
       "Galadriel     66.875000\n",
       "Dumbledore    66.000000\n",
       "Name: duration, dtype: float64"
      ]
     },
     "execution_count": 103,
     "metadata": {},
     "output_type": "execute_result"
    }
   ],
   "source": [
    "avg_duration_per_creature = creature_activities.groupby('creature_name')['duration'].mean()\n",
    "\n",
    "avg_duration_per_creature.sort_values(ascending=False).head(3)"
   ]
  },
  {
   "cell_type": "markdown",
   "id": "d67bdc71",
   "metadata": {},
   "source": [
    "## Q17 - Machine Learning Preprocess Pandemonium <a class=\"anchor\" id=\"chapter17\"></a>\n",
    "\n",
    "Question: Welcome to Machine Learning Preprocess Pandemonium! You are given a dataset of magical creatures and their attributes. Your task is to perform various preprocessing steps commonly used in machine learning to answer the following questions:\n",
    "\n",
    "1. Normalize the attributes of the creatures.\n",
    "2. Encode the categorical features of the dataset.\n",
    "3. Identify and handle any missing values.\n",
    "4. Perform feature selection to identify the most important attributes.\n",
    "5. Split the dataset into training and testing sets.\n",
    "\n",
    "Datasets:\n",
    "\n",
    "creature_attributes: Contains columns (creature_id, creature_name, creature_type, magic_power, agility, intelligence, strength, loyalty)."
   ]
  },
  {
   "cell_type": "code",
   "execution_count": 104,
   "id": "3bffcfc0",
   "metadata": {},
   "outputs": [
    {
     "name": "stdout",
     "output_type": "stream",
     "text": [
      "Creature Attributes DataFrame:\n",
      "   creature_id creature_name creature_type  magic_power  agility  \\\n",
      "0            1    Dumbledore        Wizard         52.0       97   \n",
      "1            2         Bilbo           Elf         97.0       64   \n",
      "2            3       Legolas         Human         43.0        5   \n",
      "3            4      Hermione         Dwarf          NaN       17   \n",
      "4            5         Frodo        Hobbit         71.0       73   \n",
      "\n",
      "   intelligence  strength  loyalty  \n",
      "0          64.0        48       75  \n",
      "1          70.0        60       76  \n",
      "2          84.0         6       77  \n",
      "3          61.0        54       48  \n",
      "4          81.0        49       71  \n"
     ]
    }
   ],
   "source": [
    "from sklearn.preprocessing import StandardScaler, OneHotEncoder\n",
    "from sklearn.impute import SimpleImputer\n",
    "from sklearn.feature_selection import SelectKBest, f_classif\n",
    "from sklearn.model_selection import train_test_split\n",
    "\n",
    "# Seed for reproducibility\n",
    "np.random.seed(1313)\n",
    "\n",
    "# Generate synthetic data\n",
    "creature_ids = np.arange(1, 21)\n",
    "creature_names = ['Frodo', 'Gandalf', 'Hermione', 'Legolas', 'Bilbo', 'Galadriel', 'Dumbledore', 'Gimli', 'Harry', 'Aragorn']\n",
    "creature_types = ['Wizard', 'Elf', 'Hobbit', 'Human', 'Dwarf']\n",
    "attributes = {\n",
    "    'magic_power': np.random.randint(1, 101, size=20),\n",
    "    'agility': np.random.randint(1, 101, size=20),\n",
    "    'intelligence': np.random.randint(1, 101, size=20),\n",
    "    'strength': np.random.randint(1, 101, size=20),\n",
    "    'loyalty': np.random.randint(1, 101, size=20)\n",
    "}\n",
    "\n",
    "data = []\n",
    "for creature_id in creature_ids:\n",
    "    creature_name = np.random.choice(creature_names)\n",
    "    creature_type = np.random.choice(creature_types)\n",
    "    magic_power = attributes['magic_power'][creature_id - 1]\n",
    "    agility = attributes['agility'][creature_id - 1]\n",
    "    intelligence = attributes['intelligence'][creature_id - 1]\n",
    "    strength = attributes['strength'][creature_id - 1]\n",
    "    loyalty = attributes['loyalty'][creature_id - 1]\n",
    "    data.append([creature_id, creature_name, creature_type, magic_power, agility, intelligence, strength, loyalty])\n",
    "\n",
    "# Introduce some missing values\n",
    "data[3][3] = np.nan\n",
    "data[7][5] = np.nan\n",
    "\n",
    "# Create DataFrame\n",
    "creature_attributes = pd.DataFrame(data, columns=['creature_id', 'creature_name', 'creature_type', 'magic_power', 'agility', 'intelligence', 'strength', 'loyalty'])\n",
    "\n",
    "# Display the dataset\n",
    "print(\"Creature Attributes DataFrame:\")\n",
    "print(creature_attributes.head())"
   ]
  },
  {
   "cell_type": "markdown",
   "id": "6cf4190c",
   "metadata": {},
   "source": [
    "### Question 17.1: Normalize the attributes of the creatures."
   ]
  },
  {
   "cell_type": "code",
   "execution_count": 105,
   "id": "a48dd1bd",
   "metadata": {},
   "outputs": [
    {
     "data": {
      "text/html": [
       "<div>\n",
       "<style scoped>\n",
       "    .dataframe tbody tr th:only-of-type {\n",
       "        vertical-align: middle;\n",
       "    }\n",
       "\n",
       "    .dataframe tbody tr th {\n",
       "        vertical-align: top;\n",
       "    }\n",
       "\n",
       "    .dataframe thead th {\n",
       "        text-align: right;\n",
       "    }\n",
       "</style>\n",
       "<table border=\"1\" class=\"dataframe\">\n",
       "  <thead>\n",
       "    <tr style=\"text-align: right;\">\n",
       "      <th></th>\n",
       "      <th>magic_power</th>\n",
       "      <th>agility</th>\n",
       "      <th>intelligence</th>\n",
       "      <th>strength</th>\n",
       "      <th>loyalty</th>\n",
       "    </tr>\n",
       "  </thead>\n",
       "  <tbody>\n",
       "    <tr>\n",
       "      <th>0</th>\n",
       "      <td>0.076227</td>\n",
       "      <td>1.546702</td>\n",
       "      <td>-0.027481</td>\n",
       "      <td>-0.052329</td>\n",
       "      <td>0.337526</td>\n",
       "    </tr>\n",
       "    <tr>\n",
       "      <th>1</th>\n",
       "      <td>1.557458</td>\n",
       "      <td>0.429827</td>\n",
       "      <td>0.213504</td>\n",
       "      <td>0.328245</td>\n",
       "      <td>0.375450</td>\n",
       "    </tr>\n",
       "    <tr>\n",
       "      <th>2</th>\n",
       "      <td>-0.220019</td>\n",
       "      <td>-1.567009</td>\n",
       "      <td>0.775803</td>\n",
       "      <td>-1.384336</td>\n",
       "      <td>0.413374</td>\n",
       "    </tr>\n",
       "    <tr>\n",
       "      <th>3</th>\n",
       "      <td>NaN</td>\n",
       "      <td>-1.160872</td>\n",
       "      <td>-0.147973</td>\n",
       "      <td>0.137958</td>\n",
       "      <td>-0.686429</td>\n",
       "    </tr>\n",
       "    <tr>\n",
       "      <th>4</th>\n",
       "      <td>0.701636</td>\n",
       "      <td>0.734430</td>\n",
       "      <td>0.655311</td>\n",
       "      <td>-0.020614</td>\n",
       "      <td>0.185829</td>\n",
       "    </tr>\n",
       "    <tr>\n",
       "      <th>5</th>\n",
       "      <td>0.899133</td>\n",
       "      <td>1.343634</td>\n",
       "      <td>1.016788</td>\n",
       "      <td>-0.306044</td>\n",
       "      <td>0.413374</td>\n",
       "    </tr>\n",
       "    <tr>\n",
       "      <th>6</th>\n",
       "      <td>1.327044</td>\n",
       "      <td>-1.228562</td>\n",
       "      <td>-0.388959</td>\n",
       "      <td>-1.447764</td>\n",
       "      <td>1.096011</td>\n",
       "    </tr>\n",
       "    <tr>\n",
       "      <th>7</th>\n",
       "      <td>-1.339171</td>\n",
       "      <td>-0.551668</td>\n",
       "      <td>NaN</td>\n",
       "      <td>-1.225763</td>\n",
       "      <td>-2.393020</td>\n",
       "    </tr>\n",
       "    <tr>\n",
       "      <th>8</th>\n",
       "      <td>-1.306255</td>\n",
       "      <td>1.039032</td>\n",
       "      <td>1.137281</td>\n",
       "      <td>-1.162334</td>\n",
       "      <td>0.337526</td>\n",
       "    </tr>\n",
       "    <tr>\n",
       "      <th>9</th>\n",
       "      <td>-1.108758</td>\n",
       "      <td>-0.043998</td>\n",
       "      <td>-0.308630</td>\n",
       "      <td>1.533393</td>\n",
       "      <td>1.096011</td>\n",
       "    </tr>\n",
       "    <tr>\n",
       "      <th>10</th>\n",
       "      <td>-0.417517</td>\n",
       "      <td>-1.533164</td>\n",
       "      <td>-2.156183</td>\n",
       "      <td>1.501679</td>\n",
       "      <td>0.868465</td>\n",
       "    </tr>\n",
       "    <tr>\n",
       "      <th>11</th>\n",
       "      <td>0.668719</td>\n",
       "      <td>0.666740</td>\n",
       "      <td>-0.228302</td>\n",
       "      <td>1.216249</td>\n",
       "      <td>1.096011</td>\n",
       "    </tr>\n",
       "    <tr>\n",
       "      <th>12</th>\n",
       "      <td>-1.075841</td>\n",
       "      <td>0.328293</td>\n",
       "      <td>1.217609</td>\n",
       "      <td>-0.179187</td>\n",
       "      <td>-1.293217</td>\n",
       "    </tr>\n",
       "    <tr>\n",
       "      <th>13</th>\n",
       "      <td>0.043311</td>\n",
       "      <td>-0.382445</td>\n",
       "      <td>-1.553720</td>\n",
       "      <td>-0.242616</td>\n",
       "      <td>0.185829</td>\n",
       "    </tr>\n",
       "    <tr>\n",
       "      <th>14</th>\n",
       "      <td>0.734552</td>\n",
       "      <td>0.023691</td>\n",
       "      <td>-0.830765</td>\n",
       "      <td>1.374821</td>\n",
       "      <td>-2.430944</td>\n",
       "    </tr>\n",
       "    <tr>\n",
       "      <th>15</th>\n",
       "      <td>0.405389</td>\n",
       "      <td>0.362138</td>\n",
       "      <td>1.338102</td>\n",
       "      <td>-1.162334</td>\n",
       "      <td>-0.193414</td>\n",
       "    </tr>\n",
       "    <tr>\n",
       "      <th>16</th>\n",
       "      <td>1.359960</td>\n",
       "      <td>-0.280911</td>\n",
       "      <td>0.012683</td>\n",
       "      <td>0.962533</td>\n",
       "      <td>-0.420959</td>\n",
       "    </tr>\n",
       "    <tr>\n",
       "      <th>17</th>\n",
       "      <td>0.537054</td>\n",
       "      <td>1.445168</td>\n",
       "      <td>-1.634049</td>\n",
       "      <td>-0.496331</td>\n",
       "      <td>-0.193414</td>\n",
       "    </tr>\n",
       "    <tr>\n",
       "      <th>18</th>\n",
       "      <td>-1.602501</td>\n",
       "      <td>-1.668543</td>\n",
       "      <td>1.217609</td>\n",
       "      <td>1.343107</td>\n",
       "      <td>0.375450</td>\n",
       "    </tr>\n",
       "    <tr>\n",
       "      <th>19</th>\n",
       "      <td>-1.240423</td>\n",
       "      <td>0.497517</td>\n",
       "      <td>-0.308630</td>\n",
       "      <td>-0.718332</td>\n",
       "      <td>0.830541</td>\n",
       "    </tr>\n",
       "  </tbody>\n",
       "</table>\n",
       "</div>"
      ],
      "text/plain": [
       "    magic_power   agility  intelligence  strength   loyalty\n",
       "0      0.076227  1.546702     -0.027481 -0.052329  0.337526\n",
       "1      1.557458  0.429827      0.213504  0.328245  0.375450\n",
       "2     -0.220019 -1.567009      0.775803 -1.384336  0.413374\n",
       "3           NaN -1.160872     -0.147973  0.137958 -0.686429\n",
       "4      0.701636  0.734430      0.655311 -0.020614  0.185829\n",
       "5      0.899133  1.343634      1.016788 -0.306044  0.413374\n",
       "6      1.327044 -1.228562     -0.388959 -1.447764  1.096011\n",
       "7     -1.339171 -0.551668           NaN -1.225763 -2.393020\n",
       "8     -1.306255  1.039032      1.137281 -1.162334  0.337526\n",
       "9     -1.108758 -0.043998     -0.308630  1.533393  1.096011\n",
       "10    -0.417517 -1.533164     -2.156183  1.501679  0.868465\n",
       "11     0.668719  0.666740     -0.228302  1.216249  1.096011\n",
       "12    -1.075841  0.328293      1.217609 -0.179187 -1.293217\n",
       "13     0.043311 -0.382445     -1.553720 -0.242616  0.185829\n",
       "14     0.734552  0.023691     -0.830765  1.374821 -2.430944\n",
       "15     0.405389  0.362138      1.338102 -1.162334 -0.193414\n",
       "16     1.359960 -0.280911      0.012683  0.962533 -0.420959\n",
       "17     0.537054  1.445168     -1.634049 -0.496331 -0.193414\n",
       "18    -1.602501 -1.668543      1.217609  1.343107  0.375450\n",
       "19    -1.240423  0.497517     -0.308630 -0.718332  0.830541"
      ]
     },
     "execution_count": 105,
     "metadata": {},
     "output_type": "execute_result"
    }
   ],
   "source": [
    "# this on the knowledge that there are no missing values in the dataframe\n",
    "attributes_columns = ['magic_power', 'agility', 'intelligence', 'strength', 'loyalty']\n",
    "\n",
    "# normalize attributes\n",
    "scaler = StandardScaler()\n",
    "normalized_attributes = scaler.fit_transform(creature_attributes[attributes_columns])\n",
    "\n",
    "# turn back into dataframe\n",
    "normalized_attributes_df = pd.DataFrame(normalized_attributes, columns=attributes_columns)\n",
    "\n",
    "normalized_attributes_df"
   ]
  },
  {
   "cell_type": "markdown",
   "id": "46d6f64b",
   "metadata": {},
   "source": [
    "### Question 17.2: Encode the categorical features of the dataset."
   ]
  },
  {
   "cell_type": "code",
   "execution_count": 106,
   "id": "8d7fdf0a",
   "metadata": {},
   "outputs": [
    {
     "data": {
      "text/html": [
       "<div>\n",
       "<style scoped>\n",
       "    .dataframe tbody tr th:only-of-type {\n",
       "        vertical-align: middle;\n",
       "    }\n",
       "\n",
       "    .dataframe tbody tr th {\n",
       "        vertical-align: top;\n",
       "    }\n",
       "\n",
       "    .dataframe thead th {\n",
       "        text-align: right;\n",
       "    }\n",
       "</style>\n",
       "<table border=\"1\" class=\"dataframe\">\n",
       "  <thead>\n",
       "    <tr style=\"text-align: right;\">\n",
       "      <th></th>\n",
       "      <th>creature_name_Dumbledore</th>\n",
       "      <th>creature_name_Frodo</th>\n",
       "      <th>creature_name_Galadriel</th>\n",
       "      <th>creature_name_Gandalf</th>\n",
       "      <th>creature_name_Harry</th>\n",
       "      <th>creature_name_Hermione</th>\n",
       "      <th>creature_name_Legolas</th>\n",
       "      <th>creature_type_Elf</th>\n",
       "      <th>creature_type_Hobbit</th>\n",
       "      <th>creature_type_Human</th>\n",
       "      <th>creature_type_Wizard</th>\n",
       "    </tr>\n",
       "  </thead>\n",
       "  <tbody>\n",
       "    <tr>\n",
       "      <th>0</th>\n",
       "      <td>1.0</td>\n",
       "      <td>0.0</td>\n",
       "      <td>0.0</td>\n",
       "      <td>0.0</td>\n",
       "      <td>0.0</td>\n",
       "      <td>0.0</td>\n",
       "      <td>0.0</td>\n",
       "      <td>0.0</td>\n",
       "      <td>0.0</td>\n",
       "      <td>0.0</td>\n",
       "      <td>1.0</td>\n",
       "    </tr>\n",
       "    <tr>\n",
       "      <th>1</th>\n",
       "      <td>0.0</td>\n",
       "      <td>0.0</td>\n",
       "      <td>0.0</td>\n",
       "      <td>0.0</td>\n",
       "      <td>0.0</td>\n",
       "      <td>0.0</td>\n",
       "      <td>0.0</td>\n",
       "      <td>1.0</td>\n",
       "      <td>0.0</td>\n",
       "      <td>0.0</td>\n",
       "      <td>0.0</td>\n",
       "    </tr>\n",
       "    <tr>\n",
       "      <th>2</th>\n",
       "      <td>0.0</td>\n",
       "      <td>0.0</td>\n",
       "      <td>0.0</td>\n",
       "      <td>0.0</td>\n",
       "      <td>0.0</td>\n",
       "      <td>0.0</td>\n",
       "      <td>1.0</td>\n",
       "      <td>0.0</td>\n",
       "      <td>0.0</td>\n",
       "      <td>1.0</td>\n",
       "      <td>0.0</td>\n",
       "    </tr>\n",
       "    <tr>\n",
       "      <th>3</th>\n",
       "      <td>0.0</td>\n",
       "      <td>0.0</td>\n",
       "      <td>0.0</td>\n",
       "      <td>0.0</td>\n",
       "      <td>0.0</td>\n",
       "      <td>1.0</td>\n",
       "      <td>0.0</td>\n",
       "      <td>0.0</td>\n",
       "      <td>0.0</td>\n",
       "      <td>0.0</td>\n",
       "      <td>0.0</td>\n",
       "    </tr>\n",
       "    <tr>\n",
       "      <th>4</th>\n",
       "      <td>0.0</td>\n",
       "      <td>1.0</td>\n",
       "      <td>0.0</td>\n",
       "      <td>0.0</td>\n",
       "      <td>0.0</td>\n",
       "      <td>0.0</td>\n",
       "      <td>0.0</td>\n",
       "      <td>0.0</td>\n",
       "      <td>1.0</td>\n",
       "      <td>0.0</td>\n",
       "      <td>0.0</td>\n",
       "    </tr>\n",
       "  </tbody>\n",
       "</table>\n",
       "</div>"
      ],
      "text/plain": [
       "   creature_name_Dumbledore  creature_name_Frodo  creature_name_Galadriel  \\\n",
       "0                       1.0                  0.0                      0.0   \n",
       "1                       0.0                  0.0                      0.0   \n",
       "2                       0.0                  0.0                      0.0   \n",
       "3                       0.0                  0.0                      0.0   \n",
       "4                       0.0                  1.0                      0.0   \n",
       "\n",
       "   creature_name_Gandalf  creature_name_Harry  creature_name_Hermione  \\\n",
       "0                    0.0                  0.0                     0.0   \n",
       "1                    0.0                  0.0                     0.0   \n",
       "2                    0.0                  0.0                     0.0   \n",
       "3                    0.0                  0.0                     1.0   \n",
       "4                    0.0                  0.0                     0.0   \n",
       "\n",
       "   creature_name_Legolas  creature_type_Elf  creature_type_Hobbit  \\\n",
       "0                    0.0                0.0                   0.0   \n",
       "1                    0.0                1.0                   0.0   \n",
       "2                    1.0                0.0                   0.0   \n",
       "3                    0.0                0.0                   0.0   \n",
       "4                    0.0                0.0                   1.0   \n",
       "\n",
       "   creature_type_Human  creature_type_Wizard  \n",
       "0                  0.0                   1.0  \n",
       "1                  0.0                   0.0  \n",
       "2                  1.0                   0.0  \n",
       "3                  0.0                   0.0  \n",
       "4                  0.0                   0.0  "
      ]
     },
     "execution_count": 106,
     "metadata": {},
     "output_type": "execute_result"
    }
   ],
   "source": [
    "categorical_columns = ['creature_name', 'creature_type']\n",
    "\n",
    "encoder = OneHotEncoder(sparse_output=False, drop='first')\n",
    "\n",
    "encoded_categorical_data = encoder.fit_transform(creature_attributes[categorical_columns])\n",
    "\n",
    "encoded_categorical_df = pd.DataFrame(encoded_categorical_data, columns=encoder.get_feature_names_out(categorical_columns))\n",
    "\n",
    "encoded_categorical_df.head()"
   ]
  },
  {
   "cell_type": "markdown",
   "id": "01023b39",
   "metadata": {},
   "source": [
    "### Question 17.3: Encode the categorical features of the dataset."
   ]
  },
  {
   "cell_type": "code",
   "execution_count": 107,
   "id": "6038c3b6",
   "metadata": {},
   "outputs": [
    {
     "data": {
      "text/plain": [
       "creature_id      0\n",
       "creature_name    0\n",
       "creature_type    0\n",
       "magic_power      1\n",
       "agility          0\n",
       "intelligence     1\n",
       "strength         0\n",
       "loyalty          0\n",
       "dtype: int64"
      ]
     },
     "execution_count": 107,
     "metadata": {},
     "output_type": "execute_result"
    }
   ],
   "source": [
    "creature_attributes.isnull().sum()"
   ]
  },
  {
   "cell_type": "code",
   "execution_count": 108,
   "id": "d6c81f4e",
   "metadata": {},
   "outputs": [
    {
     "data": {
      "text/plain": [
       "creature_id      0\n",
       "creature_name    0\n",
       "creature_type    0\n",
       "magic_power      0\n",
       "agility          0\n",
       "intelligence     0\n",
       "strength         0\n",
       "loyalty          0\n",
       "dtype: int64"
      ]
     },
     "execution_count": 108,
     "metadata": {},
     "output_type": "execute_result"
    }
   ],
   "source": [
    "imputer = SimpleImputer(strategy='mean')\n",
    "\n",
    "creature_attributes[['magic_power', 'intelligence']] = imputer.fit_transform(creature_attributes[['magic_power', 'intelligence']])\n",
    "\n",
    "creature_attributes.isnull().sum()"
   ]
  },
  {
   "cell_type": "markdown",
   "id": "a32a47a5",
   "metadata": {},
   "source": [
    "### Question 17.4: Perform feature selection to identify the most important attributes."
   ]
  },
  {
   "cell_type": "code",
   "execution_count": 109,
   "id": "9a6a6cd0",
   "metadata": {},
   "outputs": [
    {
     "data": {
      "text/html": [
       "<div>\n",
       "<style scoped>\n",
       "    .dataframe tbody tr th:only-of-type {\n",
       "        vertical-align: middle;\n",
       "    }\n",
       "\n",
       "    .dataframe tbody tr th {\n",
       "        vertical-align: top;\n",
       "    }\n",
       "\n",
       "    .dataframe thead th {\n",
       "        text-align: right;\n",
       "    }\n",
       "</style>\n",
       "<table border=\"1\" class=\"dataframe\">\n",
       "  <thead>\n",
       "    <tr style=\"text-align: right;\">\n",
       "      <th></th>\n",
       "      <th>Feature</th>\n",
       "      <th>Score</th>\n",
       "    </tr>\n",
       "  </thead>\n",
       "  <tbody>\n",
       "    <tr>\n",
       "      <th>3</th>\n",
       "      <td>strength</td>\n",
       "      <td>2.240180</td>\n",
       "    </tr>\n",
       "    <tr>\n",
       "      <th>2</th>\n",
       "      <td>intelligence</td>\n",
       "      <td>1.452092</td>\n",
       "    </tr>\n",
       "    <tr>\n",
       "      <th>0</th>\n",
       "      <td>magic_power</td>\n",
       "      <td>1.349636</td>\n",
       "    </tr>\n",
       "    <tr>\n",
       "      <th>1</th>\n",
       "      <td>agility</td>\n",
       "      <td>0.281336</td>\n",
       "    </tr>\n",
       "    <tr>\n",
       "      <th>4</th>\n",
       "      <td>loyalty</td>\n",
       "      <td>0.155036</td>\n",
       "    </tr>\n",
       "  </tbody>\n",
       "</table>\n",
       "</div>"
      ],
      "text/plain": [
       "        Feature     Score\n",
       "3      strength  2.240180\n",
       "2  intelligence  1.452092\n",
       "0   magic_power  1.349636\n",
       "1       agility  0.281336\n",
       "4       loyalty  0.155036"
      ]
     },
     "execution_count": 109,
     "metadata": {},
     "output_type": "execute_result"
    }
   ],
   "source": [
    "from sklearn.preprocessing import LabelEncoder\n",
    "\n",
    "features = ['magic_power', 'agility', 'intelligence', 'strength', 'loyalty']\n",
    "\n",
    "label_encoder = LabelEncoder()\n",
    "encoded_target = label_encoder.fit_transform(creature_attributes['creature_type'])\n",
    "\n",
    "k_best_selector = SelectKBest(score_func=f_classif, k='all')\n",
    "\n",
    "k_best_selector.fit(creature_attributes[features], encoded_target)\n",
    "\n",
    "feature_scores = k_best_selector.scores_\n",
    "\n",
    "feature_importance_df = pd.DataFrame({\n",
    "    'Feature': features,\n",
    "    'Score': feature_scores\n",
    "}).sort_values(by='Score', ascending=False)\n",
    "\n",
    "feature_importance_df"
   ]
  },
  {
   "cell_type": "markdown",
   "id": "df0a69c6",
   "metadata": {},
   "source": [
    "### Question 17.5: Split the dataset into training and testing sets."
   ]
  },
  {
   "cell_type": "code",
   "execution_count": 110,
   "id": "0ed53ae9",
   "metadata": {},
   "outputs": [],
   "source": [
    "from sklearn.model_selection import train_test_split\n",
    "\n",
    "X_train, X_test, Y_train, Y_test = train_test_split(\n",
    "    creature_attributes[features],\n",
    "    encoded_target,\n",
    "    test_size=0.2,\n",
    "    random_state=175\n",
    ")"
   ]
  },
  {
   "cell_type": "markdown",
   "id": "29653e06",
   "metadata": {},
   "source": [
    "## Q18 - Text Tango with Pandas <a class=\"anchor\" id=\"chapter18\"></a>\n",
    "\n",
    "Question: Welcome to Text Tango with Pandas! You are given a dataset of magical creatures and their quirky catchphrases. Each creature has a unique set of catchphrases, and your task is to perform various text analysis operations to answer the following questions:\n",
    "\n",
    "1. Count the total number of unique words used by each creature.\n",
    "2. Identify the most common word across all catchphrases.\n",
    "3. Determine the average length of catchphrases for each creature.\n",
    "4. Find the creature with the longest single catchphrase.\n",
    "5. Create a word cloud visualization for the catchphrases of the top 3 creatures with the most unique words.\n",
    "\n",
    "Datasets:\n",
    "\n",
    "creature_catchphrases: Contains columns (creature_id, creature_name, catchphrases), where catchphrases is a list of strings representing the catchphrases."
   ]
  },
  {
   "cell_type": "code",
   "execution_count": 111,
   "id": "483833f3",
   "metadata": {
    "scrolled": true
   },
   "outputs": [
    {
     "name": "stdout",
     "output_type": "stream",
     "text": [
      "Creature Catchphrases DataFrame:\n",
      "   creature_id creature_name  \\\n",
      "0            1         Frodo   \n",
      "1            2       Gandalf   \n",
      "2            3      Hermione   \n",
      "3            4       Legolas   \n",
      "4            5         Bilbo   \n",
      "\n",
      "                                        catchphrases  \n",
      "0  [To infinity and beyond, May the force be with...  \n",
      "1  [Houston, we have a problem, Houston, we have ...  \n",
      "2  [You can't handle the truth, I feel the need, ...  \n",
      "3  [You know nothing, Jon Snow, You know nothing,...  \n",
      "4  [Fly you fools, A wizard is never late, A wiza...  \n"
     ]
    }
   ],
   "source": [
    "# from wordcloud import WordCloud # don't have this library installed\n",
    "\n",
    "# Seed for reproducibility\n",
    "np.random.seed(1414)\n",
    "\n",
    "# Generate synthetic data\n",
    "creature_ids = np.arange(1, 11)\n",
    "creature_names = ['Frodo', 'Gandalf', 'Hermione', 'Legolas', 'Bilbo', 'Galadriel', 'Dumbledore', 'Gimli', 'Harry', 'Aragorn']\n",
    "catchphrases_list = [\n",
    "    [\"A wizard is never late\", \"Fly you fools\", \"You shall not pass\"],\n",
    "    [\"Expecto Patronum\", \"It's Leviosa, not Leviosar\", \"I solemnly swear that I am up to no good\"],\n",
    "    [\"I am not a number, I am a free man\", \"To infinity and beyond\", \"May the force be with you\"],\n",
    "    [\"Winter is coming\", \"You know nothing, Jon Snow\", \"Hold the door\"],\n",
    "    [\"Inconceivable\", \"My name is Inigo Montoya\", \"You killed my father, prepare to die\"],\n",
    "    [\"Hakuna Matata\", \"Just keep swimming\", \"To infinity and beyond\"],\n",
    "    [\"Here's looking at you, kid\", \"I'll be back\", \"Hasta la vista, baby\"],\n",
    "    [\"I see dead people\", \"You can't handle the truth\", \"I feel the need, the need for speed\"],\n",
    "    [\"Houston, we have a problem\", \"You had me at hello\", \"Show me the money\"],\n",
    "    [\"I'm king of the world\", \"Nobody puts Baby in a corner\", \"I am Groot\"]\n",
    "]\n",
    "\n",
    "data = []\n",
    "for creature_id, creature_name in zip(creature_ids, creature_names):\n",
    "    catchphrases = np.random.choice(catchphrases_list[np.random.randint(0, len(catchphrases_list))], np.random.randint(3, 6)).tolist()\n",
    "    data.append([creature_id, creature_name, catchphrases])\n",
    "\n",
    "# Create DataFrame\n",
    "creature_catchphrases = pd.DataFrame(data, columns=['creature_id', 'creature_name', 'catchphrases'])\n",
    "\n",
    "# Display the dataset\n",
    "print(\"Creature Catchphrases DataFrame:\")\n",
    "print(creature_catchphrases.head())"
   ]
  },
  {
   "cell_type": "markdown",
   "id": "0ccd7f79",
   "metadata": {},
   "source": [
    "### Question 18.1: Count the total number of unique words used by each creature."
   ]
  },
  {
   "cell_type": "code",
   "execution_count": 112,
   "id": "7f970723",
   "metadata": {},
   "outputs": [
    {
     "data": {
      "text/html": [
       "<div>\n",
       "<style scoped>\n",
       "    .dataframe tbody tr th:only-of-type {\n",
       "        vertical-align: middle;\n",
       "    }\n",
       "\n",
       "    .dataframe tbody tr th {\n",
       "        vertical-align: top;\n",
       "    }\n",
       "\n",
       "    .dataframe thead th {\n",
       "        text-align: right;\n",
       "    }\n",
       "</style>\n",
       "<table border=\"1\" class=\"dataframe\">\n",
       "  <thead>\n",
       "    <tr style=\"text-align: right;\">\n",
       "      <th></th>\n",
       "      <th>creature_name</th>\n",
       "      <th>unique_word_count</th>\n",
       "    </tr>\n",
       "  </thead>\n",
       "  <tbody>\n",
       "    <tr>\n",
       "      <th>0</th>\n",
       "      <td>Frodo</td>\n",
       "      <td>10</td>\n",
       "    </tr>\n",
       "    <tr>\n",
       "      <th>1</th>\n",
       "      <td>Gandalf</td>\n",
       "      <td>10</td>\n",
       "    </tr>\n",
       "    <tr>\n",
       "      <th>2</th>\n",
       "      <td>Hermione</td>\n",
       "      <td>14</td>\n",
       "    </tr>\n",
       "    <tr>\n",
       "      <th>3</th>\n",
       "      <td>Legolas</td>\n",
       "      <td>5</td>\n",
       "    </tr>\n",
       "    <tr>\n",
       "      <th>4</th>\n",
       "      <td>Bilbo</td>\n",
       "      <td>8</td>\n",
       "    </tr>\n",
       "    <tr>\n",
       "      <th>5</th>\n",
       "      <td>Galadriel</td>\n",
       "      <td>14</td>\n",
       "    </tr>\n",
       "    <tr>\n",
       "      <th>6</th>\n",
       "      <td>Dumbledore</td>\n",
       "      <td>14</td>\n",
       "    </tr>\n",
       "    <tr>\n",
       "      <th>7</th>\n",
       "      <td>Gimli</td>\n",
       "      <td>9</td>\n",
       "    </tr>\n",
       "    <tr>\n",
       "      <th>8</th>\n",
       "      <td>Harry</td>\n",
       "      <td>9</td>\n",
       "    </tr>\n",
       "    <tr>\n",
       "      <th>9</th>\n",
       "      <td>Aragorn</td>\n",
       "      <td>11</td>\n",
       "    </tr>\n",
       "  </tbody>\n",
       "</table>\n",
       "</div>"
      ],
      "text/plain": [
       "  creature_name  unique_word_count\n",
       "0         Frodo                 10\n",
       "1       Gandalf                 10\n",
       "2      Hermione                 14\n",
       "3       Legolas                  5\n",
       "4         Bilbo                  8\n",
       "5     Galadriel                 14\n",
       "6    Dumbledore                 14\n",
       "7         Gimli                  9\n",
       "8         Harry                  9\n",
       "9       Aragorn                 11"
      ]
     },
     "execution_count": 112,
     "metadata": {},
     "output_type": "execute_result"
    }
   ],
   "source": [
    "def count_unique_words(catchphrases):\n",
    "    words = ' '.join(catchphrases).lower().split()\n",
    "    unique_words = set(words)\n",
    "    return len(unique_words)\n",
    "\n",
    "creature_catchphrases['unique_word_count'] = creature_catchphrases['catchphrases'].apply(count_unique_words)\n",
    "\n",
    "creature_catchphrases[['creature_name', 'unique_word_count']]"
   ]
  },
  {
   "cell_type": "markdown",
   "id": "08d4edb5",
   "metadata": {},
   "source": [
    "### Question 18.2: Identify the most common word across all catchphrases."
   ]
  },
  {
   "cell_type": "code",
   "execution_count": 113,
   "id": "fd5572c5",
   "metadata": {},
   "outputs": [
    {
     "name": "stdout",
     "output_type": "stream",
     "text": [
      "Most common word: the, appearences: 16\n"
     ]
    }
   ],
   "source": [
    "def tokenize_catchphrase(catchphrase_list):\n",
    "    words = []\n",
    "    for catchphrase in catchphrase_list:\n",
    "        words.extend(' '.join(catchphrase).lower().split())\n",
    "    return words\n",
    "\n",
    "all_words = tokenize_catchphrase(creature_catchphrases['catchphrases'])\n",
    "\n",
    "word_counter = Counter(all_words)\n",
    "\n",
    "mc_word, mc_count = word_counter.most_common(1)[0]\n",
    "\n",
    "print(f\"Most common word: {mc_word}, appearences: {mc_count}\")"
   ]
  },
  {
   "cell_type": "markdown",
   "id": "0460dd75",
   "metadata": {},
   "source": [
    "### Question 18.3: Determine the average length of catchphrases for each creature."
   ]
  },
  {
   "cell_type": "code",
   "execution_count": 114,
   "id": "d4ebdcfe",
   "metadata": {},
   "outputs": [
    {
     "name": "stdout",
     "output_type": "stream",
     "text": [
      "  creature_name  avg_catchphrase_length\n",
      "0         Frodo                4.666667\n",
      "1       Gandalf                5.000000\n",
      "2      Hermione                5.500000\n",
      "3       Legolas                5.000000\n",
      "4         Bilbo                4.500000\n",
      "5     Galadriel                5.200000\n",
      "6    Dumbledore                6.250000\n",
      "7         Gimli                3.000000\n",
      "8         Harry                4.333333\n",
      "9       Aragorn                8.000000\n"
     ]
    }
   ],
   "source": [
    "def avg_catchphrase_length(catchphrases):\n",
    "    lengths = [len(catchphrase.split()) for catchphrase in catchphrases]\n",
    "    return np.mean(lengths)\n",
    "\n",
    "creature_catchphrases['avg_catchphrase_length'] = creature_catchphrases['catchphrases'].apply(avg_catchphrase_length)\n",
    "print(f\"{creature_catchphrases[['creature_name', 'avg_catchphrase_length']]}\")"
   ]
  },
  {
   "cell_type": "markdown",
   "id": "0d90c1dc",
   "metadata": {},
   "source": [
    "### Question 18.4: Find the creature with the longest single catchphrase."
   ]
  },
  {
   "cell_type": "code",
   "execution_count": 115,
   "id": "700910d3",
   "metadata": {},
   "outputs": [
    {
     "name": "stdout",
     "output_type": "stream",
     "text": [
      "Creature with longest catchphrase: Aragorn\n",
      "Catchphrase : I solemnly swear that I am up to no good\n",
      "Catchphrase length: 10\n"
     ]
    }
   ],
   "source": [
    "def find_longest_catchphrase(catchphrases):\n",
    "    longest_catchphrase = max(catchphrases, key=lambda cp: len(cp.split()))\n",
    "    return longest_catchphrase, len(longest_catchphrase.split())\n",
    "\n",
    "creature_catchphrases['longest_catchphrase'], creature_catchphrases['longest_catchphrase_length'] = zip(\n",
    "    *creature_catchphrases['catchphrases'].apply(find_longest_catchphrase)\n",
    ")\n",
    "\n",
    "longest_single_catchphrase = creature_catchphrases.loc[creature_catchphrases['longest_catchphrase_length'].idxmax()]\n",
    "\n",
    "print(f\"Creature with longest catchphrase: {longest_single_catchphrase['creature_name']}\")\n",
    "print(f\"Catchphrase : {longest_single_catchphrase['longest_catchphrase']}\")\n",
    "print(f\"Catchphrase length: {longest_single_catchphrase['longest_catchphrase_length']}\")"
   ]
  },
  {
   "cell_type": "markdown",
   "id": "085d3c36",
   "metadata": {},
   "source": [
    "## Q19 - Anomaly Detection Drama <a class=\"anchor\" id=\"chapter19\"></a>\n",
    "\n",
    "Question: Welcome to Anomaly Detection Drama! You are given a dataset of enchanted items and their magical properties. Each item has various attributes, and your task is to detect anomalies in this dataset to answer the following questions:\n",
    "\n",
    "1. Identify the items with the highest outlier scores based on their attributes.\n",
    "2. Determine the average value of each attribute for the non-anomalous items.\n",
    "3. Calculate the number of anomalies detected for each item category.\n",
    "4. Find the item with the most extreme outlier score in each category.\n",
    "5. Visualize the distribution of outlier scores across all items using a box plot.\n",
    "\n",
    "Datasets:\n",
    "\n",
    "enchanted_items: Contains columns (item_id, item_name, category, power_level, enchantment_level, durability, rarity, age).\n",
    "Generate synthetic data for the dataset and perform the required analysis to find the answers."
   ]
  },
  {
   "cell_type": "code",
   "execution_count": 116,
   "id": "d7215e32",
   "metadata": {},
   "outputs": [
    {
     "name": "stdout",
     "output_type": "stream",
     "text": [
      "Enchanted Items DataFrame:\n",
      "   item_id item_name category  power_level  enchantment_level  durability  \\\n",
      "0        1    Item_1   Scroll           72                 29          90   \n",
      "1        2    Item_2   Amulet           41                 56           5   \n",
      "2        3    Item_3   Potion           71                 58          51   \n",
      "3        4    Item_4   Amulet           15                 27          55   \n",
      "4        5    Item_5   Amulet           96                 54          23   \n",
      "\n",
      "   rarity  age  \n",
      "0      45   91  \n",
      "1       6   67  \n",
      "2      12   29  \n",
      "3       7   24  \n",
      "4      50   54  \n"
     ]
    }
   ],
   "source": [
    "from sklearn.ensemble import IsolationForest\n",
    "\n",
    "# Seed for reproducibility\n",
    "np.random.seed(1515)\n",
    "\n",
    "# Generate synthetic data\n",
    "item_ids = np.arange(1, 51)\n",
    "item_names = [f'Item_{i}' for i in item_ids]\n",
    "categories = ['Wand', 'Potion', 'Amulet', 'Scroll', 'Ring']\n",
    "attributes = {\n",
    "    'power_level': np.random.randint(1, 101, size=50),\n",
    "    'enchantment_level': np.random.randint(1, 101, size=50),\n",
    "    'durability': np.random.randint(1, 101, size=50),\n",
    "    'rarity': np.random.randint(1, 101, size=50),\n",
    "    'age': np.random.randint(1, 101, size=50)\n",
    "}\n",
    "\n",
    "data = []\n",
    "for item_id, item_name in zip(item_ids, item_names):\n",
    "    category = np.random.choice(categories)\n",
    "    power_level = attributes['power_level'][item_id - 1]\n",
    "    enchantment_level = attributes['enchantment_level'][item_id - 1]\n",
    "    durability = attributes['durability'][item_id - 1]\n",
    "    rarity = attributes['rarity'][item_id - 1]\n",
    "    age = attributes['age'][item_id - 1]\n",
    "    data.append([item_id, item_name, category, power_level, enchantment_level, durability, rarity, age])\n",
    "\n",
    "# Create DataFrame\n",
    "enchanted_items = pd.DataFrame(data, columns=['item_id', 'item_name', 'category', 'power_level', 'enchantment_level', 'durability', 'rarity', 'age'])\n",
    "\n",
    "# Display the dataset\n",
    "print(\"Enchanted Items DataFrame:\")\n",
    "print(enchanted_items.head())"
   ]
  },
  {
   "cell_type": "markdown",
   "id": "c1c93690",
   "metadata": {},
   "source": [
    "### Question 19.1: Identify the items with the highest outlier scores based on their attributes."
   ]
  },
  {
   "cell_type": "code",
   "execution_count": 117,
   "id": "0e6c7b91",
   "metadata": {},
   "outputs": [
    {
     "data": {
      "text/html": [
       "<div>\n",
       "<style scoped>\n",
       "    .dataframe tbody tr th:only-of-type {\n",
       "        vertical-align: middle;\n",
       "    }\n",
       "\n",
       "    .dataframe tbody tr th {\n",
       "        vertical-align: top;\n",
       "    }\n",
       "\n",
       "    .dataframe thead th {\n",
       "        text-align: right;\n",
       "    }\n",
       "</style>\n",
       "<table border=\"1\" class=\"dataframe\">\n",
       "  <thead>\n",
       "    <tr style=\"text-align: right;\">\n",
       "      <th></th>\n",
       "      <th>item_id</th>\n",
       "      <th>item_name</th>\n",
       "      <th>category</th>\n",
       "      <th>power_level</th>\n",
       "      <th>enchantment_level</th>\n",
       "      <th>durability</th>\n",
       "      <th>rarity</th>\n",
       "      <th>age</th>\n",
       "      <th>outlier_score</th>\n",
       "    </tr>\n",
       "  </thead>\n",
       "  <tbody>\n",
       "    <tr>\n",
       "      <th>45</th>\n",
       "      <td>46</td>\n",
       "      <td>Item_46</td>\n",
       "      <td>Ring</td>\n",
       "      <td>99</td>\n",
       "      <td>88</td>\n",
       "      <td>13</td>\n",
       "      <td>29</td>\n",
       "      <td>100</td>\n",
       "      <td>0.076180</td>\n",
       "    </tr>\n",
       "    <tr>\n",
       "      <th>10</th>\n",
       "      <td>11</td>\n",
       "      <td>Item_11</td>\n",
       "      <td>Potion</td>\n",
       "      <td>3</td>\n",
       "      <td>11</td>\n",
       "      <td>8</td>\n",
       "      <td>24</td>\n",
       "      <td>74</td>\n",
       "      <td>0.070050</td>\n",
       "    </tr>\n",
       "    <tr>\n",
       "      <th>28</th>\n",
       "      <td>29</td>\n",
       "      <td>Item_29</td>\n",
       "      <td>Ring</td>\n",
       "      <td>11</td>\n",
       "      <td>75</td>\n",
       "      <td>9</td>\n",
       "      <td>81</td>\n",
       "      <td>95</td>\n",
       "      <td>0.069143</td>\n",
       "    </tr>\n",
       "    <tr>\n",
       "      <th>33</th>\n",
       "      <td>34</td>\n",
       "      <td>Item_34</td>\n",
       "      <td>Amulet</td>\n",
       "      <td>97</td>\n",
       "      <td>100</td>\n",
       "      <td>78</td>\n",
       "      <td>35</td>\n",
       "      <td>61</td>\n",
       "      <td>0.060923</td>\n",
       "    </tr>\n",
       "    <tr>\n",
       "      <th>41</th>\n",
       "      <td>42</td>\n",
       "      <td>Item_42</td>\n",
       "      <td>Ring</td>\n",
       "      <td>86</td>\n",
       "      <td>26</td>\n",
       "      <td>61</td>\n",
       "      <td>1</td>\n",
       "      <td>2</td>\n",
       "      <td>0.054635</td>\n",
       "    </tr>\n",
       "  </tbody>\n",
       "</table>\n",
       "</div>"
      ],
      "text/plain": [
       "    item_id item_name category  power_level  enchantment_level  durability  \\\n",
       "45       46   Item_46     Ring           99                 88          13   \n",
       "10       11   Item_11   Potion            3                 11           8   \n",
       "28       29   Item_29     Ring           11                 75           9   \n",
       "33       34   Item_34   Amulet           97                100          78   \n",
       "41       42   Item_42     Ring           86                 26          61   \n",
       "\n",
       "    rarity  age  outlier_score  \n",
       "45      29  100       0.076180  \n",
       "10      24   74       0.070050  \n",
       "28      81   95       0.069143  \n",
       "33      35   61       0.060923  \n",
       "41       1    2       0.054635  "
      ]
     },
     "execution_count": 117,
     "metadata": {},
     "output_type": "execute_result"
    }
   ],
   "source": [
    "attribute_columns = ['power_level', 'enchantment_level', 'durability', 'rarity', 'age']\n",
    "\n",
    "isolation_forest = IsolationForest(n_estimators=100, contamination='auto', random_state=69)\n",
    "\n",
    "isolation_forest.fit(enchanted_items[attribute_columns])\n",
    "\n",
    "outlier_scores = isolation_forest.decision_function(enchanted_items[attribute_columns])\n",
    "\n",
    "enchanted_items['outlier_score'] = -outlier_scores\n",
    "\n",
    "enchanted_items.sort_values(by='outlier_score', ascending=False).head(5)"
   ]
  },
  {
   "cell_type": "markdown",
   "id": "5dd1ea75",
   "metadata": {},
   "source": [
    "### Question 19.2: Determine the average value of each attribute for the non-anomalous items."
   ]
  },
  {
   "cell_type": "code",
   "execution_count": 118,
   "id": "23fddc89",
   "metadata": {},
   "outputs": [
    {
     "data": {
      "text/plain": [
       "power_level          54.750000\n",
       "enchantment_level    48.214286\n",
       "durability           56.714286\n",
       "rarity               44.785714\n",
       "age                  44.464286\n",
       "dtype: float64"
      ]
     },
     "execution_count": 118,
     "metadata": {},
     "output_type": "execute_result"
    }
   ],
   "source": [
    "non_anomalous_items = enchanted_items[enchanted_items['outlier_score'] <= 0]\n",
    "\n",
    "non_anomalous_items[['power_level', 'enchantment_level', 'durability', 'rarity', 'age']].mean()"
   ]
  },
  {
   "cell_type": "markdown",
   "id": "567ad71d",
   "metadata": {},
   "source": [
    "### Question 19.3: Calculate the number of anomalies detected for each item category."
   ]
  },
  {
   "cell_type": "code",
   "execution_count": 119,
   "id": "1113adbf",
   "metadata": {},
   "outputs": [
    {
     "data": {
      "text/plain": [
       "category\n",
       "Amulet    6\n",
       "Potion    5\n",
       "Ring      4\n",
       "Scroll    3\n",
       "Wand      4\n",
       "dtype: int64"
      ]
     },
     "execution_count": 119,
     "metadata": {},
     "output_type": "execute_result"
    }
   ],
   "source": [
    "anomalous_items = enchanted_items[enchanted_items['outlier_score'] > 0]\n",
    "\n",
    "anomalous_items.groupby('category').size()"
   ]
  },
  {
   "cell_type": "markdown",
   "id": "6952572f",
   "metadata": {},
   "source": [
    "### Question 19.4: Find the item with the most extreme outlier score in each category."
   ]
  },
  {
   "cell_type": "code",
   "execution_count": 120,
   "id": "0dcd340d",
   "metadata": {},
   "outputs": [
    {
     "data": {
      "text/html": [
       "<div>\n",
       "<style scoped>\n",
       "    .dataframe tbody tr th:only-of-type {\n",
       "        vertical-align: middle;\n",
       "    }\n",
       "\n",
       "    .dataframe tbody tr th {\n",
       "        vertical-align: top;\n",
       "    }\n",
       "\n",
       "    .dataframe thead th {\n",
       "        text-align: right;\n",
       "    }\n",
       "</style>\n",
       "<table border=\"1\" class=\"dataframe\">\n",
       "  <thead>\n",
       "    <tr style=\"text-align: right;\">\n",
       "      <th></th>\n",
       "      <th>item_id</th>\n",
       "      <th>item_name</th>\n",
       "      <th>category</th>\n",
       "      <th>power_level</th>\n",
       "      <th>enchantment_level</th>\n",
       "      <th>durability</th>\n",
       "      <th>rarity</th>\n",
       "      <th>age</th>\n",
       "      <th>outlier_score</th>\n",
       "    </tr>\n",
       "  </thead>\n",
       "  <tbody>\n",
       "    <tr>\n",
       "      <th>33</th>\n",
       "      <td>34</td>\n",
       "      <td>Item_34</td>\n",
       "      <td>Amulet</td>\n",
       "      <td>97</td>\n",
       "      <td>100</td>\n",
       "      <td>78</td>\n",
       "      <td>35</td>\n",
       "      <td>61</td>\n",
       "      <td>0.060923</td>\n",
       "    </tr>\n",
       "    <tr>\n",
       "      <th>10</th>\n",
       "      <td>11</td>\n",
       "      <td>Item_11</td>\n",
       "      <td>Potion</td>\n",
       "      <td>3</td>\n",
       "      <td>11</td>\n",
       "      <td>8</td>\n",
       "      <td>24</td>\n",
       "      <td>74</td>\n",
       "      <td>0.070050</td>\n",
       "    </tr>\n",
       "    <tr>\n",
       "      <th>45</th>\n",
       "      <td>46</td>\n",
       "      <td>Item_46</td>\n",
       "      <td>Ring</td>\n",
       "      <td>99</td>\n",
       "      <td>88</td>\n",
       "      <td>13</td>\n",
       "      <td>29</td>\n",
       "      <td>100</td>\n",
       "      <td>0.076180</td>\n",
       "    </tr>\n",
       "    <tr>\n",
       "      <th>21</th>\n",
       "      <td>22</td>\n",
       "      <td>Item_22</td>\n",
       "      <td>Scroll</td>\n",
       "      <td>27</td>\n",
       "      <td>5</td>\n",
       "      <td>83</td>\n",
       "      <td>58</td>\n",
       "      <td>43</td>\n",
       "      <td>0.022396</td>\n",
       "    </tr>\n",
       "    <tr>\n",
       "      <th>27</th>\n",
       "      <td>28</td>\n",
       "      <td>Item_28</td>\n",
       "      <td>Wand</td>\n",
       "      <td>69</td>\n",
       "      <td>6</td>\n",
       "      <td>19</td>\n",
       "      <td>37</td>\n",
       "      <td>1</td>\n",
       "      <td>0.043958</td>\n",
       "    </tr>\n",
       "  </tbody>\n",
       "</table>\n",
       "</div>"
      ],
      "text/plain": [
       "    item_id item_name category  power_level  enchantment_level  durability  \\\n",
       "33       34   Item_34   Amulet           97                100          78   \n",
       "10       11   Item_11   Potion            3                 11           8   \n",
       "45       46   Item_46     Ring           99                 88          13   \n",
       "21       22   Item_22   Scroll           27                  5          83   \n",
       "27       28   Item_28     Wand           69                  6          19   \n",
       "\n",
       "    rarity  age  outlier_score  \n",
       "33      35   61       0.060923  \n",
       "10      24   74       0.070050  \n",
       "45      29  100       0.076180  \n",
       "21      58   43       0.022396  \n",
       "27      37    1       0.043958  "
      ]
     },
     "execution_count": 120,
     "metadata": {},
     "output_type": "execute_result"
    }
   ],
   "source": [
    "enchanted_items.loc[enchanted_items.groupby('category')['outlier_score'].idxmax()]"
   ]
  },
  {
   "cell_type": "markdown",
   "id": "28225c3d",
   "metadata": {},
   "source": [
    "### Question 19.5: Visualize the distribution of outlier scores across all items using a box plot."
   ]
  },
  {
   "cell_type": "code",
   "execution_count": 121,
   "id": "37ce1ab8",
   "metadata": {},
   "outputs": [
    {
     "data": {
      "text/plain": [
       "Text(0.5, 0, 'Outlier score')"
      ]
     },
     "execution_count": 121,
     "metadata": {},
     "output_type": "execute_result"
    },
    {
     "data": {
      "image/png": "[encoded data removed]",
      "text/plain": [
       "<Figure size 640x480 with 1 Axes>"
      ]
     },
     "metadata": {},
     "output_type": "display_data"
    }
   ],
   "source": [
    "sns.boxplot(x=enchanted_items['outlier_score'])\n",
    "\n",
    "plt.title('Distribution of outlier scores across all items')\n",
    "plt.xlabel('Outlier score')"
   ]
  },
  {
   "cell_type": "markdown",
   "id": "29986381",
   "metadata": {},
   "source": [
    "## Q20 - Imputation Imbroglio <a class=\"anchor\" id=\"chapter20\"></a>\n",
    "\n",
    "Question: Welcome to Imputation Imbroglio! You are given a dataset of mystical potions and their unique attributes. Each potion has various properties, and some of these properties have missing values. Your task is to handle these missing values to answer the following questions:\n",
    "\n",
    "1. Impute the missing values using the mean for numeric attributes.\n",
    "2. Impute the missing values using the most frequent value for categorical attributes.\n",
    "3. Calculate the mean and median of each numeric attribute after imputation.\n",
    "4. Determine the most common value for each categorical attribute after imputation.\n",
    "5. Create visualizations to compare the distribution of attributes before and after imputation.\n",
    "\n",
    "Datasets:\n",
    "\n",
    "mystical_potions: Contains columns (potion_id, potion_name, type, potency, color, viscosity, rarity)."
   ]
  },
  {
   "cell_type": "code",
   "execution_count": 122,
   "id": "b047130f",
   "metadata": {},
   "outputs": [
    {
     "name": "stdout",
     "output_type": "stream",
     "text": [
      "Mystical Potions DataFrame:\n",
      "   potion_id potion_name      type  potency   color  viscosity  rarity\n",
      "0          1    Potion_1      Mana     97.0    Blue   0.762692     8.0\n",
      "1          2    Potion_2   Healing      9.0   Green   0.420097     2.0\n",
      "2          3    Potion_3     Speed     68.0     Red   0.406984     1.0\n",
      "3          4    Potion_4     Speed     68.0  Purple        NaN     3.0\n",
      "4          5    Potion_5  Strength      NaN   Green   0.295391     9.0\n"
     ]
    }
   ],
   "source": [
    "# Seed for reproducibility\n",
    "np.random.seed(2020)\n",
    "\n",
    "# Generate synthetic data\n",
    "potion_ids = np.arange(1, 21)\n",
    "potion_names = [f'Potion_{i}' for i in potion_ids]\n",
    "types = ['Healing', 'Mana', 'Strength', 'Speed', 'Invisibility']\n",
    "colors = ['Red', 'Blue', 'Green', 'Yellow', 'Purple']\n",
    "attributes = {\n",
    "    'potency': np.random.randint(1, 101, size=20).astype(float),\n",
    "    'viscosity': np.random.uniform(0.1, 1.0, size=20).astype(float),\n",
    "    'rarity': np.random.randint(1, 11, size=20).astype(float)\n",
    "}\n",
    "\n",
    "data = []\n",
    "for potion_id, potion_name in zip(potion_ids, potion_names):\n",
    "    type_ = np.random.choice(types)\n",
    "    color = np.random.choice(colors)\n",
    "    potency = attributes['potency'][potion_id - 1] if np.random.rand() > 0.1 else np.nan  # Introduce some NaNs\n",
    "    viscosity = attributes['viscosity'][potion_id - 1] if np.random.rand() > 0.1 else np.nan  # Introduce some NaNs\n",
    "    rarity = attributes['rarity'][potion_id - 1] if np.random.rand() > 0.1 else np.nan  # Introduce some NaNs\n",
    "    data.append([potion_id, potion_name, type_, potency, color, viscosity, rarity])\n",
    "\n",
    "# Create DataFrame\n",
    "mystical_potions = pd.DataFrame(data, columns=['potion_id', 'potion_name', 'type', 'potency', 'color', 'viscosity', 'rarity'])\n",
    "\n",
    "# Display the dataset\n",
    "print(\"Mystical Potions DataFrame:\")\n",
    "print(mystical_potions.head(5))"
   ]
  },
  {
   "cell_type": "markdown",
   "id": "9a92099b",
   "metadata": {},
   "source": [
    "### Question 20.1: Impute the missing values using the mean for numeric attributes."
   ]
  },
  {
   "cell_type": "code",
   "execution_count": 123,
   "id": "f02804ca",
   "metadata": {},
   "outputs": [
    {
     "data": {
      "text/plain": [
       "0    97.0000\n",
       "1     9.0000\n",
       "2    68.0000\n",
       "3    68.0000\n",
       "4    52.9375\n",
       "Name: potency, dtype: float64"
      ]
     },
     "execution_count": 123,
     "metadata": {},
     "output_type": "execute_result"
    }
   ],
   "source": [
    "# an unaltered copy to use for comparison in question 20.5\n",
    "mystical_potions_copy = mystical_potions\n",
    "\n",
    "\n",
    "numeric_columns = ['potency', 'viscosity', 'rarity']\n",
    "\n",
    "imputer = SimpleImputer(strategy='mean')\n",
    "\n",
    "mystical_potions[numeric_columns] = imputer.fit_transform(mystical_potions[numeric_columns])\n",
    "\n",
    "mystical_potions['potency'].head(5)"
   ]
  },
  {
   "cell_type": "markdown",
   "id": "60df796b",
   "metadata": {},
   "source": [
    "### Question 20.2: Impute the missing values using the most frequent value for categorical attributes."
   ]
  },
  {
   "cell_type": "code",
   "execution_count": 124,
   "id": "46e506cb",
   "metadata": {},
   "outputs": [
    {
     "data": {
      "text/plain": [
       "potion_id      0\n",
       "potion_name    0\n",
       "type           0\n",
       "potency        0\n",
       "color          0\n",
       "viscosity      0\n",
       "rarity         0\n",
       "dtype: int64"
      ]
     },
     "execution_count": 124,
     "metadata": {},
     "output_type": "execute_result"
    }
   ],
   "source": [
    "categorical_columns = ['type', 'color']\n",
    "\n",
    "imputer = SimpleImputer(strategy='most_frequent')\n",
    "\n",
    "mystical_potions[categorical_columns] = imputer.fit_transform(mystical_potions[categorical_columns])\n",
    "\n",
    "mystical_potions.isnull().sum()"
   ]
  },
  {
   "cell_type": "markdown",
   "id": "c9bf2b45",
   "metadata": {},
   "source": [
    "### Question 20.3: Calculate the mean and median of each numeric attribute after imputation."
   ]
  },
  {
   "cell_type": "code",
   "execution_count": 125,
   "id": "e51d4d82",
   "metadata": {},
   "outputs": [
    {
     "name": "stdout",
     "output_type": "stream",
     "text": [
      "Mean numeric attributes: \n",
      "potency      52.937500\n",
      "viscosity     0.504048\n",
      "rarity        5.950000\n",
      "dtype: float64\n",
      "\n",
      "Median numeric attributes: \n",
      "potency      52.937500\n",
      "viscosity     0.504048\n",
      "rarity        6.500000\n",
      "dtype: float64\n"
     ]
    }
   ],
   "source": [
    "print(f\"Mean numeric attributes: \\n{mystical_potions[numeric_columns].mean()}\\n\")\n",
    "print(f\"Median numeric attributes: \\n{mystical_potions[numeric_columns].median()}\")"
   ]
  },
  {
   "cell_type": "markdown",
   "id": "51656abf",
   "metadata": {},
   "source": [
    "### Question 20.4: Determine the most common value for each categorical attribute after imputation."
   ]
  },
  {
   "cell_type": "code",
   "execution_count": 126,
   "id": "eceed182",
   "metadata": {},
   "outputs": [
    {
     "data": {
      "text/plain": [
       "type      Mana\n",
       "color    Green\n",
       "Name: 0, dtype: object"
      ]
     },
     "execution_count": 126,
     "metadata": {},
     "output_type": "execute_result"
    }
   ],
   "source": [
    "mystical_potions[categorical_columns].mode().iloc[0]"
   ]
  },
  {
   "cell_type": "markdown",
   "id": "03a9144f",
   "metadata": {},
   "source": [
    "### Question 20.5: Create visualizations to compare the distribution of attributes before and after imputation."
   ]
  },
  {
   "cell_type": "code",
   "execution_count": 127,
   "id": "9d189538",
   "metadata": {},
   "outputs": [
    {
     "data": {
      "image/png": "[encoded data removed]",
      "text/plain": [
       "<Figure size 1500x1000 with 6 Axes>"
      ]
     },
     "metadata": {},
     "output_type": "display_data"
    }
   ],
   "source": [
    "plt.figure(figsize=(15, 10))\n",
    "\n",
    "# Histograms before imputation\n",
    "for i, col in enumerate(['potency', 'viscosity', 'rarity']):\n",
    "    plt.subplot(2, 3, i + 1)\n",
    "    sns.histplot(mystical_potions[col].dropna(), kde=True)\n",
    "    plt.title(f'{col.capitalize()} (Before Imputation)')\n",
    "    plt.xlabel(col.capitalize())\n",
    "    plt.ylabel('Frequency')\n",
    "\n",
    "# Box plots before imputation\n",
    "for i, col in enumerate(['potency', 'viscosity', 'rarity']):\n",
    "    plt.subplot(2, 3, i + 4)\n",
    "    sns.boxplot(y=mystical_potions[col].dropna())\n",
    "    plt.title(f'{col.capitalize()} (Before Imputation)')\n",
    "    plt.ylabel(col.capitalize())\n",
    "\n",
    "plt.tight_layout()\n",
    "plt.show()"
   ]
  },
  {
   "cell_type": "code",
   "execution_count": 128,
   "id": "a44520db",
   "metadata": {},
   "outputs": [
    {
     "data": {
      "image/png": "[encoded data removed]",
      "text/plain": [
       "<Figure size 1500x1000 with 6 Axes>"
      ]
     },
     "metadata": {},
     "output_type": "display_data"
    }
   ],
   "source": [
    "plt.figure(figsize=(15, 10))\n",
    "\n",
    "# Histograms after imputation\n",
    "for i, col in enumerate(['potency', 'viscosity', 'rarity']):\n",
    "    plt.subplot(2, 3, i + 1)\n",
    "    sns.histplot(mystical_potions[col], kde=True)\n",
    "    plt.title(f'{col.capitalize()} (After Imputation)')\n",
    "    plt.xlabel(col.capitalize())\n",
    "    plt.ylabel('Frequency')\n",
    "\n",
    "# Box plots after imputation\n",
    "for i, col in enumerate(['potency', 'viscosity', 'rarity']):\n",
    "    plt.subplot(2, 3, i + 4)\n",
    "    sns.boxplot(y=mystical_potions[col])\n",
    "    plt.title(f'{col.capitalize()} (After Imputation)')\n",
    "    plt.ylabel(col.capitalize())\n",
    "\n",
    "plt.tight_layout()\n",
    "plt.show()"
   ]
  }
 ],
 "metadata": {
  "kernelspec": {
   "display_name": "Python 3 (ipykernel)",
   "language": "python",
   "name": "python3"
  },
  "language_info": {
   "codemirror_mode": {
    "name": "ipython",
    "version": 3
   },
   "file_extension": ".py",
   "mimetype": "text/x-python",
   "name": "python",
   "nbconvert_exporter": "python",
   "pygments_lexer": "ipython3",
   "version": "3.11.4"
  }
 },
 "nbformat": 4,
 "nbformat_minor": 5
}
